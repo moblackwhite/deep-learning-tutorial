{
 "cells": [
  {
   "cell_type": "code",
   "execution_count": 1,
   "id": "initial_id",
   "metadata": {
    "collapsed": true,
    "ExecuteTime": {
     "start_time": "2023-10-14T12:04:08.401803100Z"
    }
   },
   "outputs": [],
   "source": [
    "import torch\n",
    "from torch import nn\n",
    "from d2l import torch as d2l"
   ]
  },
  {
   "cell_type": "code",
   "execution_count": 2,
   "outputs": [],
   "source": [
    "class Reshape(torch.nn.Module):\n",
    "    def forward(self, x):\n",
    "        return x.view(-1, 1, 28, 28)"
   ],
   "metadata": {
    "collapsed": false,
    "ExecuteTime": {
     "start_time": "2023-10-14T12:04:11.749093600Z"
    }
   },
   "id": "d7dae9bc411846cf"
  },
  {
   "cell_type": "code",
   "execution_count": 3,
   "outputs": [],
   "source": [
    "net = torch.nn.Sequential(\n",
    "    Reshape(),\n",
    "    nn.Conv2d(1, 6, kernel_size=5, padding=2), nn.Sigmoid(),\n",
    "    nn.AvgPool2d(2, stride=2),\n",
    "    nn.Conv2d(6, 16, kernel_size=5), nn.Sigmoid(),\n",
    "    nn.AvgPool2d(kernel_size=2, stride=2), nn.Flatten(),\n",
    "    nn.Linear(16 * 5 * 5, 120), nn.Sigmoid(),\n",
    "    nn.Linear(120, 84), nn.Sigmoid(),\n",
    "    nn.Linear(84, 10)\n",
    ")"
   ],
   "metadata": {
    "collapsed": false,
    "ExecuteTime": {
     "start_time": "2023-10-14T12:04:11.764094300Z"
    }
   },
   "id": "b66bec14efb8bb80"
  },
  {
   "cell_type": "code",
   "execution_count": 4,
   "outputs": [
    {
     "name": "stdout",
     "output_type": "stream",
     "text": [
      "Reshape output shape: \t torch.Size([1, 1, 28, 28])\n",
      "Conv2d output shape: \t torch.Size([1, 6, 28, 28])\n",
      "Sigmoid output shape: \t torch.Size([1, 6, 28, 28])\n",
      "AvgPool2d output shape: \t torch.Size([1, 6, 14, 14])\n",
      "Conv2d output shape: \t torch.Size([1, 16, 10, 10])\n",
      "Sigmoid output shape: \t torch.Size([1, 16, 10, 10])\n",
      "AvgPool2d output shape: \t torch.Size([1, 16, 5, 5])\n",
      "Flatten output shape: \t torch.Size([1, 400])\n",
      "Linear output shape: \t torch.Size([1, 120])\n",
      "Sigmoid output shape: \t torch.Size([1, 120])\n",
      "Linear output shape: \t torch.Size([1, 84])\n",
      "Sigmoid output shape: \t torch.Size([1, 84])\n",
      "Linear output shape: \t torch.Size([1, 10])\n"
     ]
    }
   ],
   "source": [
    "X = torch.rand(size=(1, 1, 28, 28), dtype=torch.float32)\n",
    "for layer in net:\n",
    "    X = layer(X)\n",
    "    print(layer.__class__.__name__, 'output shape: \\t', X.shape)"
   ],
   "metadata": {
    "collapsed": false,
    "ExecuteTime": {
     "start_time": "2023-10-14T12:04:11.780093800Z"
    }
   },
   "id": "ed72579dc2399085"
  },
  {
   "cell_type": "code",
   "execution_count": 5,
   "outputs": [],
   "source": [
    "batch_size = 256\n",
    "train_iter, test_iter = d2l.load_data_fashion_mnist(batch_size=batch_size)"
   ],
   "metadata": {
    "collapsed": false,
    "ExecuteTime": {
     "start_time": "2023-10-14T12:04:11.811093100Z"
    }
   },
   "id": "2dd8255454d5f317"
  },
  {
   "cell_type": "code",
   "execution_count": 6,
   "outputs": [],
   "source": [
    "def evaluate_accuracy_gpu(net, data_iter, device=None):\n",
    "    if isinstance(net, torch.nn.Module):\n",
    "        net.eval()\n",
    "        if not device:\n",
    "            device = next(iter(net.parameters())).device\n",
    "    metric = d2l.Accumulator(2)\n",
    "    for X, y in data_iter:\n",
    "        if isinstance(X, list):\n",
    "            X = [x.to(device) for x in X]\n",
    "        else:\n",
    "            X = X.to(device)\n",
    "        y = y.to(device)\n",
    "        metric.add(d2l.accuracy(net(X), y), y.numel())\n",
    "    return metric[0] / metric[1]"
   ],
   "metadata": {
    "collapsed": false,
    "ExecuteTime": {
     "start_time": "2023-10-14T12:04:11.842092800Z"
    }
   },
   "id": "b482cc5f12deb0e3"
  },
  {
   "cell_type": "code",
   "execution_count": 7,
   "outputs": [],
   "source": [
    "def train_ch6(net: torch.nn.Sequential, train_iter, test_iter, num_epochs, lr, device):\n",
    "    def init_weights(m):\n",
    "        if type(m) == nn.Linear or type(m) == nn.Conv2d:\n",
    "            nn.init.xavier_uniform_(m.weight)\n",
    "    net.apply(init_weights)\n",
    "    print('training on', device)\n",
    "    net.to(device)\n",
    "    optimizer = torch.optim.SGD(net.parameters(), lr=lr)\n",
    "    loss = nn.CrossEntropyLoss()\n",
    "    animator = d2l.Animator(xlabel='epoch', xlim=[1, num_epochs],\n",
    "                            legend=['train loss', 'train acc', 'test acc'])\n",
    "    timer, num_batches = d2l.Timer(), len(train_iter)\n",
    "    for epoch in range(num_epochs):\n",
    "        # Because it is trained in multiple batches, we need to accumulate the values for each batch\n",
    "        # metric denotes \n",
    "        # (sum of training losses, sum of training accuracies, number of samples, respectively)\n",
    "        metric = d2l.Accumulator(3)\n",
    "        net.train()\n",
    "        for i, (X, y) in enumerate(train_iter):\n",
    "            timer.start()\n",
    "            optimizer.zero_grad()\n",
    "            X, y = X.to(device), y.to(device)\n",
    "            y_hat = net(X)\n",
    "            l = loss(y_hat, y)\n",
    "            l.backward()\n",
    "            optimizer.step()\n",
    "            with torch.no_grad():\n",
    "                metric.add(l * X.shape[0], d2l.accuracy(y_hat, y), X.shape[0])\n",
    "            timer.stop()\n",
    "            train_l = metric[0] / metric[2]\n",
    "            train_acc = metric[1] / metric[2]\n",
    "            if (i + 1) % (num_epochs // 5) == 0 or i == batch_size - 1:\n",
    "                animator.add(epoch + (i + 1) / num_batches,\n",
    "                             (train_l, train_acc, None))\n",
    "        test_acc = evaluate_accuracy_gpu(net, test_iter)\n",
    "        animator.add(epoch + 1, (None, None, test_acc))\n",
    "    print(f'loss {train_l:.3f}, train acc {train_acc:.3f}, '\n",
    "          f'test acc {test_acc:.3f}')\n",
    "    print(f'{metric[2] * num_epochs / timer.sum():.1f} examples/sec '\n",
    "          f'on {str(device)}')"
   ],
   "metadata": {
    "collapsed": false,
    "ExecuteTime": {
     "start_time": "2023-10-14T12:04:11.863092600Z"
    }
   },
   "id": "1e5557c9f23143fa"
  },
  {
   "cell_type": "code",
   "execution_count": 8,
   "outputs": [
    {
     "name": "stdout",
     "output_type": "stream",
     "text": [
      "loss 0.463, train acc 0.828, test acc 0.768\n",
      "23088.1 examples/sec on cuda:0\n"
     ]
    },
    {
     "data": {
      "text/plain": "<Figure size 350x250 with 1 Axes>",
      "image/svg+xml": "<?xml version=\"1.0\" encoding=\"utf-8\" standalone=\"no\"?>\n<!DOCTYPE svg PUBLIC \"-//W3C//DTD SVG 1.1//EN\"\n  \"http://www.w3.org/Graphics/SVG/1.1/DTD/svg11.dtd\">\n<svg xmlns:xlink=\"http://www.w3.org/1999/xlink\" width=\"238.965625pt\" height=\"183.35625pt\" viewBox=\"0 0 238.965625 183.35625\" xmlns=\"http://www.w3.org/2000/svg\" version=\"1.1\">\n <metadata>\n  <rdf:RDF xmlns:dc=\"http://purl.org/dc/elements/1.1/\" xmlns:cc=\"http://creativecommons.org/ns#\" xmlns:rdf=\"http://www.w3.org/1999/02/22-rdf-syntax-ns#\">\n   <cc:Work>\n    <dc:type rdf:resource=\"http://purl.org/dc/dcmitype/StillImage\"/>\n    <dc:date>2023-10-14T20:07:59.108352</dc:date>\n    <dc:format>image/svg+xml</dc:format>\n    <dc:creator>\n     <cc:Agent>\n      <dc:title>Matplotlib v3.7.2, https://matplotlib.org/</dc:title>\n     </cc:Agent>\n    </dc:creator>\n   </cc:Work>\n  </rdf:RDF>\n </metadata>\n <defs>\n  <style type=\"text/css\">*{stroke-linejoin: round; stroke-linecap: butt}</style>\n </defs>\n <g id=\"figure_1\">\n  <g id=\"patch_1\">\n   <path d=\"M 0 183.35625 \nL 238.965625 183.35625 \nL 238.965625 0 \nL 0 0 \nz\n\" style=\"fill: #ffffff\"/>\n  </g>\n  <g id=\"axes_1\">\n   <g id=\"patch_2\">\n    <path d=\"M 30.103125 145.8 \nL 225.403125 145.8 \nL 225.403125 7.2 \nL 30.103125 7.2 \nz\n\" style=\"fill: #ffffff\"/>\n   </g>\n   <g id=\"matplotlib.axis_1\">\n    <g id=\"xtick_1\">\n     <g id=\"line2d_1\">\n      <path d=\"M 51.803125 145.8 \nL 51.803125 7.2 \n\" clip-path=\"url(#p74d270e0cf)\" style=\"fill: none; stroke: #b0b0b0; stroke-width: 0.8; stroke-linecap: square\"/>\n     </g>\n     <g id=\"line2d_2\">\n      <defs>\n       <path id=\"m9c7e19c807\" d=\"M 0 0 \nL 0 3.5 \n\" style=\"stroke: #000000; stroke-width: 0.8\"/>\n      </defs>\n      <g>\n       <use xlink:href=\"#m9c7e19c807\" x=\"51.803125\" y=\"145.8\" style=\"stroke: #000000; stroke-width: 0.8\"/>\n      </g>\n     </g>\n     <g id=\"text_1\">\n      <!-- 2 -->\n      <g transform=\"translate(48.621875 160.398438) scale(0.1 -0.1)\">\n       <defs>\n        <path id=\"DejaVuSans-32\" d=\"M 1228 531 \nL 3431 531 \nL 3431 0 \nL 469 0 \nL 469 531 \nQ 828 903 1448 1529 \nQ 2069 2156 2228 2338 \nQ 2531 2678 2651 2914 \nQ 2772 3150 2772 3378 \nQ 2772 3750 2511 3984 \nQ 2250 4219 1831 4219 \nQ 1534 4219 1204 4116 \nQ 875 4013 500 3803 \nL 500 4441 \nQ 881 4594 1212 4672 \nQ 1544 4750 1819 4750 \nQ 2544 4750 2975 4387 \nQ 3406 4025 3406 3419 \nQ 3406 3131 3298 2873 \nQ 3191 2616 2906 2266 \nQ 2828 2175 2409 1742 \nQ 1991 1309 1228 531 \nz\n\" transform=\"scale(0.015625)\"/>\n       </defs>\n       <use xlink:href=\"#DejaVuSans-32\"/>\n      </g>\n     </g>\n    </g>\n    <g id=\"xtick_2\">\n     <g id=\"line2d_3\">\n      <path d=\"M 95.203125 145.8 \nL 95.203125 7.2 \n\" clip-path=\"url(#p74d270e0cf)\" style=\"fill: none; stroke: #b0b0b0; stroke-width: 0.8; stroke-linecap: square\"/>\n     </g>\n     <g id=\"line2d_4\">\n      <g>\n       <use xlink:href=\"#m9c7e19c807\" x=\"95.203125\" y=\"145.8\" style=\"stroke: #000000; stroke-width: 0.8\"/>\n      </g>\n     </g>\n     <g id=\"text_2\">\n      <!-- 4 -->\n      <g transform=\"translate(92.021875 160.398438) scale(0.1 -0.1)\">\n       <defs>\n        <path id=\"DejaVuSans-34\" d=\"M 2419 4116 \nL 825 1625 \nL 2419 1625 \nL 2419 4116 \nz\nM 2253 4666 \nL 3047 4666 \nL 3047 1625 \nL 3713 1625 \nL 3713 1100 \nL 3047 1100 \nL 3047 0 \nL 2419 0 \nL 2419 1100 \nL 313 1100 \nL 313 1709 \nL 2253 4666 \nz\n\" transform=\"scale(0.015625)\"/>\n       </defs>\n       <use xlink:href=\"#DejaVuSans-34\"/>\n      </g>\n     </g>\n    </g>\n    <g id=\"xtick_3\">\n     <g id=\"line2d_5\">\n      <path d=\"M 138.603125 145.8 \nL 138.603125 7.2 \n\" clip-path=\"url(#p74d270e0cf)\" style=\"fill: none; stroke: #b0b0b0; stroke-width: 0.8; stroke-linecap: square\"/>\n     </g>\n     <g id=\"line2d_6\">\n      <g>\n       <use xlink:href=\"#m9c7e19c807\" x=\"138.603125\" y=\"145.8\" style=\"stroke: #000000; stroke-width: 0.8\"/>\n      </g>\n     </g>\n     <g id=\"text_3\">\n      <!-- 6 -->\n      <g transform=\"translate(135.421875 160.398438) scale(0.1 -0.1)\">\n       <defs>\n        <path id=\"DejaVuSans-36\" d=\"M 2113 2584 \nQ 1688 2584 1439 2293 \nQ 1191 2003 1191 1497 \nQ 1191 994 1439 701 \nQ 1688 409 2113 409 \nQ 2538 409 2786 701 \nQ 3034 994 3034 1497 \nQ 3034 2003 2786 2293 \nQ 2538 2584 2113 2584 \nz\nM 3366 4563 \nL 3366 3988 \nQ 3128 4100 2886 4159 \nQ 2644 4219 2406 4219 \nQ 1781 4219 1451 3797 \nQ 1122 3375 1075 2522 \nQ 1259 2794 1537 2939 \nQ 1816 3084 2150 3084 \nQ 2853 3084 3261 2657 \nQ 3669 2231 3669 1497 \nQ 3669 778 3244 343 \nQ 2819 -91 2113 -91 \nQ 1303 -91 875 529 \nQ 447 1150 447 2328 \nQ 447 3434 972 4092 \nQ 1497 4750 2381 4750 \nQ 2619 4750 2861 4703 \nQ 3103 4656 3366 4563 \nz\n\" transform=\"scale(0.015625)\"/>\n       </defs>\n       <use xlink:href=\"#DejaVuSans-36\"/>\n      </g>\n     </g>\n    </g>\n    <g id=\"xtick_4\">\n     <g id=\"line2d_7\">\n      <path d=\"M 182.003125 145.8 \nL 182.003125 7.2 \n\" clip-path=\"url(#p74d270e0cf)\" style=\"fill: none; stroke: #b0b0b0; stroke-width: 0.8; stroke-linecap: square\"/>\n     </g>\n     <g id=\"line2d_8\">\n      <g>\n       <use xlink:href=\"#m9c7e19c807\" x=\"182.003125\" y=\"145.8\" style=\"stroke: #000000; stroke-width: 0.8\"/>\n      </g>\n     </g>\n     <g id=\"text_4\">\n      <!-- 8 -->\n      <g transform=\"translate(178.821875 160.398438) scale(0.1 -0.1)\">\n       <defs>\n        <path id=\"DejaVuSans-38\" d=\"M 2034 2216 \nQ 1584 2216 1326 1975 \nQ 1069 1734 1069 1313 \nQ 1069 891 1326 650 \nQ 1584 409 2034 409 \nQ 2484 409 2743 651 \nQ 3003 894 3003 1313 \nQ 3003 1734 2745 1975 \nQ 2488 2216 2034 2216 \nz\nM 1403 2484 \nQ 997 2584 770 2862 \nQ 544 3141 544 3541 \nQ 544 4100 942 4425 \nQ 1341 4750 2034 4750 \nQ 2731 4750 3128 4425 \nQ 3525 4100 3525 3541 \nQ 3525 3141 3298 2862 \nQ 3072 2584 2669 2484 \nQ 3125 2378 3379 2068 \nQ 3634 1759 3634 1313 \nQ 3634 634 3220 271 \nQ 2806 -91 2034 -91 \nQ 1263 -91 848 271 \nQ 434 634 434 1313 \nQ 434 1759 690 2068 \nQ 947 2378 1403 2484 \nz\nM 1172 3481 \nQ 1172 3119 1398 2916 \nQ 1625 2713 2034 2713 \nQ 2441 2713 2670 2916 \nQ 2900 3119 2900 3481 \nQ 2900 3844 2670 4047 \nQ 2441 4250 2034 4250 \nQ 1625 4250 1398 4047 \nQ 1172 3844 1172 3481 \nz\n\" transform=\"scale(0.015625)\"/>\n       </defs>\n       <use xlink:href=\"#DejaVuSans-38\"/>\n      </g>\n     </g>\n    </g>\n    <g id=\"xtick_5\">\n     <g id=\"line2d_9\">\n      <path d=\"M 225.403125 145.8 \nL 225.403125 7.2 \n\" clip-path=\"url(#p74d270e0cf)\" style=\"fill: none; stroke: #b0b0b0; stroke-width: 0.8; stroke-linecap: square\"/>\n     </g>\n     <g id=\"line2d_10\">\n      <g>\n       <use xlink:href=\"#m9c7e19c807\" x=\"225.403125\" y=\"145.8\" style=\"stroke: #000000; stroke-width: 0.8\"/>\n      </g>\n     </g>\n     <g id=\"text_5\">\n      <!-- 10 -->\n      <g transform=\"translate(219.040625 160.398438) scale(0.1 -0.1)\">\n       <defs>\n        <path id=\"DejaVuSans-31\" d=\"M 794 531 \nL 1825 531 \nL 1825 4091 \nL 703 3866 \nL 703 4441 \nL 1819 4666 \nL 2450 4666 \nL 2450 531 \nL 3481 531 \nL 3481 0 \nL 794 0 \nL 794 531 \nz\n\" transform=\"scale(0.015625)\"/>\n        <path id=\"DejaVuSans-30\" d=\"M 2034 4250 \nQ 1547 4250 1301 3770 \nQ 1056 3291 1056 2328 \nQ 1056 1369 1301 889 \nQ 1547 409 2034 409 \nQ 2525 409 2770 889 \nQ 3016 1369 3016 2328 \nQ 3016 3291 2770 3770 \nQ 2525 4250 2034 4250 \nz\nM 2034 4750 \nQ 2819 4750 3233 4129 \nQ 3647 3509 3647 2328 \nQ 3647 1150 3233 529 \nQ 2819 -91 2034 -91 \nQ 1250 -91 836 529 \nQ 422 1150 422 2328 \nQ 422 3509 836 4129 \nQ 1250 4750 2034 4750 \nz\n\" transform=\"scale(0.015625)\"/>\n       </defs>\n       <use xlink:href=\"#DejaVuSans-31\"/>\n       <use xlink:href=\"#DejaVuSans-30\" x=\"63.623047\"/>\n      </g>\n     </g>\n    </g>\n    <g id=\"text_6\">\n     <!-- epoch -->\n     <g transform=\"translate(112.525 174.076563) scale(0.1 -0.1)\">\n      <defs>\n       <path id=\"DejaVuSans-65\" d=\"M 3597 1894 \nL 3597 1613 \nL 953 1613 \nQ 991 1019 1311 708 \nQ 1631 397 2203 397 \nQ 2534 397 2845 478 \nQ 3156 559 3463 722 \nL 3463 178 \nQ 3153 47 2828 -22 \nQ 2503 -91 2169 -91 \nQ 1331 -91 842 396 \nQ 353 884 353 1716 \nQ 353 2575 817 3079 \nQ 1281 3584 2069 3584 \nQ 2775 3584 3186 3129 \nQ 3597 2675 3597 1894 \nz\nM 3022 2063 \nQ 3016 2534 2758 2815 \nQ 2500 3097 2075 3097 \nQ 1594 3097 1305 2825 \nQ 1016 2553 972 2059 \nL 3022 2063 \nz\n\" transform=\"scale(0.015625)\"/>\n       <path id=\"DejaVuSans-70\" d=\"M 1159 525 \nL 1159 -1331 \nL 581 -1331 \nL 581 3500 \nL 1159 3500 \nL 1159 2969 \nQ 1341 3281 1617 3432 \nQ 1894 3584 2278 3584 \nQ 2916 3584 3314 3078 \nQ 3713 2572 3713 1747 \nQ 3713 922 3314 415 \nQ 2916 -91 2278 -91 \nQ 1894 -91 1617 61 \nQ 1341 213 1159 525 \nz\nM 3116 1747 \nQ 3116 2381 2855 2742 \nQ 2594 3103 2138 3103 \nQ 1681 3103 1420 2742 \nQ 1159 2381 1159 1747 \nQ 1159 1113 1420 752 \nQ 1681 391 2138 391 \nQ 2594 391 2855 752 \nQ 3116 1113 3116 1747 \nz\n\" transform=\"scale(0.015625)\"/>\n       <path id=\"DejaVuSans-6f\" d=\"M 1959 3097 \nQ 1497 3097 1228 2736 \nQ 959 2375 959 1747 \nQ 959 1119 1226 758 \nQ 1494 397 1959 397 \nQ 2419 397 2687 759 \nQ 2956 1122 2956 1747 \nQ 2956 2369 2687 2733 \nQ 2419 3097 1959 3097 \nz\nM 1959 3584 \nQ 2709 3584 3137 3096 \nQ 3566 2609 3566 1747 \nQ 3566 888 3137 398 \nQ 2709 -91 1959 -91 \nQ 1206 -91 779 398 \nQ 353 888 353 1747 \nQ 353 2609 779 3096 \nQ 1206 3584 1959 3584 \nz\n\" transform=\"scale(0.015625)\"/>\n       <path id=\"DejaVuSans-63\" d=\"M 3122 3366 \nL 3122 2828 \nQ 2878 2963 2633 3030 \nQ 2388 3097 2138 3097 \nQ 1578 3097 1268 2742 \nQ 959 2388 959 1747 \nQ 959 1106 1268 751 \nQ 1578 397 2138 397 \nQ 2388 397 2633 464 \nQ 2878 531 3122 666 \nL 3122 134 \nQ 2881 22 2623 -34 \nQ 2366 -91 2075 -91 \nQ 1284 -91 818 406 \nQ 353 903 353 1747 \nQ 353 2603 823 3093 \nQ 1294 3584 2113 3584 \nQ 2378 3584 2631 3529 \nQ 2884 3475 3122 3366 \nz\n\" transform=\"scale(0.015625)\"/>\n       <path id=\"DejaVuSans-68\" d=\"M 3513 2113 \nL 3513 0 \nL 2938 0 \nL 2938 2094 \nQ 2938 2591 2744 2837 \nQ 2550 3084 2163 3084 \nQ 1697 3084 1428 2787 \nQ 1159 2491 1159 1978 \nL 1159 0 \nL 581 0 \nL 581 4863 \nL 1159 4863 \nL 1159 2956 \nQ 1366 3272 1645 3428 \nQ 1925 3584 2291 3584 \nQ 2894 3584 3203 3211 \nQ 3513 2838 3513 2113 \nz\n\" transform=\"scale(0.015625)\"/>\n      </defs>\n      <use xlink:href=\"#DejaVuSans-65\"/>\n      <use xlink:href=\"#DejaVuSans-70\" x=\"61.523438\"/>\n      <use xlink:href=\"#DejaVuSans-6f\" x=\"125\"/>\n      <use xlink:href=\"#DejaVuSans-63\" x=\"186.181641\"/>\n      <use xlink:href=\"#DejaVuSans-68\" x=\"241.162109\"/>\n     </g>\n    </g>\n   </g>\n   <g id=\"matplotlib.axis_2\">\n    <g id=\"ytick_1\">\n     <g id=\"line2d_11\">\n      <path d=\"M 30.103125 144.245854 \nL 225.403125 144.245854 \n\" clip-path=\"url(#p74d270e0cf)\" style=\"fill: none; stroke: #b0b0b0; stroke-width: 0.8; stroke-linecap: square\"/>\n     </g>\n     <g id=\"line2d_12\">\n      <defs>\n       <path id=\"m513249b406\" d=\"M 0 0 \nL -3.5 0 \n\" style=\"stroke: #000000; stroke-width: 0.8\"/>\n      </defs>\n      <g>\n       <use xlink:href=\"#m513249b406\" x=\"30.103125\" y=\"144.245854\" style=\"stroke: #000000; stroke-width: 0.8\"/>\n      </g>\n     </g>\n     <g id=\"text_7\">\n      <!-- 0.0 -->\n      <g transform=\"translate(7.2 148.045073) scale(0.1 -0.1)\">\n       <defs>\n        <path id=\"DejaVuSans-2e\" d=\"M 684 794 \nL 1344 794 \nL 1344 0 \nL 684 0 \nL 684 794 \nz\n\" transform=\"scale(0.015625)\"/>\n       </defs>\n       <use xlink:href=\"#DejaVuSans-30\"/>\n       <use xlink:href=\"#DejaVuSans-2e\" x=\"63.623047\"/>\n       <use xlink:href=\"#DejaVuSans-30\" x=\"95.410156\"/>\n      </g>\n     </g>\n    </g>\n    <g id=\"ytick_2\">\n     <g id=\"line2d_13\">\n      <path d=\"M 30.103125 117.834143 \nL 225.403125 117.834143 \n\" clip-path=\"url(#p74d270e0cf)\" style=\"fill: none; stroke: #b0b0b0; stroke-width: 0.8; stroke-linecap: square\"/>\n     </g>\n     <g id=\"line2d_14\">\n      <g>\n       <use xlink:href=\"#m513249b406\" x=\"30.103125\" y=\"117.834143\" style=\"stroke: #000000; stroke-width: 0.8\"/>\n      </g>\n     </g>\n     <g id=\"text_8\">\n      <!-- 0.5 -->\n      <g transform=\"translate(7.2 121.633362) scale(0.1 -0.1)\">\n       <defs>\n        <path id=\"DejaVuSans-35\" d=\"M 691 4666 \nL 3169 4666 \nL 3169 4134 \nL 1269 4134 \nL 1269 2991 \nQ 1406 3038 1543 3061 \nQ 1681 3084 1819 3084 \nQ 2600 3084 3056 2656 \nQ 3513 2228 3513 1497 \nQ 3513 744 3044 326 \nQ 2575 -91 1722 -91 \nQ 1428 -91 1123 -41 \nQ 819 9 494 109 \nL 494 744 \nQ 775 591 1075 516 \nQ 1375 441 1709 441 \nQ 2250 441 2565 725 \nQ 2881 1009 2881 1497 \nQ 2881 1984 2565 2268 \nQ 2250 2553 1709 2553 \nQ 1456 2553 1204 2497 \nQ 953 2441 691 2322 \nL 691 4666 \nz\n\" transform=\"scale(0.015625)\"/>\n       </defs>\n       <use xlink:href=\"#DejaVuSans-30\"/>\n       <use xlink:href=\"#DejaVuSans-2e\" x=\"63.623047\"/>\n       <use xlink:href=\"#DejaVuSans-35\" x=\"95.410156\"/>\n      </g>\n     </g>\n    </g>\n    <g id=\"ytick_3\">\n     <g id=\"line2d_15\">\n      <path d=\"M 30.103125 91.422432 \nL 225.403125 91.422432 \n\" clip-path=\"url(#p74d270e0cf)\" style=\"fill: none; stroke: #b0b0b0; stroke-width: 0.8; stroke-linecap: square\"/>\n     </g>\n     <g id=\"line2d_16\">\n      <g>\n       <use xlink:href=\"#m513249b406\" x=\"30.103125\" y=\"91.422432\" style=\"stroke: #000000; stroke-width: 0.8\"/>\n      </g>\n     </g>\n     <g id=\"text_9\">\n      <!-- 1.0 -->\n      <g transform=\"translate(7.2 95.221651) scale(0.1 -0.1)\">\n       <use xlink:href=\"#DejaVuSans-31\"/>\n       <use xlink:href=\"#DejaVuSans-2e\" x=\"63.623047\"/>\n       <use xlink:href=\"#DejaVuSans-30\" x=\"95.410156\"/>\n      </g>\n     </g>\n    </g>\n    <g id=\"ytick_4\">\n     <g id=\"line2d_17\">\n      <path d=\"M 30.103125 65.010721 \nL 225.403125 65.010721 \n\" clip-path=\"url(#p74d270e0cf)\" style=\"fill: none; stroke: #b0b0b0; stroke-width: 0.8; stroke-linecap: square\"/>\n     </g>\n     <g id=\"line2d_18\">\n      <g>\n       <use xlink:href=\"#m513249b406\" x=\"30.103125\" y=\"65.010721\" style=\"stroke: #000000; stroke-width: 0.8\"/>\n      </g>\n     </g>\n     <g id=\"text_10\">\n      <!-- 1.5 -->\n      <g transform=\"translate(7.2 68.80994) scale(0.1 -0.1)\">\n       <use xlink:href=\"#DejaVuSans-31\"/>\n       <use xlink:href=\"#DejaVuSans-2e\" x=\"63.623047\"/>\n       <use xlink:href=\"#DejaVuSans-35\" x=\"95.410156\"/>\n      </g>\n     </g>\n    </g>\n    <g id=\"ytick_5\">\n     <g id=\"line2d_19\">\n      <path d=\"M 30.103125 38.599011 \nL 225.403125 38.599011 \n\" clip-path=\"url(#p74d270e0cf)\" style=\"fill: none; stroke: #b0b0b0; stroke-width: 0.8; stroke-linecap: square\"/>\n     </g>\n     <g id=\"line2d_20\">\n      <g>\n       <use xlink:href=\"#m513249b406\" x=\"30.103125\" y=\"38.599011\" style=\"stroke: #000000; stroke-width: 0.8\"/>\n      </g>\n     </g>\n     <g id=\"text_11\">\n      <!-- 2.0 -->\n      <g transform=\"translate(7.2 42.398229) scale(0.1 -0.1)\">\n       <use xlink:href=\"#DejaVuSans-32\"/>\n       <use xlink:href=\"#DejaVuSans-2e\" x=\"63.623047\"/>\n       <use xlink:href=\"#DejaVuSans-30\" x=\"95.410156\"/>\n      </g>\n     </g>\n    </g>\n    <g id=\"ytick_6\">\n     <g id=\"line2d_21\">\n      <path d=\"M 30.103125 12.1873 \nL 225.403125 12.1873 \n\" clip-path=\"url(#p74d270e0cf)\" style=\"fill: none; stroke: #b0b0b0; stroke-width: 0.8; stroke-linecap: square\"/>\n     </g>\n     <g id=\"line2d_22\">\n      <g>\n       <use xlink:href=\"#m513249b406\" x=\"30.103125\" y=\"12.1873\" style=\"stroke: #000000; stroke-width: 0.8\"/>\n      </g>\n     </g>\n     <g id=\"text_12\">\n      <!-- 2.5 -->\n      <g transform=\"translate(7.2 15.986518) scale(0.1 -0.1)\">\n       <use xlink:href=\"#DejaVuSans-32\"/>\n       <use xlink:href=\"#DejaVuSans-2e\" x=\"63.623047\"/>\n       <use xlink:href=\"#DejaVuSans-35\" x=\"95.410156\"/>\n      </g>\n     </g>\n    </g>\n   </g>\n   <g id=\"line2d_23\">\n    <path d=\"M 30.010785 21.977177 \nL 30.287806 22.894646 \nL 32.688657 23.683929 \nL 33.42738 24.326609 \nL 33.796742 24.883273 \nL 34.350785 26.001378 \nL 36.012912 31.562538 \nL 37.67504 39.705387 \nL 38.044402 40.691256 \nL 39.337168 45.649879 \nL 39.89121 46.93811 \nL 40.629934 49.042853 \nL 41.553338 51.676219 \nL 43.584827 56.788435 \nL 45.985678 61.333328 \nL 46.909082 62.787374 \nL 48.386529 65.142852 \nL 51.710785 69.470502 \nL 51.987806 88.200094 \nL 52.172487 89.136656 \nL 52.357168 87.373281 \nL 52.541848 88.625904 \nL 52.726529 88.699753 \nL 53.095891 89.870876 \nL 53.280572 90.456834 \nL 53.465253 90.504425 \nL 54.203976 92.247978 \nL 55.312061 92.777089 \nL 56.420146 93.770511 \nL 56.604827 93.607953 \nL 57.343551 93.716957 \nL 58.082274 94.273004 \nL 58.451636 94.351149 \nL 58.636316 94.260606 \nL 59.37504 94.935455 \nL 60.667806 95.650043 \nL 64.176742 96.522408 \nL 64.546104 96.39842 \nL 64.915465 96.555167 \nL 68.05504 97.260583 \nL 68.424402 97.303906 \nL 68.978444 97.499673 \nL 69.347806 97.521255 \nL 70.086529 97.758881 \nL 71.009934 98.046876 \nL 71.563976 98.230045 \nL 72.856742 98.684111 \nL 73.226104 98.745334 \nL 73.410785 98.635466 \nL 73.687806 104.74611 \nL 73.872487 104.415146 \nL 74.057168 105.476075 \nL 74.241848 105.442399 \nL 74.61121 105.882539 \nL 74.795891 105.986935 \nL 74.980572 105.583259 \nL 75.165253 104.779469 \nL 75.349934 104.967024 \nL 75.534614 104.791581 \nL 75.719295 105.191045 \nL 75.903976 105.273058 \nL 76.088657 105.211005 \nL 76.273338 105.270403 \nL 76.458019 105.123785 \nL 76.82738 105.200823 \nL 77.012061 105.133341 \nL 77.196742 104.884818 \nL 77.381423 104.960102 \nL 77.750785 104.310118 \nL 77.935465 104.163925 \nL 78.85887 104.579781 \nL 79.782274 104.570858 \nL 80.151636 104.660045 \nL 80.520997 104.768581 \nL 81.444402 105.016971 \nL 81.629082 105.016046 \nL 81.998444 105.218999 \nL 83.845253 105.408954 \nL 84.029934 105.285 \nL 84.399295 105.382165 \nL 84.768657 105.286409 \nL 85.138019 105.385246 \nL 85.50738 105.566929 \nL 86.061423 105.57802 \nL 86.800146 105.870666 \nL 87.53887 106.054065 \nL 88.462274 106.180653 \nL 90.309082 106.319887 \nL 92.894614 106.587995 \nL 93.633338 106.699727 \nL 95.110785 106.756885 \nL 95.572487 110.366682 \nL 95.757168 111.392534 \nL 95.941848 110.252621 \nL 96.680572 109.579641 \nL 96.865253 109.580852 \nL 97.049934 109.836623 \nL 97.419295 109.946073 \nL 97.603976 109.621557 \nL 97.788657 109.648352 \nL 97.973338 109.510939 \nL 98.158019 109.795892 \nL 98.712061 109.960444 \nL 98.896742 109.908095 \nL 99.081423 109.981624 \nL 99.450785 109.863079 \nL 99.635465 109.939481 \nL 100.004827 109.809087 \nL 100.374189 109.971399 \nL 100.928231 109.860777 \nL 101.297593 110.155668 \nL 105.175891 110.307842 \nL 105.545253 110.363072 \nL 106.099295 110.340867 \nL 107.20738 110.277743 \nL 107.946104 110.373079 \nL 108.315465 110.347557 \nL 108.684827 110.407555 \nL 115.702699 110.764289 \nL 116.810785 110.946665 \nL 117.087806 109.952933 \nL 117.272487 110.378481 \nL 117.457168 110.344257 \nL 118.380572 112.799813 \nL 118.565253 112.818694 \nL 118.934614 112.076231 \nL 119.303976 111.500951 \nL 119.488657 111.87603 \nL 119.858019 111.913837 \nL 120.042699 111.796649 \nL 120.966104 112.201036 \nL 121.704827 112.259912 \nL 121.889508 112.22765 \nL 122.25887 112.376344 \nL 122.812912 112.298965 \nL 123.182274 112.148258 \nL 123.551636 112.357718 \nL 123.736316 112.329526 \nL 124.105678 112.471887 \nL 125.952487 112.9436 \nL 126.506529 112.952382 \nL 128.722699 113.182481 \nL 129.092061 113.023384 \nL 129.646104 112.982246 \nL 130.200146 112.929402 \nL 132.231636 113.210428 \nL 134.817168 113.264613 \nL 136.479295 113.316085 \nL 138.510785 113.570653 \nL 138.787806 115.038885 \nL 139.157168 113.428734 \nL 139.341848 113.979068 \nL 139.526529 114.123083 \nL 139.71121 113.969698 \nL 139.895891 114.227399 \nL 140.080572 113.964948 \nL 140.634614 114.860859 \nL 141.003976 115.179491 \nL 141.188657 115.13783 \nL 141.558019 115.41453 \nL 142.296742 114.869005 \nL 143.404827 115.247642 \nL 144.328231 115.325155 \nL 144.697593 115.429307 \nL 145.251636 115.349924 \nL 145.436316 115.169824 \nL 145.805678 115.240511 \nL 145.990359 115.164338 \nL 146.17504 115.208389 \nL 146.729082 115.054743 \nL 147.283125 115.095946 \nL 148.021848 115.025464 \nL 148.575891 114.99589 \nL 148.945253 115.043887 \nL 150.053338 115.215524 \nL 150.792061 115.291881 \nL 152.63887 115.187364 \nL 153.008231 115.168183 \nL 153.377593 115.183312 \nL 155.778444 115.394383 \nL 156.332487 115.490775 \nL 157.255891 115.461977 \nL 158.179295 115.553799 \nL 160.210785 115.53202 \nL 160.487806 118.543477 \nL 160.857168 117.058791 \nL 161.041848 117.391041 \nL 161.226529 116.968582 \nL 161.41121 117.024841 \nL 161.595891 117.290758 \nL 161.780572 117.149722 \nL 161.965253 116.614922 \nL 162.149934 116.620398 \nL 162.519295 116.477347 \nL 163.258019 116.84094 \nL 163.442699 116.789535 \nL 164.550785 117.256715 \nL 164.920146 117.037392 \nL 165.474189 117.002326 \nL 165.843551 117.097538 \nL 166.212912 117.05895 \nL 166.582274 117.125758 \nL 166.766955 117.15515 \nL 166.951636 116.974035 \nL 167.505678 116.947544 \nL 168.059721 117.070285 \nL 168.244402 117.108503 \nL 168.613763 117.041176 \nL 169.721848 117.095872 \nL 171.568657 117.158807 \nL 174.33887 117.224538 \nL 175.446955 117.194524 \nL 178.032487 117.498827 \nL 180.248657 117.469343 \nL 180.98738 117.418467 \nL 181.910785 117.453131 \nL 182.187806 117.784963 \nL 182.372487 117.757983 \nL 182.557168 117.47979 \nL 182.741848 118.063789 \nL 182.926529 117.067711 \nL 183.11121 117.541867 \nL 183.295891 117.437991 \nL 183.480572 117.491424 \nL 183.849934 118.093584 \nL 184.034614 118.265181 \nL 184.219295 118.259465 \nL 184.403976 118.493744 \nL 184.773338 118.474517 \nL 185.142699 118.244642 \nL 185.512061 118.529638 \nL 185.696742 118.606448 \nL 185.881423 118.452646 \nL 186.250785 118.602694 \nL 186.620146 118.549387 \nL 186.804827 118.426748 \nL 187.543551 118.539777 \nL 187.728231 118.469974 \nL 188.282274 118.61122 \nL 189.020997 118.401633 \nL 189.390359 118.339684 \nL 189.759721 118.256939 \nL 191.052487 118.410372 \nL 192.160572 118.441525 \nL 203.610785 118.759189 \nL 203.887806 119.731589 \nL 204.072487 121.170882 \nL 204.441848 120.531881 \nL 204.626529 120.401236 \nL 204.81121 120.045901 \nL 205.180572 120.517176 \nL 205.549934 119.825492 \nL 205.734614 119.635756 \nL 205.919295 119.868553 \nL 206.288657 119.592859 \nL 206.473338 119.656722 \nL 206.658019 119.55675 \nL 207.02738 119.769953 \nL 207.212061 119.929654 \nL 207.766104 119.803771 \nL 208.135465 119.869942 \nL 208.320146 119.878944 \nL 208.689508 120.078515 \nL 209.05887 119.97534 \nL 209.428231 119.827771 \nL 209.797593 119.723685 \nL 210.720997 119.745468 \nL 211.27504 119.767253 \nL 212.752487 119.701672 \nL 215.70738 119.771517 \nL 220.324402 119.842533 \nL 221.801848 119.84785 \nL 225.310785 119.80151 \nL 225.310785 119.80151 \n\" clip-path=\"url(#p74d270e0cf)\" style=\"fill: none; stroke: #1f77b4; stroke-width: 1.5; stroke-linecap: square\"/>\n   </g>\n   <g id=\"line2d_24\">\n    <path d=\"M 30.010785 138.808668 \nL 30.287806 139.5 \nL 30.472487 138.726219 \nL 30.657168 138.674634 \nL 31.21121 137.694512 \nL 31.765253 138.05561 \nL 32.134614 137.520998 \nL 32.319295 137.531158 \nL 32.873338 137.037658 \nL 33.058019 137.088384 \nL 33.242699 136.908594 \nL 33.796742 135.930292 \nL 34.166104 135.673303 \nL 34.350785 135.413541 \nL 34.720146 134.440507 \nL 35.089508 134.03195 \nL 36.197593 133.178447 \nL 36.936316 131.795655 \nL 37.67504 130.685192 \nL 38.229082 130.270908 \nL 38.967806 129.232361 \nL 39.521848 128.588176 \nL 40.075891 128.296421 \nL 40.629934 127.696905 \nL 41.368657 126.970674 \nL 44.13887 124.61762 \nL 45.616316 123.600651 \nL 47.093763 122.859232 \nL 49.309934 121.663365 \nL 50.233338 121.257708 \nL 51.710785 120.586245 \nL 51.987806 115.048533 \nL 52.172487 114.53268 \nL 52.357168 114.876582 \nL 52.726529 114.03746 \nL 53.095891 113.810484 \nL 53.280572 113.359112 \nL 53.465253 113.500972 \nL 54.203976 112.66767 \nL 54.388657 112.822993 \nL 54.942699 112.511747 \nL 55.312061 112.485555 \nL 55.681423 112.385745 \nL 56.420146 112.052455 \nL 56.789508 112.121541 \nL 57.343551 112.011874 \nL 61.037168 110.777264 \nL 61.960572 110.71161 \nL 62.329934 110.621241 \nL 64.176742 110.456665 \nL 64.546104 110.482106 \nL 64.915465 110.397131 \nL 66.946955 110.120243 \nL 68.978444 109.889996 \nL 70.640572 109.696804 \nL 73.410785 109.342397 \nL 73.687806 107.104386 \nL 73.872487 106.94963 \nL 74.057168 106.31341 \nL 74.241848 106.27902 \nL 74.426529 105.845703 \nL 74.795891 105.881076 \nL 75.349934 106.248069 \nL 75.534614 106.307157 \nL 75.903976 106.080615 \nL 76.82738 106.250361 \nL 77.566104 106.630738 \nL 77.935465 106.756185 \nL 78.489508 106.745199 \nL 79.043551 106.671069 \nL 80.520997 106.569527 \nL 81.07504 106.500459 \nL 81.629082 106.515844 \nL 82.183125 106.428288 \nL 82.737168 106.406952 \nL 83.660572 106.372811 \nL 84.214614 106.460458 \nL 89.385678 106.13866 \nL 94.002699 105.98345 \nL 95.110785 105.971271 \nL 95.387806 105.247312 \nL 95.572487 105.247312 \nL 95.757168 104.559507 \nL 96.126529 104.628288 \nL 96.31121 104.697068 \nL 96.495891 104.982016 \nL 96.865253 105.006581 \nL 97.049934 104.844946 \nL 97.973338 105.006581 \nL 98.342699 104.88318 \nL 100.55887 104.784823 \nL 100.928231 104.824645 \nL 101.482274 104.746631 \nL 104.437168 104.67781 \nL 105.175891 104.693247 \nL 105.729934 104.686208 \nL 107.20738 104.672731 \nL 108.869508 104.608769 \nL 109.608231 104.653419 \nL 112.193763 104.532967 \nL 114.963976 104.545366 \nL 116.810785 104.421065 \nL 117.087806 106.175849 \nL 117.457168 105.350483 \nL 118.195891 104.112434 \nL 118.565253 104.204141 \nL 119.119295 104.783044 \nL 119.303976 104.794948 \nL 119.673338 104.552629 \nL 120.22738 104.473532 \nL 120.596742 104.334251 \nL 122.812912 104.160795 \nL 123.182274 104.233812 \nL 123.736316 104.129165 \nL 126.506529 103.866412 \nL 128.538019 103.704664 \nL 129.461423 103.74375 \nL 130.200146 103.751337 \nL 134.078444 103.518925 \nL 137.033338 103.4281 \nL 138.510785 103.342622 \nL 138.787806 101.739507 \nL 138.972487 102.668044 \nL 139.157168 103.011946 \nL 139.341848 103.003349 \nL 139.526529 102.771214 \nL 139.895891 102.830169 \nL 140.080572 102.990452 \nL 140.819295 102.685239 \nL 141.003976 102.604554 \nL 141.188657 102.70489 \nL 141.742699 102.58308 \nL 142.296742 102.781532 \nL 142.850785 102.663558 \nL 143.220146 102.688678 \nL 145.251636 102.633653 \nL 145.620997 102.716914 \nL 146.729082 102.785283 \nL 147.467806 102.71533 \nL 149.499295 102.757225 \nL 150.422699 102.647087 \nL 151.900146 102.627922 \nL 152.269508 102.637371 \nL 158.179295 102.444183 \nL 160.210785 102.456411 \nL 160.487806 101.326824 \nL 161.041848 101.739507 \nL 161.226529 102.15219 \nL 161.41121 102.066214 \nL 161.595891 101.827939 \nL 161.780572 101.894263 \nL 161.965253 102.08341 \nL 162.888657 101.967957 \nL 163.258019 101.907159 \nL 163.812061 101.907838 \nL 164.920146 101.805536 \nL 165.289508 101.896174 \nL 166.582274 101.809299 \nL 167.136316 101.85662 \nL 167.87504 101.862809 \nL 168.429082 101.856746 \nL 170.645253 101.838993 \nL 171.568657 101.844369 \nL 172.492061 101.795782 \nL 173.784827 101.793212 \nL 174.892912 101.755179 \nL 175.631636 101.774312 \nL 179.879295 101.592537 \nL 181.910785 101.592246 \nL 182.187806 101.739507 \nL 182.372487 101.533166 \nL 182.557168 101.601946 \nL 182.741848 101.275239 \nL 182.926529 101.718873 \nL 183.11121 101.653531 \nL 183.295891 101.754246 \nL 183.480572 101.675025 \nL 183.665253 101.464385 \nL 184.219295 101.318226 \nL 184.588657 101.223653 \nL 185.32738 101.194995 \nL 185.696742 101.172068 \nL 186.066104 101.223653 \nL 186.435465 101.197861 \nL 187.35887 101.230769 \nL 188.651636 101.215056 \nL 189.944402 101.34122 \nL 196.777593 101.222364 \nL 198.624402 101.154873 \nL 201.394614 101.14996 \nL 202.318019 101.133613 \nL 203.887806 101.017312 \nL 204.072487 100.346702 \nL 204.257168 100.845361 \nL 204.626529 100.749068 \nL 204.81121 100.77658 \nL 205.180572 100.488562 \nL 205.365253 100.627556 \nL 205.549934 100.563361 \nL 205.734614 100.745316 \nL 205.919295 100.561641 \nL 206.473338 100.577117 \nL 206.842699 100.513596 \nL 207.581423 100.422852 \nL 210.905678 100.472359 \nL 211.644402 100.547045 \nL 212.937168 100.583995 \nL 214.045253 100.600944 \nL 216.446104 100.564258 \nL 217.369508 100.53213 \nL 220.878444 100.526973 \nL 223.833338 100.517549 \nL 225.310785 100.534085 \nL 225.310785 100.534085 \n\" clip-path=\"url(#p74d270e0cf)\" style=\"fill: none; stroke-dasharray: 5.55,2.4; stroke-dashoffset: 0; stroke: #bf00bf; stroke-width: 1.5\"/>\n   </g>\n   <g id=\"line2d_25\">\n    <path d=\"M 30.103125 138.963512 \nL 51.803125 114.305539 \nL 73.503125 107.940316 \nL 95.203125 106.720095 \nL 116.903125 104.554335 \nL 138.603125 104.501512 \nL 160.303125 102.87455 \nL 182.003125 101.538118 \nL 203.703125 101.321542 \nL 225.403125 103.688031 \n\" clip-path=\"url(#p74d270e0cf)\" style=\"fill: none; stroke-dasharray: 9.6,2.4,1.5,2.4; stroke-dashoffset: 0; stroke: #008000; stroke-width: 1.5\"/>\n   </g>\n   <g id=\"patch_3\">\n    <path d=\"M 30.103125 145.8 \nL 30.103125 7.2 \n\" style=\"fill: none; stroke: #000000; stroke-width: 0.8; stroke-linejoin: miter; stroke-linecap: square\"/>\n   </g>\n   <g id=\"patch_4\">\n    <path d=\"M 225.403125 145.8 \nL 225.403125 7.2 \n\" style=\"fill: none; stroke: #000000; stroke-width: 0.8; stroke-linejoin: miter; stroke-linecap: square\"/>\n   </g>\n   <g id=\"patch_5\">\n    <path d=\"M 30.103125 145.8 \nL 225.403125 145.8 \n\" style=\"fill: none; stroke: #000000; stroke-width: 0.8; stroke-linejoin: miter; stroke-linecap: square\"/>\n   </g>\n   <g id=\"patch_6\">\n    <path d=\"M 30.103125 7.2 \nL 225.403125 7.2 \n\" style=\"fill: none; stroke: #000000; stroke-width: 0.8; stroke-linejoin: miter; stroke-linecap: square\"/>\n   </g>\n   <g id=\"legend_1\">\n    <g id=\"patch_7\">\n     <path d=\"M 140.634375 59.234375 \nL 218.403125 59.234375 \nQ 220.403125 59.234375 220.403125 57.234375 \nL 220.403125 14.2 \nQ 220.403125 12.2 218.403125 12.2 \nL 140.634375 12.2 \nQ 138.634375 12.2 138.634375 14.2 \nL 138.634375 57.234375 \nQ 138.634375 59.234375 140.634375 59.234375 \nz\n\" style=\"fill: #ffffff; opacity: 0.8; stroke: #cccccc; stroke-linejoin: miter\"/>\n    </g>\n    <g id=\"line2d_26\">\n     <path d=\"M 142.634375 20.298438 \nL 152.634375 20.298438 \nL 162.634375 20.298438 \n\" style=\"fill: none; stroke: #1f77b4; stroke-width: 1.5; stroke-linecap: square\"/>\n    </g>\n    <g id=\"text_13\">\n     <!-- train loss -->\n     <g transform=\"translate(170.634375 23.798438) scale(0.1 -0.1)\">\n      <defs>\n       <path id=\"DejaVuSans-74\" d=\"M 1172 4494 \nL 1172 3500 \nL 2356 3500 \nL 2356 3053 \nL 1172 3053 \nL 1172 1153 \nQ 1172 725 1289 603 \nQ 1406 481 1766 481 \nL 2356 481 \nL 2356 0 \nL 1766 0 \nQ 1100 0 847 248 \nQ 594 497 594 1153 \nL 594 3053 \nL 172 3053 \nL 172 3500 \nL 594 3500 \nL 594 4494 \nL 1172 4494 \nz\n\" transform=\"scale(0.015625)\"/>\n       <path id=\"DejaVuSans-72\" d=\"M 2631 2963 \nQ 2534 3019 2420 3045 \nQ 2306 3072 2169 3072 \nQ 1681 3072 1420 2755 \nQ 1159 2438 1159 1844 \nL 1159 0 \nL 581 0 \nL 581 3500 \nL 1159 3500 \nL 1159 2956 \nQ 1341 3275 1631 3429 \nQ 1922 3584 2338 3584 \nQ 2397 3584 2469 3576 \nQ 2541 3569 2628 3553 \nL 2631 2963 \nz\n\" transform=\"scale(0.015625)\"/>\n       <path id=\"DejaVuSans-61\" d=\"M 2194 1759 \nQ 1497 1759 1228 1600 \nQ 959 1441 959 1056 \nQ 959 750 1161 570 \nQ 1363 391 1709 391 \nQ 2188 391 2477 730 \nQ 2766 1069 2766 1631 \nL 2766 1759 \nL 2194 1759 \nz\nM 3341 1997 \nL 3341 0 \nL 2766 0 \nL 2766 531 \nQ 2569 213 2275 61 \nQ 1981 -91 1556 -91 \nQ 1019 -91 701 211 \nQ 384 513 384 1019 \nQ 384 1609 779 1909 \nQ 1175 2209 1959 2209 \nL 2766 2209 \nL 2766 2266 \nQ 2766 2663 2505 2880 \nQ 2244 3097 1772 3097 \nQ 1472 3097 1187 3025 \nQ 903 2953 641 2809 \nL 641 3341 \nQ 956 3463 1253 3523 \nQ 1550 3584 1831 3584 \nQ 2591 3584 2966 3190 \nQ 3341 2797 3341 1997 \nz\n\" transform=\"scale(0.015625)\"/>\n       <path id=\"DejaVuSans-69\" d=\"M 603 3500 \nL 1178 3500 \nL 1178 0 \nL 603 0 \nL 603 3500 \nz\nM 603 4863 \nL 1178 4863 \nL 1178 4134 \nL 603 4134 \nL 603 4863 \nz\n\" transform=\"scale(0.015625)\"/>\n       <path id=\"DejaVuSans-6e\" d=\"M 3513 2113 \nL 3513 0 \nL 2938 0 \nL 2938 2094 \nQ 2938 2591 2744 2837 \nQ 2550 3084 2163 3084 \nQ 1697 3084 1428 2787 \nQ 1159 2491 1159 1978 \nL 1159 0 \nL 581 0 \nL 581 3500 \nL 1159 3500 \nL 1159 2956 \nQ 1366 3272 1645 3428 \nQ 1925 3584 2291 3584 \nQ 2894 3584 3203 3211 \nQ 3513 2838 3513 2113 \nz\n\" transform=\"scale(0.015625)\"/>\n       <path id=\"DejaVuSans-20\" transform=\"scale(0.015625)\"/>\n       <path id=\"DejaVuSans-6c\" d=\"M 603 4863 \nL 1178 4863 \nL 1178 0 \nL 603 0 \nL 603 4863 \nz\n\" transform=\"scale(0.015625)\"/>\n       <path id=\"DejaVuSans-73\" d=\"M 2834 3397 \nL 2834 2853 \nQ 2591 2978 2328 3040 \nQ 2066 3103 1784 3103 \nQ 1356 3103 1142 2972 \nQ 928 2841 928 2578 \nQ 928 2378 1081 2264 \nQ 1234 2150 1697 2047 \nL 1894 2003 \nQ 2506 1872 2764 1633 \nQ 3022 1394 3022 966 \nQ 3022 478 2636 193 \nQ 2250 -91 1575 -91 \nQ 1294 -91 989 -36 \nQ 684 19 347 128 \nL 347 722 \nQ 666 556 975 473 \nQ 1284 391 1588 391 \nQ 1994 391 2212 530 \nQ 2431 669 2431 922 \nQ 2431 1156 2273 1281 \nQ 2116 1406 1581 1522 \nL 1381 1569 \nQ 847 1681 609 1914 \nQ 372 2147 372 2553 \nQ 372 3047 722 3315 \nQ 1072 3584 1716 3584 \nQ 2034 3584 2315 3537 \nQ 2597 3491 2834 3397 \nz\n\" transform=\"scale(0.015625)\"/>\n      </defs>\n      <use xlink:href=\"#DejaVuSans-74\"/>\n      <use xlink:href=\"#DejaVuSans-72\" x=\"39.208984\"/>\n      <use xlink:href=\"#DejaVuSans-61\" x=\"80.322266\"/>\n      <use xlink:href=\"#DejaVuSans-69\" x=\"141.601562\"/>\n      <use xlink:href=\"#DejaVuSans-6e\" x=\"169.384766\"/>\n      <use xlink:href=\"#DejaVuSans-20\" x=\"232.763672\"/>\n      <use xlink:href=\"#DejaVuSans-6c\" x=\"264.550781\"/>\n      <use xlink:href=\"#DejaVuSans-6f\" x=\"292.333984\"/>\n      <use xlink:href=\"#DejaVuSans-73\" x=\"353.515625\"/>\n      <use xlink:href=\"#DejaVuSans-73\" x=\"405.615234\"/>\n     </g>\n    </g>\n    <g id=\"line2d_27\">\n     <path d=\"M 142.634375 34.976563 \nL 152.634375 34.976563 \nL 162.634375 34.976563 \n\" style=\"fill: none; stroke-dasharray: 5.55,2.4; stroke-dashoffset: 0; stroke: #bf00bf; stroke-width: 1.5\"/>\n    </g>\n    <g id=\"text_14\">\n     <!-- train acc -->\n     <g transform=\"translate(170.634375 38.476563) scale(0.1 -0.1)\">\n      <use xlink:href=\"#DejaVuSans-74\"/>\n      <use xlink:href=\"#DejaVuSans-72\" x=\"39.208984\"/>\n      <use xlink:href=\"#DejaVuSans-61\" x=\"80.322266\"/>\n      <use xlink:href=\"#DejaVuSans-69\" x=\"141.601562\"/>\n      <use xlink:href=\"#DejaVuSans-6e\" x=\"169.384766\"/>\n      <use xlink:href=\"#DejaVuSans-20\" x=\"232.763672\"/>\n      <use xlink:href=\"#DejaVuSans-61\" x=\"264.550781\"/>\n      <use xlink:href=\"#DejaVuSans-63\" x=\"325.830078\"/>\n      <use xlink:href=\"#DejaVuSans-63\" x=\"380.810547\"/>\n     </g>\n    </g>\n    <g id=\"line2d_28\">\n     <path d=\"M 142.634375 49.654688 \nL 152.634375 49.654688 \nL 162.634375 49.654688 \n\" style=\"fill: none; stroke-dasharray: 9.6,2.4,1.5,2.4; stroke-dashoffset: 0; stroke: #008000; stroke-width: 1.5\"/>\n    </g>\n    <g id=\"text_15\">\n     <!-- test acc -->\n     <g transform=\"translate(170.634375 53.154688) scale(0.1 -0.1)\">\n      <use xlink:href=\"#DejaVuSans-74\"/>\n      <use xlink:href=\"#DejaVuSans-65\" x=\"39.208984\"/>\n      <use xlink:href=\"#DejaVuSans-73\" x=\"100.732422\"/>\n      <use xlink:href=\"#DejaVuSans-74\" x=\"152.832031\"/>\n      <use xlink:href=\"#DejaVuSans-20\" x=\"192.041016\"/>\n      <use xlink:href=\"#DejaVuSans-61\" x=\"223.828125\"/>\n      <use xlink:href=\"#DejaVuSans-63\" x=\"285.107422\"/>\n      <use xlink:href=\"#DejaVuSans-63\" x=\"340.087891\"/>\n     </g>\n    </g>\n   </g>\n  </g>\n </g>\n <defs>\n  <clipPath id=\"p74d270e0cf\">\n   <rect x=\"30.103125\" y=\"7.2\" width=\"195.3\" height=\"138.6\"/>\n  </clipPath>\n </defs>\n</svg>\n"
     },
     "metadata": {},
     "output_type": "display_data"
    }
   ],
   "source": [
    "lr, num_epochs = 0.9, 10\n",
    "train_ch6(net, train_iter, test_iter, num_epochs, lr, d2l.try_gpu())"
   ],
   "metadata": {
    "collapsed": false
   },
   "id": "adde900a2e8f098d"
  },
  {
   "cell_type": "code",
   "execution_count": 8,
   "outputs": [],
   "source": [],
   "metadata": {
    "collapsed": false,
    "ExecuteTime": {
     "end_time": "2023-10-14T12:07:59.176170700Z",
     "start_time": "2023-10-14T12:07:59.154246800Z"
    }
   },
   "id": "5fb7eda1666ffc80"
  }
 ],
 "metadata": {
  "kernelspec": {
   "display_name": "Python 3",
   "language": "python",
   "name": "python3"
  },
  "language_info": {
   "codemirror_mode": {
    "name": "ipython",
    "version": 2
   },
   "file_extension": ".py",
   "mimetype": "text/x-python",
   "name": "python",
   "nbconvert_exporter": "python",
   "pygments_lexer": "ipython2",
   "version": "2.7.6"
  }
 },
 "nbformat": 4,
 "nbformat_minor": 5
}
