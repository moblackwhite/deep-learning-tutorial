{
 "cells": [
  {
   "cell_type": "code",
   "execution_count": 1,
   "id": "initial_id",
   "metadata": {
    "collapsed": true,
    "ExecuteTime": {
     "end_time": "2023-10-14T12:03:00.830880300Z",
     "start_time": "2023-10-14T12:02:58.108434200Z"
    }
   },
   "outputs": [],
   "source": [
    "import torch\n",
    "from torch import nn"
   ]
  },
  {
   "cell_type": "code",
   "execution_count": 2,
   "outputs": [
    {
     "name": "stderr",
     "output_type": "stream",
     "text": [
      "C:\\ProgramData\\Anaconda3\\envs\\d2l\\lib\\site-packages\\torch\\nn\\modules\\lazy.py:180: UserWarning: Lazy modules are a new feature under heavy development so changes to the API or functionality can happen at any moment.\n",
      "  warnings.warn('Lazy modules are a new feature under heavy development '\n"
     ]
    },
    {
     "data": {
      "text/plain": "torch.Size([2, 1])"
     },
     "execution_count": 2,
     "metadata": {},
     "output_type": "execute_result"
    }
   ],
   "source": [
    "net = nn.Sequential(nn.LazyLinear(8),\n",
    "                    nn.ReLU(),\n",
    "                    nn.LazyLinear(1))\n",
    "\n",
    "X = torch.rand(size=(2, 4))\n",
    "net(X).shape"
   ],
   "metadata": {
    "collapsed": false,
    "ExecuteTime": {
     "end_time": "2023-10-14T12:03:00.849880300Z",
     "start_time": "2023-10-14T12:03:00.832879500Z"
    }
   },
   "id": "c3850ebdcdef6974"
  },
  {
   "cell_type": "markdown",
   "source": [
    "## 1. Parameter Access"
   ],
   "metadata": {
    "collapsed": false
   },
   "id": "e29cde440006e8b1"
  },
  {
   "cell_type": "code",
   "execution_count": 3,
   "outputs": [
    {
     "data": {
      "text/plain": "OrderedDict([('weight',\n              tensor([[-0.2904,  0.0555,  0.2442,  0.1221, -0.1118,  0.3063, -0.0985,  0.0907]])),\n             ('bias', tensor([-0.0885]))])"
     },
     "execution_count": 3,
     "metadata": {},
     "output_type": "execute_result"
    }
   ],
   "source": [
    "net[2].state_dict()"
   ],
   "metadata": {
    "collapsed": false,
    "ExecuteTime": {
     "end_time": "2023-10-14T12:03:00.881881100Z",
     "start_time": "2023-10-14T12:03:00.847878700Z"
    }
   },
   "id": "9e92be847b7390c6"
  },
  {
   "cell_type": "markdown",
   "source": [
    "### 1.1 Targeted Parameters"
   ],
   "metadata": {
    "collapsed": false
   },
   "id": "5a16e7e643a4594b"
  },
  {
   "cell_type": "code",
   "execution_count": 4,
   "outputs": [
    {
     "data": {
      "text/plain": "(torch.nn.parameter.Parameter, tensor([-0.0885]))"
     },
     "execution_count": 4,
     "metadata": {},
     "output_type": "execute_result"
    }
   ],
   "source": [
    "type(net[2].bias), net[2].bias.data"
   ],
   "metadata": {
    "collapsed": false,
    "ExecuteTime": {
     "end_time": "2023-10-14T12:03:00.882879400Z",
     "start_time": "2023-10-14T12:03:00.863879800Z"
    }
   },
   "id": "acd68cf862db6755"
  },
  {
   "cell_type": "markdown",
   "source": [
    "we have not invoked backpropagation for this network yet, it is in its initial state."
   ],
   "metadata": {
    "collapsed": false
   },
   "id": "21032334ddd11910"
  },
  {
   "cell_type": "code",
   "execution_count": 5,
   "outputs": [
    {
     "data": {
      "text/plain": "True"
     },
     "execution_count": 5,
     "metadata": {},
     "output_type": "execute_result"
    }
   ],
   "source": [
    "net[2].weight.grad == None"
   ],
   "metadata": {
    "collapsed": false,
    "ExecuteTime": {
     "end_time": "2023-10-14T12:03:00.893459700Z",
     "start_time": "2023-10-14T12:03:00.879880Z"
    }
   },
   "id": "c9e28517d5bf96f5"
  },
  {
   "cell_type": "markdown",
   "source": [
    "### 1.2 All Parameters at Once"
   ],
   "metadata": {
    "collapsed": false
   },
   "id": "350780d75fc8334e"
  },
  {
   "cell_type": "code",
   "execution_count": 6,
   "outputs": [
    {
     "data": {
      "text/plain": "[('0.weight', torch.Size([8, 4])),\n ('0.bias', torch.Size([8])),\n ('2.weight', torch.Size([1, 8])),\n ('2.bias', torch.Size([1]))]"
     },
     "execution_count": 6,
     "metadata": {},
     "output_type": "execute_result"
    }
   ],
   "source": [
    "[(name, param.shape) for name, param in net.named_parameters()]"
   ],
   "metadata": {
    "collapsed": false,
    "ExecuteTime": {
     "end_time": "2023-10-14T12:03:00.934459400Z",
     "start_time": "2023-10-14T12:03:00.894459500Z"
    }
   },
   "id": "59327a717d14e41e"
  },
  {
   "cell_type": "markdown",
   "source": [
    "## 2. Tied Parameters"
   ],
   "metadata": {
    "collapsed": false
   },
   "id": "196127808b002291"
  },
  {
   "cell_type": "code",
   "execution_count": 7,
   "outputs": [
    {
     "name": "stdout",
     "output_type": "stream",
     "text": [
      "tensor([True, True, True, True, True, True, True, True])\n",
      "tensor([True, True, True, True, True, True, True, True])\n"
     ]
    }
   ],
   "source": [
    "# We need to give the shared layer a name so that we can refer to its\n",
    "# parameters\n",
    "shared = nn.LazyLinear(8)\n",
    "net = nn.Sequential(nn.LazyLinear(8), nn.ReLU(),\n",
    "                    shared, nn.ReLU(),\n",
    "                    shared, nn.ReLU(),\n",
    "                    nn.LazyLinear(1))\n",
    "\n",
    "net(X)\n",
    "# Check whether the parameters are the same\n",
    "print(net[2].weight.data[0] == net[4].weight.data[0])\n",
    "net[2].weight.data[0, 0] = 100\n",
    "# Make sure that they are actually the same object rather than just having the\n",
    "# same value\n",
    "print(net[2].weight.data[0] == net[4].weight.data[0])"
   ],
   "metadata": {
    "collapsed": false,
    "ExecuteTime": {
     "end_time": "2023-10-14T12:03:00.935459700Z",
     "start_time": "2023-10-14T12:03:00.909457800Z"
    }
   },
   "id": "1ac27c89afe6c2df"
  },
  {
   "cell_type": "code",
   "execution_count": 7,
   "outputs": [],
   "source": [],
   "metadata": {
    "collapsed": false,
    "ExecuteTime": {
     "end_time": "2023-10-14T12:03:00.941457600Z",
     "start_time": "2023-10-14T12:03:00.925459100Z"
    }
   },
   "id": "fe437128ebb3cd3"
  }
 ],
 "metadata": {
  "kernelspec": {
   "display_name": "Python 3",
   "language": "python",
   "name": "python3"
  },
  "language_info": {
   "codemirror_mode": {
    "name": "ipython",
    "version": 2
   },
   "file_extension": ".py",
   "mimetype": "text/x-python",
   "name": "python",
   "nbconvert_exporter": "python",
   "pygments_lexer": "ipython2",
   "version": "2.7.6"
  }
 },
 "nbformat": 4,
 "nbformat_minor": 5
}
