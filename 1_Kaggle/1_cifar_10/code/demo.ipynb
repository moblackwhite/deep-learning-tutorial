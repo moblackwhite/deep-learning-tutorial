{
 "cells": [
  {
   "cell_type": "code",
   "execution_count": 20,
   "id": "initial_id",
   "metadata": {
    "collapsed": true,
    "ExecuteTime": {
     "end_time": "2023-10-18T01:03:05.337857800Z",
     "start_time": "2023-10-18T01:03:05.301761700Z"
    }
   },
   "outputs": [],
   "source": [
    "import collections\n",
    "import math\n",
    "import os\n",
    "import shutil\n",
    "import pandas as pd\n",
    "import torch\n",
    "import torchvision\n",
    "from torch import nn\n",
    "from d2l import torch as d2l"
   ]
  },
  {
   "cell_type": "code",
   "execution_count": 21,
   "outputs": [],
   "source": [
    "d2l.DATA_HUB['cifar10_tiny'] = (d2l.DATA_URL + 'kaggle_cifar10_tiny.zip',\n",
    "                                '2068874e4b9a9f0fb07ebe0ad2b29754449ccacd')\n",
    "\n",
    "# If you use the full dataset downloaded for the Kaggle competition, set\n",
    "# `demo` to False\n",
    "demo = True\n",
    "\n",
    "if demo:\n",
    "    data_dir = d2l.download_extract('cifar10_tiny')\n",
    "else:\n",
    "    data_dir = '../data/cifar-10/'"
   ],
   "metadata": {
    "collapsed": false,
    "ExecuteTime": {
     "end_time": "2023-10-18T01:03:05.838411100Z",
     "start_time": "2023-10-18T01:03:05.312176100Z"
    }
   },
   "id": "dde5dbacd030cbf6"
  },
  {
   "cell_type": "code",
   "execution_count": 22,
   "outputs": [
    {
     "name": "stdout",
     "output_type": "stream",
     "text": [
      "# training examples: 1000\n",
      "# classes: 10\n"
     ]
    }
   ],
   "source": [
    "def read_csv_labels(fname):\n",
    "    \"\"\"Read `fname` to return a filename to label dictionary.\"\"\"\n",
    "    with open(fname, 'r') as f:\n",
    "        # Skip the file header line (column name)\n",
    "        lines = f.readlines()[1:]\n",
    "    tokens = [l.rstrip().split(',') for l in lines]\n",
    "    return dict(((name, label) for name, label in tokens))\n",
    "\n",
    "labels = read_csv_labels(os.path.join(data_dir, 'trainLabels.csv'))\n",
    "print('# training examples:', len(labels))\n",
    "print('# classes:', len(set(labels.values())))"
   ],
   "metadata": {
    "collapsed": false,
    "ExecuteTime": {
     "end_time": "2023-10-18T01:03:05.911969Z",
     "start_time": "2023-10-18T01:03:05.840412500Z"
    }
   },
   "id": "344b5cdb5392eaa3"
  },
  {
   "cell_type": "code",
   "execution_count": 23,
   "outputs": [],
   "source": [
    "def copyfile(filename, target_dir):\n",
    "    \"\"\"Copy a file into a target directory.\"\"\"\n",
    "    os.makedirs(target_dir, exist_ok=True)\n",
    "    shutil.copy(filename, target_dir)\n",
    "\n",
    "\n",
    "def reorg_train_valid(data_dir, labels, valid_ratio):\n",
    "    \"\"\"Split the validation set out of the original training set.\"\"\"\n",
    "    # The number of examples of the class that has the fewest examples in the\n",
    "    # training dataset\n",
    "    n = collections.Counter(labels.values()).most_common()[-1][1]\n",
    "    # The number of examples per class for the validation set\n",
    "    n_valid_per_label = max(1, math.floor(n * valid_ratio))\n",
    "    label_count = {}\n",
    "    for train_file in os.listdir(os.path.join(data_dir, 'train')):\n",
    "        label = labels[train_file.split('.')[0]]\n",
    "        fname = os.path.join(data_dir, 'train', train_file)\n",
    "        copyfile(fname, os.path.join(data_dir, 'train_valid_test',\n",
    "                                     'train_valid', label))\n",
    "        if label not in label_count or label_count[label] < n_valid_per_label:\n",
    "            copyfile(fname, os.path.join(data_dir, 'train_valid_test',\n",
    "                                         'valid', label))\n",
    "            label_count[label] = label_count.get(label, 0) + 1\n",
    "        else:\n",
    "            copyfile(fname, os.path.join(data_dir, 'train_valid_test',\n",
    "                                         'train', label))\n",
    "    return n_valid_per_label"
   ],
   "metadata": {
    "collapsed": false,
    "ExecuteTime": {
     "end_time": "2023-10-18T01:03:05.925040500Z",
     "start_time": "2023-10-18T01:03:05.873968400Z"
    }
   },
   "id": "1fd3f34349bfcee1"
  },
  {
   "cell_type": "code",
   "execution_count": 24,
   "outputs": [],
   "source": [
    "def reorg_test(data_dir):\n",
    "    \"\"\"Organize the testing set for data loading during prediction.\"\"\"\n",
    "    for test_file in os.listdir(os.path.join(data_dir, 'test')):\n",
    "        copyfile(os.path.join(data_dir, 'test', test_file),\n",
    "                 os.path.join(data_dir, 'train_valid_test', 'test',\n",
    "                              'unknown'))"
   ],
   "metadata": {
    "collapsed": false,
    "ExecuteTime": {
     "end_time": "2023-10-18T01:03:05.925040500Z",
     "start_time": "2023-10-18T01:03:05.886970400Z"
    }
   },
   "id": "8cd69010ce2706ed"
  },
  {
   "cell_type": "code",
   "execution_count": 25,
   "outputs": [],
   "source": [
    "def reorg_cifar10_data(data_dir, valid_ratio):\n",
    "    labels = read_csv_labels(os.path.join(data_dir, 'trainLabels.csv'))\n",
    "    reorg_train_valid(data_dir, labels, valid_ratio)\n",
    "    reorg_test(data_dir)"
   ],
   "metadata": {
    "collapsed": false,
    "ExecuteTime": {
     "end_time": "2023-10-18T01:03:05.926040300Z",
     "start_time": "2023-10-18T01:03:05.900969200Z"
    }
   },
   "id": "f6346a0e8ba6c565"
  },
  {
   "cell_type": "code",
   "execution_count": 26,
   "outputs": [],
   "source": [
    "batch_size = 32 if demo else 128\n",
    "valid_ratio = 0.1\n",
    "reorg_cifar10_data(data_dir, valid_ratio)"
   ],
   "metadata": {
    "collapsed": false,
    "ExecuteTime": {
     "end_time": "2023-10-18T01:03:10.051442Z",
     "start_time": "2023-10-18T01:03:05.916969400Z"
    }
   },
   "id": "45f57389198223fc"
  },
  {
   "cell_type": "code",
   "execution_count": 27,
   "outputs": [],
   "source": [
    "transform_train = torchvision.transforms.Compose([\n",
    "    # Scale the image up to a square of 40 pixels in both height and width\n",
    "    torchvision.transforms.Resize(40),\n",
    "    # Randomly crop a square image of 40 pixels in both height and width to\n",
    "    # produce a small square of 0.64 to 1 times the area of the original\n",
    "    # image, and then scale it to a square of 32 pixels in both height and\n",
    "    # width\n",
    "    torchvision.transforms.RandomResizedCrop(32, scale=(0.64, 1.0),\n",
    "                                                   ratio=(1.0, 1.0)),\n",
    "    torchvision.transforms.RandomHorizontalFlip(),\n",
    "    torchvision.transforms.ToTensor(),\n",
    "    # Standardize each channel of the image\n",
    "    torchvision.transforms.Normalize([0.4914, 0.4822, 0.4465],\n",
    "                                     [0.2023, 0.1994, 0.2010])])"
   ],
   "metadata": {
    "collapsed": false,
    "ExecuteTime": {
     "end_time": "2023-10-18T01:03:10.067506Z",
     "start_time": "2023-10-18T01:03:10.056505Z"
    }
   },
   "id": "61b7e0f1c1262c60"
  },
  {
   "cell_type": "code",
   "execution_count": 28,
   "outputs": [],
   "source": [
    "transform_test = torchvision.transforms.Compose([\n",
    "    torchvision.transforms.ToTensor(),\n",
    "    torchvision.transforms.Normalize([0.4914, 0.4822, 0.4465],\n",
    "                                     [0.2023, 0.1994, 0.2010])])"
   ],
   "metadata": {
    "collapsed": false,
    "ExecuteTime": {
     "end_time": "2023-10-18T01:03:10.101504200Z",
     "start_time": "2023-10-18T01:03:10.070504100Z"
    }
   },
   "id": "448b4e37650b22cd"
  },
  {
   "cell_type": "code",
   "execution_count": 29,
   "outputs": [],
   "source": [
    "train_ds, train_valid_ds = [torchvision.datasets.ImageFolder(\n",
    "    os.path.join(data_dir, 'train_valid_test', folder),\n",
    "    transform=transform_train) for folder in ['train', 'train_valid']]\n",
    "\n",
    "valid_ds, test_ds = [torchvision.datasets.ImageFolder(\n",
    "    os.path.join(data_dir, 'train_valid_test', folder),\n",
    "    transform=transform_test) for folder in ['valid', 'test']]"
   ],
   "metadata": {
    "collapsed": false,
    "ExecuteTime": {
     "end_time": "2023-10-18T01:03:10.117023500Z",
     "start_time": "2023-10-18T01:03:10.085504500Z"
    }
   },
   "id": "b38bb2035a944544"
  },
  {
   "cell_type": "code",
   "execution_count": 30,
   "outputs": [],
   "source": [
    "train_iter, train_valid_iter = [torch.utils.data.DataLoader(\n",
    "    dataset, batch_size, shuffle=True, drop_last=True)\n",
    "    for dataset in (train_ds, train_valid_ds)]\n",
    "\n",
    "valid_iter = torch.utils.data.DataLoader(valid_ds, batch_size, shuffle=False,\n",
    "                                         drop_last=True)\n",
    "\n",
    "test_iter = torch.utils.data.DataLoader(test_ds, batch_size, shuffle=False,\n",
    "                                        drop_last=False)"
   ],
   "metadata": {
    "collapsed": false,
    "ExecuteTime": {
     "end_time": "2023-10-18T01:03:10.140136400Z",
     "start_time": "2023-10-18T01:03:10.116039900Z"
    }
   },
   "id": "816320534560a68e"
  },
  {
   "cell_type": "code",
   "execution_count": 31,
   "outputs": [],
   "source": [
    "def get_net():\n",
    "    num_classes = 10\n",
    "    net = d2l.resnet18(num_classes, 3)\n",
    "    return net\n",
    "\n",
    "loss = nn.CrossEntropyLoss(reduction=\"none\")"
   ],
   "metadata": {
    "collapsed": false,
    "ExecuteTime": {
     "end_time": "2023-10-18T01:03:10.154137400Z",
     "start_time": "2023-10-18T01:03:10.129078300Z"
    }
   },
   "id": "a6035015be453181"
  },
  {
   "cell_type": "code",
   "execution_count": 32,
   "outputs": [],
   "source": [
    "def train(net, train_iter, valid_iter, num_epochs, lr, wd, devices, lr_period,\n",
    "          lr_decay):\n",
    "    trainer = torch.optim.SGD(net.parameters(), lr=lr, momentum=0.9,\n",
    "                              weight_decay=wd)\n",
    "    scheduler = torch.optim.lr_scheduler.StepLR(trainer, lr_period, lr_decay)\n",
    "    num_batches, timer = len(train_iter), d2l.Timer()\n",
    "    legend = ['train loss', 'train acc']\n",
    "    if valid_iter is not None:\n",
    "        legend.append('valid acc')\n",
    "    animator = d2l.Animator(xlabel='epoch', xlim=[1, num_epochs],\n",
    "                            legend=legend)\n",
    "    net = nn.DataParallel(net, device_ids=devices).to(devices[0])\n",
    "    for epoch in range(num_epochs):\n",
    "        net.train()\n",
    "        metric = d2l.Accumulator(3)\n",
    "        for i, (features, labels) in enumerate(train_iter):\n",
    "            timer.start()\n",
    "            l, acc = d2l.train_batch_ch13(net, features, labels,\n",
    "                                          loss, trainer, devices)\n",
    "            metric.add(l, acc, labels.shape[0])\n",
    "            timer.stop()\n",
    "            if (i + 1) % (num_batches // 5) == 0 or i == num_batches - 1:\n",
    "                animator.add(epoch + (i + 1) / num_batches,\n",
    "                             (metric[0] / metric[2], metric[1] / metric[2],\n",
    "                              None))\n",
    "        if valid_iter is not None:\n",
    "            valid_acc = d2l.evaluate_accuracy_gpu(net, valid_iter)\n",
    "            animator.add(epoch + 1, (None, None, valid_acc))\n",
    "        scheduler.step()\n",
    "    measures = (f'train loss {metric[0] / metric[2]:.3f}, '\n",
    "                f'train acc {metric[1] / metric[2]:.3f}')\n",
    "    if valid_iter is not None:\n",
    "        measures += f', valid acc {valid_acc:.3f}'\n",
    "    print(measures + f'\\n{metric[2] * num_epochs / timer.sum():.1f}'\n",
    "          f' examples/sec on {str(devices)}')"
   ],
   "metadata": {
    "collapsed": false,
    "ExecuteTime": {
     "end_time": "2023-10-18T01:03:10.168136200Z",
     "start_time": "2023-10-18T01:03:10.151137400Z"
    }
   },
   "id": "e92ee99c4215d763"
  },
  {
   "cell_type": "code",
   "execution_count": 33,
   "outputs": [
    {
     "name": "stdout",
     "output_type": "stream",
     "text": [
      "train loss 0.057, train acc 0.984, valid acc 0.469\n",
      "1867.2 examples/sec on [device(type='cuda', index=0)]\n"
     ]
    },
    {
     "data": {
      "text/plain": "<Figure size 350x250 with 1 Axes>",
      "image/svg+xml": "<?xml version=\"1.0\" encoding=\"utf-8\" standalone=\"no\"?>\n<!DOCTYPE svg PUBLIC \"-//W3C//DTD SVG 1.1//EN\"\n  \"http://www.w3.org/Graphics/SVG/1.1/DTD/svg11.dtd\">\n<svg xmlns:xlink=\"http://www.w3.org/1999/xlink\" width=\"238.965625pt\" height=\"183.35625pt\" viewBox=\"0 0 238.965625 183.35625\" xmlns=\"http://www.w3.org/2000/svg\" version=\"1.1\">\n <metadata>\n  <rdf:RDF xmlns:dc=\"http://purl.org/dc/elements/1.1/\" xmlns:cc=\"http://creativecommons.org/ns#\" xmlns:rdf=\"http://www.w3.org/1999/02/22-rdf-syntax-ns#\">\n   <cc:Work>\n    <dc:type rdf:resource=\"http://purl.org/dc/dcmitype/StillImage\"/>\n    <dc:date>2023-10-18T09:04:39.971522</dc:date>\n    <dc:format>image/svg+xml</dc:format>\n    <dc:creator>\n     <cc:Agent>\n      <dc:title>Matplotlib v3.7.2, https://matplotlib.org/</dc:title>\n     </cc:Agent>\n    </dc:creator>\n   </cc:Work>\n  </rdf:RDF>\n </metadata>\n <defs>\n  <style type=\"text/css\">*{stroke-linejoin: round; stroke-linecap: butt}</style>\n </defs>\n <g id=\"figure_1\">\n  <g id=\"patch_1\">\n   <path d=\"M 0 183.35625 \nL 238.965625 183.35625 \nL 238.965625 0 \nL 0 0 \nz\n\" style=\"fill: #ffffff\"/>\n  </g>\n  <g id=\"axes_1\">\n   <g id=\"patch_2\">\n    <path d=\"M 30.103125 145.8 \nL 225.403125 145.8 \nL 225.403125 7.2 \nL 30.103125 7.2 \nz\n\" style=\"fill: #ffffff\"/>\n   </g>\n   <g id=\"matplotlib.axis_1\">\n    <g id=\"xtick_1\">\n     <g id=\"line2d_1\">\n      <path d=\"M 65.974554 145.8 \nL 65.974554 7.2 \n\" clip-path=\"url(#p1e0601f811)\" style=\"fill: none; stroke: #b0b0b0; stroke-width: 0.8; stroke-linecap: square\"/>\n     </g>\n     <g id=\"line2d_2\">\n      <defs>\n       <path id=\"m00565aa619\" d=\"M 0 0 \nL 0 3.5 \n\" style=\"stroke: #000000; stroke-width: 0.8\"/>\n      </defs>\n      <g>\n       <use xlink:href=\"#m00565aa619\" x=\"65.974554\" y=\"145.8\" style=\"stroke: #000000; stroke-width: 0.8\"/>\n      </g>\n     </g>\n     <g id=\"text_1\">\n      <!-- 10 -->\n      <g transform=\"translate(59.612054 160.398438) scale(0.1 -0.1)\">\n       <defs>\n        <path id=\"DejaVuSans-31\" d=\"M 794 531 \nL 1825 531 \nL 1825 4091 \nL 703 3866 \nL 703 4441 \nL 1819 4666 \nL 2450 4666 \nL 2450 531 \nL 3481 531 \nL 3481 0 \nL 794 0 \nL 794 531 \nz\n\" transform=\"scale(0.015625)\"/>\n        <path id=\"DejaVuSans-30\" d=\"M 2034 4250 \nQ 1547 4250 1301 3770 \nQ 1056 3291 1056 2328 \nQ 1056 1369 1301 889 \nQ 1547 409 2034 409 \nQ 2525 409 2770 889 \nQ 3016 1369 3016 2328 \nQ 3016 3291 2770 3770 \nQ 2525 4250 2034 4250 \nz\nM 2034 4750 \nQ 2819 4750 3233 4129 \nQ 3647 3509 3647 2328 \nQ 3647 1150 3233 529 \nQ 2819 -91 2034 -91 \nQ 1250 -91 836 529 \nQ 422 1150 422 2328 \nQ 422 3509 836 4129 \nQ 1250 4750 2034 4750 \nz\n\" transform=\"scale(0.015625)\"/>\n       </defs>\n       <use xlink:href=\"#DejaVuSans-31\"/>\n       <use xlink:href=\"#DejaVuSans-30\" x=\"63.623047\"/>\n      </g>\n     </g>\n    </g>\n    <g id=\"xtick_2\">\n     <g id=\"line2d_3\">\n      <path d=\"M 105.831696 145.8 \nL 105.831696 7.2 \n\" clip-path=\"url(#p1e0601f811)\" style=\"fill: none; stroke: #b0b0b0; stroke-width: 0.8; stroke-linecap: square\"/>\n     </g>\n     <g id=\"line2d_4\">\n      <g>\n       <use xlink:href=\"#m00565aa619\" x=\"105.831696\" y=\"145.8\" style=\"stroke: #000000; stroke-width: 0.8\"/>\n      </g>\n     </g>\n     <g id=\"text_2\">\n      <!-- 20 -->\n      <g transform=\"translate(99.469196 160.398438) scale(0.1 -0.1)\">\n       <defs>\n        <path id=\"DejaVuSans-32\" d=\"M 1228 531 \nL 3431 531 \nL 3431 0 \nL 469 0 \nL 469 531 \nQ 828 903 1448 1529 \nQ 2069 2156 2228 2338 \nQ 2531 2678 2651 2914 \nQ 2772 3150 2772 3378 \nQ 2772 3750 2511 3984 \nQ 2250 4219 1831 4219 \nQ 1534 4219 1204 4116 \nQ 875 4013 500 3803 \nL 500 4441 \nQ 881 4594 1212 4672 \nQ 1544 4750 1819 4750 \nQ 2544 4750 2975 4387 \nQ 3406 4025 3406 3419 \nQ 3406 3131 3298 2873 \nQ 3191 2616 2906 2266 \nQ 2828 2175 2409 1742 \nQ 1991 1309 1228 531 \nz\n\" transform=\"scale(0.015625)\"/>\n       </defs>\n       <use xlink:href=\"#DejaVuSans-32\"/>\n       <use xlink:href=\"#DejaVuSans-30\" x=\"63.623047\"/>\n      </g>\n     </g>\n    </g>\n    <g id=\"xtick_3\">\n     <g id=\"line2d_5\">\n      <path d=\"M 145.688839 145.8 \nL 145.688839 7.2 \n\" clip-path=\"url(#p1e0601f811)\" style=\"fill: none; stroke: #b0b0b0; stroke-width: 0.8; stroke-linecap: square\"/>\n     </g>\n     <g id=\"line2d_6\">\n      <g>\n       <use xlink:href=\"#m00565aa619\" x=\"145.688839\" y=\"145.8\" style=\"stroke: #000000; stroke-width: 0.8\"/>\n      </g>\n     </g>\n     <g id=\"text_3\">\n      <!-- 30 -->\n      <g transform=\"translate(139.326339 160.398438) scale(0.1 -0.1)\">\n       <defs>\n        <path id=\"DejaVuSans-33\" d=\"M 2597 2516 \nQ 3050 2419 3304 2112 \nQ 3559 1806 3559 1356 \nQ 3559 666 3084 287 \nQ 2609 -91 1734 -91 \nQ 1441 -91 1130 -33 \nQ 819 25 488 141 \nL 488 750 \nQ 750 597 1062 519 \nQ 1375 441 1716 441 \nQ 2309 441 2620 675 \nQ 2931 909 2931 1356 \nQ 2931 1769 2642 2001 \nQ 2353 2234 1838 2234 \nL 1294 2234 \nL 1294 2753 \nL 1863 2753 \nQ 2328 2753 2575 2939 \nQ 2822 3125 2822 3475 \nQ 2822 3834 2567 4026 \nQ 2313 4219 1838 4219 \nQ 1578 4219 1281 4162 \nQ 984 4106 628 3988 \nL 628 4550 \nQ 988 4650 1302 4700 \nQ 1616 4750 1894 4750 \nQ 2613 4750 3031 4423 \nQ 3450 4097 3450 3541 \nQ 3450 3153 3228 2886 \nQ 3006 2619 2597 2516 \nz\n\" transform=\"scale(0.015625)\"/>\n       </defs>\n       <use xlink:href=\"#DejaVuSans-33\"/>\n       <use xlink:href=\"#DejaVuSans-30\" x=\"63.623047\"/>\n      </g>\n     </g>\n    </g>\n    <g id=\"xtick_4\">\n     <g id=\"line2d_7\">\n      <path d=\"M 185.545982 145.8 \nL 185.545982 7.2 \n\" clip-path=\"url(#p1e0601f811)\" style=\"fill: none; stroke: #b0b0b0; stroke-width: 0.8; stroke-linecap: square\"/>\n     </g>\n     <g id=\"line2d_8\">\n      <g>\n       <use xlink:href=\"#m00565aa619\" x=\"185.545982\" y=\"145.8\" style=\"stroke: #000000; stroke-width: 0.8\"/>\n      </g>\n     </g>\n     <g id=\"text_4\">\n      <!-- 40 -->\n      <g transform=\"translate(179.183482 160.398438) scale(0.1 -0.1)\">\n       <defs>\n        <path id=\"DejaVuSans-34\" d=\"M 2419 4116 \nL 825 1625 \nL 2419 1625 \nL 2419 4116 \nz\nM 2253 4666 \nL 3047 4666 \nL 3047 1625 \nL 3713 1625 \nL 3713 1100 \nL 3047 1100 \nL 3047 0 \nL 2419 0 \nL 2419 1100 \nL 313 1100 \nL 313 1709 \nL 2253 4666 \nz\n\" transform=\"scale(0.015625)\"/>\n       </defs>\n       <use xlink:href=\"#DejaVuSans-34\"/>\n       <use xlink:href=\"#DejaVuSans-30\" x=\"63.623047\"/>\n      </g>\n     </g>\n    </g>\n    <g id=\"xtick_5\">\n     <g id=\"line2d_9\">\n      <path d=\"M 225.403125 145.8 \nL 225.403125 7.2 \n\" clip-path=\"url(#p1e0601f811)\" style=\"fill: none; stroke: #b0b0b0; stroke-width: 0.8; stroke-linecap: square\"/>\n     </g>\n     <g id=\"line2d_10\">\n      <g>\n       <use xlink:href=\"#m00565aa619\" x=\"225.403125\" y=\"145.8\" style=\"stroke: #000000; stroke-width: 0.8\"/>\n      </g>\n     </g>\n     <g id=\"text_5\">\n      <!-- 50 -->\n      <g transform=\"translate(219.040625 160.398438) scale(0.1 -0.1)\">\n       <defs>\n        <path id=\"DejaVuSans-35\" d=\"M 691 4666 \nL 3169 4666 \nL 3169 4134 \nL 1269 4134 \nL 1269 2991 \nQ 1406 3038 1543 3061 \nQ 1681 3084 1819 3084 \nQ 2600 3084 3056 2656 \nQ 3513 2228 3513 1497 \nQ 3513 744 3044 326 \nQ 2575 -91 1722 -91 \nQ 1428 -91 1123 -41 \nQ 819 9 494 109 \nL 494 744 \nQ 775 591 1075 516 \nQ 1375 441 1709 441 \nQ 2250 441 2565 725 \nQ 2881 1009 2881 1497 \nQ 2881 1984 2565 2268 \nQ 2250 2553 1709 2553 \nQ 1456 2553 1204 2497 \nQ 953 2441 691 2322 \nL 691 4666 \nz\n\" transform=\"scale(0.015625)\"/>\n       </defs>\n       <use xlink:href=\"#DejaVuSans-35\"/>\n       <use xlink:href=\"#DejaVuSans-30\" x=\"63.623047\"/>\n      </g>\n     </g>\n    </g>\n    <g id=\"text_6\">\n     <!-- epoch -->\n     <g transform=\"translate(112.525 174.076563) scale(0.1 -0.1)\">\n      <defs>\n       <path id=\"DejaVuSans-65\" d=\"M 3597 1894 \nL 3597 1613 \nL 953 1613 \nQ 991 1019 1311 708 \nQ 1631 397 2203 397 \nQ 2534 397 2845 478 \nQ 3156 559 3463 722 \nL 3463 178 \nQ 3153 47 2828 -22 \nQ 2503 -91 2169 -91 \nQ 1331 -91 842 396 \nQ 353 884 353 1716 \nQ 353 2575 817 3079 \nQ 1281 3584 2069 3584 \nQ 2775 3584 3186 3129 \nQ 3597 2675 3597 1894 \nz\nM 3022 2063 \nQ 3016 2534 2758 2815 \nQ 2500 3097 2075 3097 \nQ 1594 3097 1305 2825 \nQ 1016 2553 972 2059 \nL 3022 2063 \nz\n\" transform=\"scale(0.015625)\"/>\n       <path id=\"DejaVuSans-70\" d=\"M 1159 525 \nL 1159 -1331 \nL 581 -1331 \nL 581 3500 \nL 1159 3500 \nL 1159 2969 \nQ 1341 3281 1617 3432 \nQ 1894 3584 2278 3584 \nQ 2916 3584 3314 3078 \nQ 3713 2572 3713 1747 \nQ 3713 922 3314 415 \nQ 2916 -91 2278 -91 \nQ 1894 -91 1617 61 \nQ 1341 213 1159 525 \nz\nM 3116 1747 \nQ 3116 2381 2855 2742 \nQ 2594 3103 2138 3103 \nQ 1681 3103 1420 2742 \nQ 1159 2381 1159 1747 \nQ 1159 1113 1420 752 \nQ 1681 391 2138 391 \nQ 2594 391 2855 752 \nQ 3116 1113 3116 1747 \nz\n\" transform=\"scale(0.015625)\"/>\n       <path id=\"DejaVuSans-6f\" d=\"M 1959 3097 \nQ 1497 3097 1228 2736 \nQ 959 2375 959 1747 \nQ 959 1119 1226 758 \nQ 1494 397 1959 397 \nQ 2419 397 2687 759 \nQ 2956 1122 2956 1747 \nQ 2956 2369 2687 2733 \nQ 2419 3097 1959 3097 \nz\nM 1959 3584 \nQ 2709 3584 3137 3096 \nQ 3566 2609 3566 1747 \nQ 3566 888 3137 398 \nQ 2709 -91 1959 -91 \nQ 1206 -91 779 398 \nQ 353 888 353 1747 \nQ 353 2609 779 3096 \nQ 1206 3584 1959 3584 \nz\n\" transform=\"scale(0.015625)\"/>\n       <path id=\"DejaVuSans-63\" d=\"M 3122 3366 \nL 3122 2828 \nQ 2878 2963 2633 3030 \nQ 2388 3097 2138 3097 \nQ 1578 3097 1268 2742 \nQ 959 2388 959 1747 \nQ 959 1106 1268 751 \nQ 1578 397 2138 397 \nQ 2388 397 2633 464 \nQ 2878 531 3122 666 \nL 3122 134 \nQ 2881 22 2623 -34 \nQ 2366 -91 2075 -91 \nQ 1284 -91 818 406 \nQ 353 903 353 1747 \nQ 353 2603 823 3093 \nQ 1294 3584 2113 3584 \nQ 2378 3584 2631 3529 \nQ 2884 3475 3122 3366 \nz\n\" transform=\"scale(0.015625)\"/>\n       <path id=\"DejaVuSans-68\" d=\"M 3513 2113 \nL 3513 0 \nL 2938 0 \nL 2938 2094 \nQ 2938 2591 2744 2837 \nQ 2550 3084 2163 3084 \nQ 1697 3084 1428 2787 \nQ 1159 2491 1159 1978 \nL 1159 0 \nL 581 0 \nL 581 4863 \nL 1159 4863 \nL 1159 2956 \nQ 1366 3272 1645 3428 \nQ 1925 3584 2291 3584 \nQ 2894 3584 3203 3211 \nQ 3513 2838 3513 2113 \nz\n\" transform=\"scale(0.015625)\"/>\n      </defs>\n      <use xlink:href=\"#DejaVuSans-65\"/>\n      <use xlink:href=\"#DejaVuSans-70\" x=\"61.523438\"/>\n      <use xlink:href=\"#DejaVuSans-6f\" x=\"125\"/>\n      <use xlink:href=\"#DejaVuSans-63\" x=\"186.181641\"/>\n      <use xlink:href=\"#DejaVuSans-68\" x=\"241.162109\"/>\n     </g>\n    </g>\n   </g>\n   <g id=\"matplotlib.axis_2\">\n    <g id=\"ytick_1\">\n     <g id=\"line2d_11\">\n      <path d=\"M 30.103125 141.8779 \nL 225.403125 141.8779 \n\" clip-path=\"url(#p1e0601f811)\" style=\"fill: none; stroke: #b0b0b0; stroke-width: 0.8; stroke-linecap: square\"/>\n     </g>\n     <g id=\"line2d_12\">\n      <defs>\n       <path id=\"mec73803c27\" d=\"M 0 0 \nL -3.5 0 \n\" style=\"stroke: #000000; stroke-width: 0.8\"/>\n      </defs>\n      <g>\n       <use xlink:href=\"#mec73803c27\" x=\"30.103125\" y=\"141.8779\" style=\"stroke: #000000; stroke-width: 0.8\"/>\n      </g>\n     </g>\n     <g id=\"text_7\">\n      <!-- 0.0 -->\n      <g transform=\"translate(7.2 145.677119) scale(0.1 -0.1)\">\n       <defs>\n        <path id=\"DejaVuSans-2e\" d=\"M 684 794 \nL 1344 794 \nL 1344 0 \nL 684 0 \nL 684 794 \nz\n\" transform=\"scale(0.015625)\"/>\n       </defs>\n       <use xlink:href=\"#DejaVuSans-30\"/>\n       <use xlink:href=\"#DejaVuSans-2e\" x=\"63.623047\"/>\n       <use xlink:href=\"#DejaVuSans-30\" x=\"95.410156\"/>\n      </g>\n     </g>\n    </g>\n    <g id=\"ytick_2\">\n     <g id=\"line2d_13\">\n      <path d=\"M 30.103125 114.499105 \nL 225.403125 114.499105 \n\" clip-path=\"url(#p1e0601f811)\" style=\"fill: none; stroke: #b0b0b0; stroke-width: 0.8; stroke-linecap: square\"/>\n     </g>\n     <g id=\"line2d_14\">\n      <g>\n       <use xlink:href=\"#mec73803c27\" x=\"30.103125\" y=\"114.499105\" style=\"stroke: #000000; stroke-width: 0.8\"/>\n      </g>\n     </g>\n     <g id=\"text_8\">\n      <!-- 0.5 -->\n      <g transform=\"translate(7.2 118.298324) scale(0.1 -0.1)\">\n       <use xlink:href=\"#DejaVuSans-30\"/>\n       <use xlink:href=\"#DejaVuSans-2e\" x=\"63.623047\"/>\n       <use xlink:href=\"#DejaVuSans-35\" x=\"95.410156\"/>\n      </g>\n     </g>\n    </g>\n    <g id=\"ytick_3\">\n     <g id=\"line2d_15\">\n      <path d=\"M 30.103125 87.12031 \nL 225.403125 87.12031 \n\" clip-path=\"url(#p1e0601f811)\" style=\"fill: none; stroke: #b0b0b0; stroke-width: 0.8; stroke-linecap: square\"/>\n     </g>\n     <g id=\"line2d_16\">\n      <g>\n       <use xlink:href=\"#mec73803c27\" x=\"30.103125\" y=\"87.12031\" style=\"stroke: #000000; stroke-width: 0.8\"/>\n      </g>\n     </g>\n     <g id=\"text_9\">\n      <!-- 1.0 -->\n      <g transform=\"translate(7.2 90.919528) scale(0.1 -0.1)\">\n       <use xlink:href=\"#DejaVuSans-31\"/>\n       <use xlink:href=\"#DejaVuSans-2e\" x=\"63.623047\"/>\n       <use xlink:href=\"#DejaVuSans-30\" x=\"95.410156\"/>\n      </g>\n     </g>\n    </g>\n    <g id=\"ytick_4\">\n     <g id=\"line2d_17\">\n      <path d=\"M 30.103125 59.741515 \nL 225.403125 59.741515 \n\" clip-path=\"url(#p1e0601f811)\" style=\"fill: none; stroke: #b0b0b0; stroke-width: 0.8; stroke-linecap: square\"/>\n     </g>\n     <g id=\"line2d_18\">\n      <g>\n       <use xlink:href=\"#mec73803c27\" x=\"30.103125\" y=\"59.741515\" style=\"stroke: #000000; stroke-width: 0.8\"/>\n      </g>\n     </g>\n     <g id=\"text_10\">\n      <!-- 1.5 -->\n      <g transform=\"translate(7.2 63.540733) scale(0.1 -0.1)\">\n       <use xlink:href=\"#DejaVuSans-31\"/>\n       <use xlink:href=\"#DejaVuSans-2e\" x=\"63.623047\"/>\n       <use xlink:href=\"#DejaVuSans-35\" x=\"95.410156\"/>\n      </g>\n     </g>\n    </g>\n    <g id=\"ytick_5\">\n     <g id=\"line2d_19\">\n      <path d=\"M 30.103125 32.362719 \nL 225.403125 32.362719 \n\" clip-path=\"url(#p1e0601f811)\" style=\"fill: none; stroke: #b0b0b0; stroke-width: 0.8; stroke-linecap: square\"/>\n     </g>\n     <g id=\"line2d_20\">\n      <g>\n       <use xlink:href=\"#mec73803c27\" x=\"30.103125\" y=\"32.362719\" style=\"stroke: #000000; stroke-width: 0.8\"/>\n      </g>\n     </g>\n     <g id=\"text_11\">\n      <!-- 2.0 -->\n      <g transform=\"translate(7.2 36.161938) scale(0.1 -0.1)\">\n       <use xlink:href=\"#DejaVuSans-32\"/>\n       <use xlink:href=\"#DejaVuSans-2e\" x=\"63.623047\"/>\n       <use xlink:href=\"#DejaVuSans-30\" x=\"95.410156\"/>\n      </g>\n     </g>\n    </g>\n   </g>\n   <g id=\"line2d_21\">\n    <path d=\"M 26.829145 13.5 \nL 27.54088 15.105119 \nL 28.252615 18.703301 \nL 28.964349 21.152912 \nL 30.103125 23.680139 \nL 30.81486 42.647675 \nL 31.526594 36.32822 \nL 32.238329 32.991939 \nL 32.950064 32.132436 \nL 33.661798 32.95452 \nL 34.088839 33.04548 \nL 34.800574 44.570546 \nL 35.512309 40.076404 \nL 36.224043 40.258591 \nL 36.935778 36.756791 \nL 37.647513 37.003745 \nL 38.074554 36.626474 \nL 38.786288 38.194212 \nL 39.498023 43.804803 \nL 40.209758 44.131747 \nL 40.921492 46.53305 \nL 41.633227 44.718112 \nL 42.060268 44.747772 \nL 42.772003 47.201229 \nL 43.483737 46.932436 \nL 44.195472 50.038142 \nL 44.907207 50.26627 \nL 45.618941 52.445191 \nL 46.045982 52.881642 \nL 46.757717 57.735529 \nL 47.469452 57.623357 \nL 48.181186 55.202324 \nL 48.892921 56.149513 \nL 49.604656 55.673258 \nL 50.031696 55.747314 \nL 50.743431 64.072035 \nL 51.455166 61.036121 \nL 52.166901 60.208405 \nL 52.878635 60.462083 \nL 54.017411 60.062839 \nL 54.729145 61.404134 \nL 55.44088 64.778431 \nL 56.152615 63.989396 \nL 56.864349 62.055133 \nL 57.576084 62.267314 \nL 58.003125 62.276382 \nL 58.71486 71.801904 \nL 60.138329 68.166824 \nL 60.850064 69.961976 \nL 61.561798 70.994852 \nL 61.988839 70.50765 \nL 62.700574 76.609613 \nL 63.412309 74.372354 \nL 64.124043 73.94602 \nL 64.835778 74.90487 \nL 65.547513 73.762137 \nL 65.974554 73.874904 \nL 66.686288 83.268373 \nL 67.398023 79.550859 \nL 68.109758 77.731559 \nL 68.821492 78.545361 \nL 69.533227 78.766876 \nL 69.960268 77.692441 \nL 70.672003 70.823072 \nL 71.383737 76.601901 \nL 72.095472 79.521713 \nL 72.807207 79.890102 \nL 73.945982 79.15544 \nL 74.657717 93.586043 \nL 76.081186 86.769366 \nL 76.792921 85.540924 \nL 77.504656 84.79251 \nL 77.931696 84.812005 \nL 78.643431 93.313698 \nL 79.355166 88.74221 \nL 80.066901 90.515546 \nL 80.778635 87.196439 \nL 81.49037 86.269967 \nL 81.917411 86.171872 \nL 82.629145 92.817098 \nL 83.34088 93.462101 \nL 84.052615 93.011551 \nL 84.764349 91.535787 \nL 85.903125 90.172051 \nL 86.61486 99.295678 \nL 87.326594 98.917473 \nL 88.038329 96.847587 \nL 88.750064 94.414662 \nL 89.461798 94.205709 \nL 89.888839 93.70698 \nL 90.600574 101.009582 \nL 91.312309 101.090563 \nL 92.024043 100.286121 \nL 92.735778 98.43527 \nL 93.447513 97.997251 \nL 93.874554 98.060644 \nL 94.586288 108.525119 \nL 95.298023 107.438372 \nL 96.009758 103.914397 \nL 96.721492 101.801066 \nL 97.433227 100.73972 \nL 97.860268 101.047959 \nL 98.572003 112.203208 \nL 99.995472 104.825049 \nL 100.707207 105.714539 \nL 101.418941 105.516723 \nL 101.845982 104.360683 \nL 103.269452 105.210078 \nL 103.981186 104.959518 \nL 104.692921 105.8499 \nL 105.404656 106.254291 \nL 105.831696 105.345379 \nL 106.543431 113.468288 \nL 107.255166 114.581593 \nL 107.966901 112.039328 \nL 108.678635 110.840933 \nL 109.39037 107.032139 \nL 109.817411 106.669511 \nL 110.529145 118.666482 \nL 111.24088 113.579572 \nL 111.952615 113.216958 \nL 112.664349 112.675518 \nL 113.376084 111.843986 \nL 113.803125 111.701749 \nL 114.51486 114.561452 \nL 115.226594 114.780703 \nL 115.938329 115.830743 \nL 116.650064 115.163948 \nL 117.788839 113.538599 \nL 118.500574 118.656386 \nL 119.212309 119.327937 \nL 119.924043 119.487163 \nL 120.635778 118.351839 \nL 121.347513 118.750023 \nL 121.774554 118.420999 \nL 122.486288 112.550478 \nL 123.198023 115.527504 \nL 123.909758 113.812299 \nL 124.621492 115.43486 \nL 125.333227 115.726992 \nL 125.760268 114.61317 \nL 126.472003 118.069581 \nL 127.183737 120.412357 \nL 127.895472 120.454298 \nL 128.607207 120.896902 \nL 129.318941 119.226309 \nL 129.745982 119.364925 \nL 130.457717 127.771943 \nL 131.881186 126.267163 \nL 132.592921 125.165387 \nL 133.304656 123.47587 \nL 133.731696 123.657031 \nL 134.443431 127.139984 \nL 135.866901 125.264022 \nL 136.578635 126.136862 \nL 137.29037 126.792482 \nL 137.717411 125.831601 \nL 138.429145 127.677517 \nL 139.14088 128.127503 \nL 139.852615 125.183479 \nL 140.564349 124.914149 \nL 141.276084 124.786167 \nL 141.703125 124.332869 \nL 142.41486 131.077507 \nL 143.126594 128.248977 \nL 143.838329 127.741261 \nL 144.550064 127.648204 \nL 145.261798 128.13955 \nL 145.688839 127.799927 \nL 146.400574 130.114228 \nL 147.112309 131.896995 \nL 147.824043 131.506442 \nL 148.535778 130.671295 \nL 149.247513 130.860723 \nL 149.674554 130.322929 \nL 150.386288 130.847078 \nL 151.098023 131.084724 \nL 151.809758 131.058858 \nL 152.521492 131.455403 \nL 153.233227 130.796915 \nL 153.660268 131.256855 \nL 154.372003 131.829483 \nL 155.083737 131.496579 \nL 155.795472 129.989026 \nL 156.507207 130.437694 \nL 157.645982 131.854757 \nL 158.357717 134.124095 \nL 159.069452 133.101699 \nL 160.492921 133.305616 \nL 161.204656 133.221784 \nL 161.631696 133.352573 \nL 162.343431 134.244635 \nL 163.055166 132.201759 \nL 163.766901 133.06927 \nL 164.478635 132.998903 \nL 165.19037 131.90826 \nL 165.617411 132.08574 \nL 166.329145 132.997168 \nL 167.04088 131.549553 \nL 167.752615 131.645589 \nL 168.464349 131.384731 \nL 169.176084 131.389695 \nL 169.603125 131.628452 \nL 170.31486 131.417768 \nL 171.026594 132.493462 \nL 171.738329 133.151542 \nL 172.450064 134.125494 \nL 173.588839 133.22138 \nL 174.300574 135.636771 \nL 175.012309 134.885885 \nL 175.724043 134.400531 \nL 177.147513 134.701446 \nL 177.574554 134.606082 \nL 178.998023 136.724487 \nL 179.709758 137.015761 \nL 180.421492 135.870508 \nL 181.133227 135.036887 \nL 181.560268 134.791602 \nL 182.272003 135.321031 \nL 182.983737 136.805729 \nL 185.118941 133.941347 \nL 185.545982 134.049968 \nL 186.257717 132.564515 \nL 186.969452 134.401878 \nL 187.681186 135.415852 \nL 188.392921 135.28376 \nL 189.104656 135.870535 \nL 189.531696 135.754287 \nL 190.243431 135.348306 \nL 190.955166 136.713641 \nL 191.666901 136.408781 \nL 193.09037 136.181341 \nL 193.517411 136.322492 \nL 194.229145 139.113223 \nL 194.94088 138.421229 \nL 196.364349 137.777466 \nL 197.076084 137.938674 \nL 197.503125 137.632088 \nL 198.21486 136.192805 \nL 198.926594 135.294417 \nL 199.638329 135.434681 \nL 200.350064 135.824454 \nL 201.488839 135.914343 \nL 202.200574 138.369084 \nL 202.912309 138.283633 \nL 203.624043 137.853083 \nL 204.335778 137.768054 \nL 205.047513 137.463395 \nL 205.474554 136.971583 \nL 206.186288 139.105509 \nL 206.898023 138.781701 \nL 207.609758 138.2129 \nL 209.033227 137.832586 \nL 209.460268 137.818913 \nL 210.172003 137.44603 \nL 210.883737 137.315702 \nL 211.595472 137.882457 \nL 212.307207 137.85667 \nL 213.018941 137.34684 \nL 213.445982 137.563251 \nL 214.157717 138.583527 \nL 214.869452 138.189294 \nL 215.581186 138.794702 \nL 217.431696 138.140714 \nL 218.143431 139.08293 \nL 218.855166 139.5 \nL 219.566901 139.180223 \nL 220.278635 138.506104 \nL 221.417411 138.645883 \nL 222.129145 139.376711 \nL 222.84088 138.402365 \nL 223.552615 139.093258 \nL 224.264349 138.330525 \nL 225.403125 138.74168 \nL 225.403125 138.74168 \n\" clip-path=\"url(#p1e0601f811)\" style=\"fill: none; stroke: #1f77b4; stroke-width: 1.5; stroke-linecap: square\"/>\n   </g>\n   <g id=\"line2d_22\">\n    <path d=\"M 26.829145 135.033201 \nL 27.54088 134.519849 \nL 28.252615 132.181244 \nL 28.964349 130.41303 \nL 29.676084 130.036571 \nL 30.103125 129.960791 \nL 30.81486 123.397213 \nL 31.526594 126.135093 \nL 32.950064 127.076239 \nL 34.088839 126.660668 \nL 34.800574 122.712744 \nL 35.512309 121.172686 \nL 36.224043 121.57196 \nL 36.935778 122.28495 \nL 37.647513 122.028274 \nL 38.074554 122.382731 \nL 38.786288 123.739448 \nL 39.498023 123.226096 \nL 40.209758 124.081683 \nL 40.921492 123.397213 \nL 41.633227 123.602554 \nL 42.060268 123.543886 \nL 42.772003 120.659334 \nL 43.483737 122.199391 \nL 44.195472 122.142352 \nL 44.907207 121.60048 \nL 45.618941 120.727781 \nL 46.045982 120.793783 \nL 46.757717 118.263689 \nL 47.469452 119.632629 \nL 48.181186 119.746707 \nL 48.892921 119.461512 \nL 50.031696 119.877083 \nL 50.743431 113.814635 \nL 51.455166 115.868045 \nL 52.166901 116.780671 \nL 52.878635 116.466956 \nL 53.59037 116.689409 \nL 54.017411 116.39362 \nL 54.729145 117.921454 \nL 56.152615 116.666593 \nL 57.576084 116.004939 \nL 58.003125 116.088053 \nL 58.71486 113.4724 \nL 59.426594 113.814635 \nL 60.138329 114.385027 \nL 60.850064 114.413546 \nL 61.561798 113.403953 \nL 61.988839 113.643518 \nL 62.700574 111.761225 \nL 63.412309 112.445695 \nL 64.124043 111.875304 \nL 65.547513 111.898119 \nL 65.974554 112.05457 \nL 66.686288 106.969936 \nL 67.398023 109.365581 \nL 68.109758 109.935972 \nL 68.821492 109.536698 \nL 69.533227 109.570922 \nL 69.960268 110.098941 \nL 70.672003 112.445695 \nL 71.383737 109.365581 \nL 72.095472 108.795189 \nL 72.807207 109.280022 \nL 73.518941 109.365581 \nL 73.945982 109.548921 \nL 74.657717 103.889822 \nL 75.369452 104.574292 \nL 76.081186 106.627701 \nL 76.792921 107.312171 \nL 77.504656 107.722853 \nL 77.931696 107.532179 \nL 78.643431 104.916527 \nL 79.355166 106.456584 \nL 80.066901 105.829153 \nL 80.778635 106.969936 \nL 81.917411 107.532179 \nL 82.629145 103.889822 \nL 83.34088 105.258762 \nL 84.052615 104.460213 \nL 84.764349 104.916527 \nL 85.476084 104.84808 \nL 85.903125 105.087644 \nL 86.61486 102.178647 \nL 87.326594 102.349765 \nL 88.038329 103.091274 \nL 89.461798 103.889822 \nL 89.888839 104.415397 \nL 90.600574 100.467472 \nL 91.312309 100.980825 \nL 92.024043 101.836412 \nL 92.735778 102.948676 \nL 93.447513 103.205352 \nL 93.874554 102.948676 \nL 94.586288 98.414063 \nL 96.009758 100.923786 \nL 96.721492 101.151942 \nL 97.433227 101.699518 \nL 97.860268 101.420841 \nL 98.572003 94.991713 \nL 99.995472 99.440768 \nL 100.707207 99.098533 \nL 101.418941 99.16698 \nL 101.845982 99.648553 \nL 102.557717 100.125237 \nL 103.269452 100.125237 \nL 103.981186 100.809707 \nL 104.692921 100.467472 \nL 105.404656 100.262131 \nL 105.831696 100.259687 \nL 106.543431 97.387358 \nL 107.255166 96.874006 \nL 107.966901 97.729593 \nL 108.678635 98.242945 \nL 109.39037 99.372321 \nL 109.817411 99.526326 \nL 110.529145 93.280539 \nL 111.24088 96.702888 \nL 111.952615 96.360653 \nL 112.664349 97.045123 \nL 113.376084 97.524252 \nL 113.803125 97.631811 \nL 114.51486 95.676183 \nL 115.226594 96.360653 \nL 115.938329 95.562105 \nL 116.650064 95.847301 \nL 117.788839 96.592884 \nL 118.500574 96.360653 \nL 119.212309 94.991713 \nL 119.924043 94.5354 \nL 120.635778 94.820596 \nL 121.347513 94.854819 \nL 121.774554 94.759483 \nL 122.486288 97.729593 \nL 123.198023 96.189536 \nL 123.909758 96.132497 \nL 125.333227 95.128607 \nL 125.760268 95.676183 \nL 126.472003 93.622774 \nL 127.183737 93.793891 \nL 127.895472 94.307243 \nL 128.607207 94.307243 \nL 129.318941 94.717925 \nL 129.745982 94.576142 \nL 130.457717 91.569364 \nL 131.881186 92.025677 \nL 132.592921 92.51051 \nL 133.304656 92.80141 \nL 133.731696 92.803854 \nL 134.443431 91.569364 \nL 135.155166 92.424951 \nL 135.866901 92.710147 \nL 136.578635 92.339393 \nL 137.29037 92.11694 \nL 137.717411 92.437174 \nL 138.429145 91.227129 \nL 139.14088 91.740481 \nL 139.852615 92.48199 \nL 140.564349 92.596069 \nL 141.276084 92.459175 \nL 141.703125 92.620514 \nL 142.41486 90.884894 \nL 143.126594 92.082716 \nL 143.838329 92.025677 \nL 145.261798 91.43247 \nL 145.688839 91.6427 \nL 147.112309 90.200424 \nL 147.824043 90.314503 \nL 148.535778 90.628218 \nL 149.247513 90.405765 \nL 149.674554 90.664886 \nL 150.386288 90.884894 \nL 151.098023 90.200424 \nL 151.809758 90.200424 \nL 152.521492 90.371542 \nL 153.233227 90.884894 \nL 153.660268 90.664886 \nL 154.372003 91.911599 \nL 155.083737 90.713777 \nL 155.795472 90.998972 \nL 156.507207 90.884894 \nL 157.645982 90.237092 \nL 158.357717 89.173719 \nL 159.069452 89.858189 \nL 161.631696 89.748185 \nL 162.343431 89.515954 \nL 163.055166 90.542659 \nL 163.766901 89.972268 \nL 164.478635 89.858189 \nL 165.19037 90.200424 \nL 165.617411 90.175979 \nL 166.329145 89.858189 \nL 167.04088 90.542659 \nL 169.603125 90.481546 \nL 170.31486 90.884894 \nL 171.026594 90.200424 \nL 171.738329 90.086346 \nL 172.450064 89.687072 \nL 173.161798 89.721295 \nL 173.588839 89.870412 \nL 174.300574 88.147015 \nL 175.012309 89.173719 \nL 175.724043 89.287798 \nL 176.435778 89.259278 \nL 177.147513 89.105272 \nL 177.574554 89.198165 \nL 178.286288 89.515954 \nL 178.998023 89.002602 \nL 179.709758 88.717406 \nL 181.560268 89.381505 \nL 182.272003 88.48925 \nL 182.983737 88.318132 \nL 184.407207 89.002602 \nL 185.118941 89.310613 \nL 185.545982 89.320392 \nL 186.257717 90.884894 \nL 186.969452 89.858189 \nL 187.681186 89.287798 \nL 188.392921 89.259278 \nL 189.104656 88.968378 \nL 189.531696 89.014825 \nL 190.243431 88.831484 \nL 190.955166 88.48925 \nL 191.666901 88.831484 \nL 193.517411 88.831484 \nL 194.229145 87.462545 \nL 195.652615 87.918858 \nL 196.364349 88.147015 \nL 197.076084 88.147015 \nL 198.926594 88.831484 \nL 199.638329 89.173719 \nL 201.488839 89.075938 \nL 202.912309 87.975897 \nL 203.624043 88.032936 \nL 204.335778 88.232573 \nL 205.047513 88.215462 \nL 205.474554 88.464804 \nL 206.186288 87.462545 \nL 208.321492 87.890338 \nL 210.883737 88.318132 \nL 211.595472 88.147015 \nL 212.307207 88.147015 \nL 213.018941 88.420803 \nL 213.445982 88.342577 \nL 214.157717 87.80478 \nL 214.869452 87.975897 \nL 215.581186 87.918858 \nL 216.292921 88.061456 \nL 217.004656 88.078568 \nL 217.431696 88.281464 \nL 218.143431 87.80478 \nL 218.855166 87.80478 \nL 220.278635 88.147015 \nL 221.417411 87.975897 \nL 222.84088 88.318132 \nL 223.552615 88.032936 \nL 224.264349 88.232573 \nL 225.403125 87.975897 \nL 225.403125 87.975897 \n\" clip-path=\"url(#p1e0601f811)\" style=\"fill: none; stroke-dasharray: 5.55,2.4; stroke-dashoffset: 0; stroke: #bf00bf; stroke-width: 1.5\"/>\n   </g>\n   <g id=\"line2d_23\">\n    <path d=\"M 30.103125 128.188503 \nL 34.088839 137.599963 \nL 38.074554 127.332915 \nL 42.060268 124.766153 \nL 46.045982 122.199391 \nL 50.031696 122.199391 \nL 54.017411 122.199391 \nL 58.003125 122.199391 \nL 61.988839 118.777042 \nL 65.974554 123.910566 \nL 69.960268 117.065867 \nL 73.945982 117.065867 \nL 77.931696 120.488216 \nL 81.917411 124.766153 \nL 85.903125 122.199391 \nL 89.888839 125.621741 \nL 93.874554 120.488216 \nL 97.860268 118.777042 \nL 101.845982 122.199391 \nL 105.831696 118.777042 \nL 109.817411 115.354692 \nL 113.803125 116.21028 \nL 117.788839 117.065867 \nL 121.774554 117.921454 \nL 125.760268 116.21028 \nL 129.745982 119.632629 \nL 133.731696 116.21028 \nL 137.717411 114.499105 \nL 141.703125 116.21028 \nL 145.688839 119.632629 \nL 149.674554 117.065867 \nL 153.660268 119.632629 \nL 157.645982 116.21028 \nL 161.631696 117.065867 \nL 165.617411 117.921454 \nL 169.603125 113.643518 \nL 173.588839 117.065867 \nL 177.574554 116.21028 \nL 181.560268 112.78793 \nL 185.545982 113.643518 \nL 189.531696 111.932343 \nL 193.517411 115.354692 \nL 197.503125 114.499105 \nL 201.488839 115.354692 \nL 205.474554 119.632629 \nL 209.460268 115.354692 \nL 213.445982 111.932343 \nL 217.431696 114.499105 \nL 221.417411 112.78793 \nL 225.403125 116.21028 \n\" clip-path=\"url(#p1e0601f811)\" style=\"fill: none; stroke-dasharray: 9.6,2.4,1.5,2.4; stroke-dashoffset: 0; stroke: #008000; stroke-width: 1.5\"/>\n   </g>\n   <g id=\"patch_3\">\n    <path d=\"M 30.103125 145.8 \nL 30.103125 7.2 \n\" style=\"fill: none; stroke: #000000; stroke-width: 0.8; stroke-linejoin: miter; stroke-linecap: square\"/>\n   </g>\n   <g id=\"patch_4\">\n    <path d=\"M 225.403125 145.8 \nL 225.403125 7.2 \n\" style=\"fill: none; stroke: #000000; stroke-width: 0.8; stroke-linejoin: miter; stroke-linecap: square\"/>\n   </g>\n   <g id=\"patch_5\">\n    <path d=\"M 30.103125 145.8 \nL 225.403125 145.8 \n\" style=\"fill: none; stroke: #000000; stroke-width: 0.8; stroke-linejoin: miter; stroke-linecap: square\"/>\n   </g>\n   <g id=\"patch_6\">\n    <path d=\"M 30.103125 7.2 \nL 225.403125 7.2 \n\" style=\"fill: none; stroke: #000000; stroke-width: 0.8; stroke-linejoin: miter; stroke-linecap: square\"/>\n   </g>\n   <g id=\"legend_1\">\n    <g id=\"patch_7\">\n     <path d=\"M 140.634375 59.234375 \nL 218.403125 59.234375 \nQ 220.403125 59.234375 220.403125 57.234375 \nL 220.403125 14.2 \nQ 220.403125 12.2 218.403125 12.2 \nL 140.634375 12.2 \nQ 138.634375 12.2 138.634375 14.2 \nL 138.634375 57.234375 \nQ 138.634375 59.234375 140.634375 59.234375 \nz\n\" style=\"fill: #ffffff; opacity: 0.8; stroke: #cccccc; stroke-linejoin: miter\"/>\n    </g>\n    <g id=\"line2d_24\">\n     <path d=\"M 142.634375 20.298438 \nL 152.634375 20.298438 \nL 162.634375 20.298438 \n\" style=\"fill: none; stroke: #1f77b4; stroke-width: 1.5; stroke-linecap: square\"/>\n    </g>\n    <g id=\"text_12\">\n     <!-- train loss -->\n     <g transform=\"translate(170.634375 23.798438) scale(0.1 -0.1)\">\n      <defs>\n       <path id=\"DejaVuSans-74\" d=\"M 1172 4494 \nL 1172 3500 \nL 2356 3500 \nL 2356 3053 \nL 1172 3053 \nL 1172 1153 \nQ 1172 725 1289 603 \nQ 1406 481 1766 481 \nL 2356 481 \nL 2356 0 \nL 1766 0 \nQ 1100 0 847 248 \nQ 594 497 594 1153 \nL 594 3053 \nL 172 3053 \nL 172 3500 \nL 594 3500 \nL 594 4494 \nL 1172 4494 \nz\n\" transform=\"scale(0.015625)\"/>\n       <path id=\"DejaVuSans-72\" d=\"M 2631 2963 \nQ 2534 3019 2420 3045 \nQ 2306 3072 2169 3072 \nQ 1681 3072 1420 2755 \nQ 1159 2438 1159 1844 \nL 1159 0 \nL 581 0 \nL 581 3500 \nL 1159 3500 \nL 1159 2956 \nQ 1341 3275 1631 3429 \nQ 1922 3584 2338 3584 \nQ 2397 3584 2469 3576 \nQ 2541 3569 2628 3553 \nL 2631 2963 \nz\n\" transform=\"scale(0.015625)\"/>\n       <path id=\"DejaVuSans-61\" d=\"M 2194 1759 \nQ 1497 1759 1228 1600 \nQ 959 1441 959 1056 \nQ 959 750 1161 570 \nQ 1363 391 1709 391 \nQ 2188 391 2477 730 \nQ 2766 1069 2766 1631 \nL 2766 1759 \nL 2194 1759 \nz\nM 3341 1997 \nL 3341 0 \nL 2766 0 \nL 2766 531 \nQ 2569 213 2275 61 \nQ 1981 -91 1556 -91 \nQ 1019 -91 701 211 \nQ 384 513 384 1019 \nQ 384 1609 779 1909 \nQ 1175 2209 1959 2209 \nL 2766 2209 \nL 2766 2266 \nQ 2766 2663 2505 2880 \nQ 2244 3097 1772 3097 \nQ 1472 3097 1187 3025 \nQ 903 2953 641 2809 \nL 641 3341 \nQ 956 3463 1253 3523 \nQ 1550 3584 1831 3584 \nQ 2591 3584 2966 3190 \nQ 3341 2797 3341 1997 \nz\n\" transform=\"scale(0.015625)\"/>\n       <path id=\"DejaVuSans-69\" d=\"M 603 3500 \nL 1178 3500 \nL 1178 0 \nL 603 0 \nL 603 3500 \nz\nM 603 4863 \nL 1178 4863 \nL 1178 4134 \nL 603 4134 \nL 603 4863 \nz\n\" transform=\"scale(0.015625)\"/>\n       <path id=\"DejaVuSans-6e\" d=\"M 3513 2113 \nL 3513 0 \nL 2938 0 \nL 2938 2094 \nQ 2938 2591 2744 2837 \nQ 2550 3084 2163 3084 \nQ 1697 3084 1428 2787 \nQ 1159 2491 1159 1978 \nL 1159 0 \nL 581 0 \nL 581 3500 \nL 1159 3500 \nL 1159 2956 \nQ 1366 3272 1645 3428 \nQ 1925 3584 2291 3584 \nQ 2894 3584 3203 3211 \nQ 3513 2838 3513 2113 \nz\n\" transform=\"scale(0.015625)\"/>\n       <path id=\"DejaVuSans-20\" transform=\"scale(0.015625)\"/>\n       <path id=\"DejaVuSans-6c\" d=\"M 603 4863 \nL 1178 4863 \nL 1178 0 \nL 603 0 \nL 603 4863 \nz\n\" transform=\"scale(0.015625)\"/>\n       <path id=\"DejaVuSans-73\" d=\"M 2834 3397 \nL 2834 2853 \nQ 2591 2978 2328 3040 \nQ 2066 3103 1784 3103 \nQ 1356 3103 1142 2972 \nQ 928 2841 928 2578 \nQ 928 2378 1081 2264 \nQ 1234 2150 1697 2047 \nL 1894 2003 \nQ 2506 1872 2764 1633 \nQ 3022 1394 3022 966 \nQ 3022 478 2636 193 \nQ 2250 -91 1575 -91 \nQ 1294 -91 989 -36 \nQ 684 19 347 128 \nL 347 722 \nQ 666 556 975 473 \nQ 1284 391 1588 391 \nQ 1994 391 2212 530 \nQ 2431 669 2431 922 \nQ 2431 1156 2273 1281 \nQ 2116 1406 1581 1522 \nL 1381 1569 \nQ 847 1681 609 1914 \nQ 372 2147 372 2553 \nQ 372 3047 722 3315 \nQ 1072 3584 1716 3584 \nQ 2034 3584 2315 3537 \nQ 2597 3491 2834 3397 \nz\n\" transform=\"scale(0.015625)\"/>\n      </defs>\n      <use xlink:href=\"#DejaVuSans-74\"/>\n      <use xlink:href=\"#DejaVuSans-72\" x=\"39.208984\"/>\n      <use xlink:href=\"#DejaVuSans-61\" x=\"80.322266\"/>\n      <use xlink:href=\"#DejaVuSans-69\" x=\"141.601562\"/>\n      <use xlink:href=\"#DejaVuSans-6e\" x=\"169.384766\"/>\n      <use xlink:href=\"#DejaVuSans-20\" x=\"232.763672\"/>\n      <use xlink:href=\"#DejaVuSans-6c\" x=\"264.550781\"/>\n      <use xlink:href=\"#DejaVuSans-6f\" x=\"292.333984\"/>\n      <use xlink:href=\"#DejaVuSans-73\" x=\"353.515625\"/>\n      <use xlink:href=\"#DejaVuSans-73\" x=\"405.615234\"/>\n     </g>\n    </g>\n    <g id=\"line2d_25\">\n     <path d=\"M 142.634375 34.976563 \nL 152.634375 34.976563 \nL 162.634375 34.976563 \n\" style=\"fill: none; stroke-dasharray: 5.55,2.4; stroke-dashoffset: 0; stroke: #bf00bf; stroke-width: 1.5\"/>\n    </g>\n    <g id=\"text_13\">\n     <!-- train acc -->\n     <g transform=\"translate(170.634375 38.476563) scale(0.1 -0.1)\">\n      <use xlink:href=\"#DejaVuSans-74\"/>\n      <use xlink:href=\"#DejaVuSans-72\" x=\"39.208984\"/>\n      <use xlink:href=\"#DejaVuSans-61\" x=\"80.322266\"/>\n      <use xlink:href=\"#DejaVuSans-69\" x=\"141.601562\"/>\n      <use xlink:href=\"#DejaVuSans-6e\" x=\"169.384766\"/>\n      <use xlink:href=\"#DejaVuSans-20\" x=\"232.763672\"/>\n      <use xlink:href=\"#DejaVuSans-61\" x=\"264.550781\"/>\n      <use xlink:href=\"#DejaVuSans-63\" x=\"325.830078\"/>\n      <use xlink:href=\"#DejaVuSans-63\" x=\"380.810547\"/>\n     </g>\n    </g>\n    <g id=\"line2d_26\">\n     <path d=\"M 142.634375 49.654688 \nL 152.634375 49.654688 \nL 162.634375 49.654688 \n\" style=\"fill: none; stroke-dasharray: 9.6,2.4,1.5,2.4; stroke-dashoffset: 0; stroke: #008000; stroke-width: 1.5\"/>\n    </g>\n    <g id=\"text_14\">\n     <!-- valid acc -->\n     <g transform=\"translate(170.634375 53.154688) scale(0.1 -0.1)\">\n      <defs>\n       <path id=\"DejaVuSans-76\" d=\"M 191 3500 \nL 800 3500 \nL 1894 563 \nL 2988 3500 \nL 3597 3500 \nL 2284 0 \nL 1503 0 \nL 191 3500 \nz\n\" transform=\"scale(0.015625)\"/>\n       <path id=\"DejaVuSans-64\" d=\"M 2906 2969 \nL 2906 4863 \nL 3481 4863 \nL 3481 0 \nL 2906 0 \nL 2906 525 \nQ 2725 213 2448 61 \nQ 2172 -91 1784 -91 \nQ 1150 -91 751 415 \nQ 353 922 353 1747 \nQ 353 2572 751 3078 \nQ 1150 3584 1784 3584 \nQ 2172 3584 2448 3432 \nQ 2725 3281 2906 2969 \nz\nM 947 1747 \nQ 947 1113 1208 752 \nQ 1469 391 1925 391 \nQ 2381 391 2643 752 \nQ 2906 1113 2906 1747 \nQ 2906 2381 2643 2742 \nQ 2381 3103 1925 3103 \nQ 1469 3103 1208 2742 \nQ 947 2381 947 1747 \nz\n\" transform=\"scale(0.015625)\"/>\n      </defs>\n      <use xlink:href=\"#DejaVuSans-76\"/>\n      <use xlink:href=\"#DejaVuSans-61\" x=\"59.179688\"/>\n      <use xlink:href=\"#DejaVuSans-6c\" x=\"120.458984\"/>\n      <use xlink:href=\"#DejaVuSans-69\" x=\"148.242188\"/>\n      <use xlink:href=\"#DejaVuSans-64\" x=\"176.025391\"/>\n      <use xlink:href=\"#DejaVuSans-20\" x=\"239.501953\"/>\n      <use xlink:href=\"#DejaVuSans-61\" x=\"271.289062\"/>\n      <use xlink:href=\"#DejaVuSans-63\" x=\"332.568359\"/>\n      <use xlink:href=\"#DejaVuSans-63\" x=\"387.548828\"/>\n     </g>\n    </g>\n   </g>\n  </g>\n </g>\n <defs>\n  <clipPath id=\"p1e0601f811\">\n   <rect x=\"30.103125\" y=\"7.2\" width=\"195.3\" height=\"138.6\"/>\n  </clipPath>\n </defs>\n</svg>\n"
     },
     "metadata": {},
     "output_type": "display_data"
    }
   ],
   "source": [
    "devices, num_epochs, lr, wd = d2l.try_all_gpus(), 50, 2e-4, 5e-4\n",
    "lr_period, lr_decay, net = 4, 0.9, get_net()\n",
    "net(next(iter(train_iter))[0])\n",
    "train(net, train_iter, valid_iter, num_epochs, lr, wd, devices, lr_period,\n",
    "      lr_decay)"
   ],
   "metadata": {
    "collapsed": false
   },
   "id": "8c608ec1f1bbfe98"
  },
  {
   "cell_type": "code",
   "execution_count": 34,
   "outputs": [
    {
     "name": "stdout",
     "output_type": "stream",
     "text": [
      "train loss 0.071, train acc 0.981\n",
      "2064.5 examples/sec on [device(type='cuda', index=0)]\n"
     ]
    },
    {
     "data": {
      "text/plain": "<Figure size 350x250 with 1 Axes>",
      "image/svg+xml": "<?xml version=\"1.0\" encoding=\"utf-8\" standalone=\"no\"?>\n<!DOCTYPE svg PUBLIC \"-//W3C//DTD SVG 1.1//EN\"\n  \"http://www.w3.org/Graphics/SVG/1.1/DTD/svg11.dtd\">\n<svg xmlns:xlink=\"http://www.w3.org/1999/xlink\" width=\"238.965625pt\" height=\"183.35625pt\" viewBox=\"0 0 238.965625 183.35625\" xmlns=\"http://www.w3.org/2000/svg\" version=\"1.1\">\n <metadata>\n  <rdf:RDF xmlns:dc=\"http://purl.org/dc/elements/1.1/\" xmlns:cc=\"http://creativecommons.org/ns#\" xmlns:rdf=\"http://www.w3.org/1999/02/22-rdf-syntax-ns#\">\n   <cc:Work>\n    <dc:type rdf:resource=\"http://purl.org/dc/dcmitype/StillImage\"/>\n    <dc:date>2023-10-18T09:06:03.481840</dc:date>\n    <dc:format>image/svg+xml</dc:format>\n    <dc:creator>\n     <cc:Agent>\n      <dc:title>Matplotlib v3.7.2, https://matplotlib.org/</dc:title>\n     </cc:Agent>\n    </dc:creator>\n   </cc:Work>\n  </rdf:RDF>\n </metadata>\n <defs>\n  <style type=\"text/css\">*{stroke-linejoin: round; stroke-linecap: butt}</style>\n </defs>\n <g id=\"figure_1\">\n  <g id=\"patch_1\">\n   <path d=\"M 0 183.35625 \nL 238.965625 183.35625 \nL 238.965625 0 \nL 0 0 \nz\n\" style=\"fill: #ffffff\"/>\n  </g>\n  <g id=\"axes_1\">\n   <g id=\"patch_2\">\n    <path d=\"M 30.103125 145.8 \nL 225.403125 145.8 \nL 225.403125 7.2 \nL 30.103125 7.2 \nz\n\" style=\"fill: #ffffff\"/>\n   </g>\n   <g id=\"matplotlib.axis_1\">\n    <g id=\"xtick_1\">\n     <g id=\"line2d_1\">\n      <path d=\"M 65.974554 145.8 \nL 65.974554 7.2 \n\" clip-path=\"url(#pfca421ce97)\" style=\"fill: none; stroke: #b0b0b0; stroke-width: 0.8; stroke-linecap: square\"/>\n     </g>\n     <g id=\"line2d_2\">\n      <defs>\n       <path id=\"mee80515580\" d=\"M 0 0 \nL 0 3.5 \n\" style=\"stroke: #000000; stroke-width: 0.8\"/>\n      </defs>\n      <g>\n       <use xlink:href=\"#mee80515580\" x=\"65.974554\" y=\"145.8\" style=\"stroke: #000000; stroke-width: 0.8\"/>\n      </g>\n     </g>\n     <g id=\"text_1\">\n      <!-- 10 -->\n      <g transform=\"translate(59.612054 160.398438) scale(0.1 -0.1)\">\n       <defs>\n        <path id=\"DejaVuSans-31\" d=\"M 794 531 \nL 1825 531 \nL 1825 4091 \nL 703 3866 \nL 703 4441 \nL 1819 4666 \nL 2450 4666 \nL 2450 531 \nL 3481 531 \nL 3481 0 \nL 794 0 \nL 794 531 \nz\n\" transform=\"scale(0.015625)\"/>\n        <path id=\"DejaVuSans-30\" d=\"M 2034 4250 \nQ 1547 4250 1301 3770 \nQ 1056 3291 1056 2328 \nQ 1056 1369 1301 889 \nQ 1547 409 2034 409 \nQ 2525 409 2770 889 \nQ 3016 1369 3016 2328 \nQ 3016 3291 2770 3770 \nQ 2525 4250 2034 4250 \nz\nM 2034 4750 \nQ 2819 4750 3233 4129 \nQ 3647 3509 3647 2328 \nQ 3647 1150 3233 529 \nQ 2819 -91 2034 -91 \nQ 1250 -91 836 529 \nQ 422 1150 422 2328 \nQ 422 3509 836 4129 \nQ 1250 4750 2034 4750 \nz\n\" transform=\"scale(0.015625)\"/>\n       </defs>\n       <use xlink:href=\"#DejaVuSans-31\"/>\n       <use xlink:href=\"#DejaVuSans-30\" x=\"63.623047\"/>\n      </g>\n     </g>\n    </g>\n    <g id=\"xtick_2\">\n     <g id=\"line2d_3\">\n      <path d=\"M 105.831696 145.8 \nL 105.831696 7.2 \n\" clip-path=\"url(#pfca421ce97)\" style=\"fill: none; stroke: #b0b0b0; stroke-width: 0.8; stroke-linecap: square\"/>\n     </g>\n     <g id=\"line2d_4\">\n      <g>\n       <use xlink:href=\"#mee80515580\" x=\"105.831696\" y=\"145.8\" style=\"stroke: #000000; stroke-width: 0.8\"/>\n      </g>\n     </g>\n     <g id=\"text_2\">\n      <!-- 20 -->\n      <g transform=\"translate(99.469196 160.398438) scale(0.1 -0.1)\">\n       <defs>\n        <path id=\"DejaVuSans-32\" d=\"M 1228 531 \nL 3431 531 \nL 3431 0 \nL 469 0 \nL 469 531 \nQ 828 903 1448 1529 \nQ 2069 2156 2228 2338 \nQ 2531 2678 2651 2914 \nQ 2772 3150 2772 3378 \nQ 2772 3750 2511 3984 \nQ 2250 4219 1831 4219 \nQ 1534 4219 1204 4116 \nQ 875 4013 500 3803 \nL 500 4441 \nQ 881 4594 1212 4672 \nQ 1544 4750 1819 4750 \nQ 2544 4750 2975 4387 \nQ 3406 4025 3406 3419 \nQ 3406 3131 3298 2873 \nQ 3191 2616 2906 2266 \nQ 2828 2175 2409 1742 \nQ 1991 1309 1228 531 \nz\n\" transform=\"scale(0.015625)\"/>\n       </defs>\n       <use xlink:href=\"#DejaVuSans-32\"/>\n       <use xlink:href=\"#DejaVuSans-30\" x=\"63.623047\"/>\n      </g>\n     </g>\n    </g>\n    <g id=\"xtick_3\">\n     <g id=\"line2d_5\">\n      <path d=\"M 145.688839 145.8 \nL 145.688839 7.2 \n\" clip-path=\"url(#pfca421ce97)\" style=\"fill: none; stroke: #b0b0b0; stroke-width: 0.8; stroke-linecap: square\"/>\n     </g>\n     <g id=\"line2d_6\">\n      <g>\n       <use xlink:href=\"#mee80515580\" x=\"145.688839\" y=\"145.8\" style=\"stroke: #000000; stroke-width: 0.8\"/>\n      </g>\n     </g>\n     <g id=\"text_3\">\n      <!-- 30 -->\n      <g transform=\"translate(139.326339 160.398438) scale(0.1 -0.1)\">\n       <defs>\n        <path id=\"DejaVuSans-33\" d=\"M 2597 2516 \nQ 3050 2419 3304 2112 \nQ 3559 1806 3559 1356 \nQ 3559 666 3084 287 \nQ 2609 -91 1734 -91 \nQ 1441 -91 1130 -33 \nQ 819 25 488 141 \nL 488 750 \nQ 750 597 1062 519 \nQ 1375 441 1716 441 \nQ 2309 441 2620 675 \nQ 2931 909 2931 1356 \nQ 2931 1769 2642 2001 \nQ 2353 2234 1838 2234 \nL 1294 2234 \nL 1294 2753 \nL 1863 2753 \nQ 2328 2753 2575 2939 \nQ 2822 3125 2822 3475 \nQ 2822 3834 2567 4026 \nQ 2313 4219 1838 4219 \nQ 1578 4219 1281 4162 \nQ 984 4106 628 3988 \nL 628 4550 \nQ 988 4650 1302 4700 \nQ 1616 4750 1894 4750 \nQ 2613 4750 3031 4423 \nQ 3450 4097 3450 3541 \nQ 3450 3153 3228 2886 \nQ 3006 2619 2597 2516 \nz\n\" transform=\"scale(0.015625)\"/>\n       </defs>\n       <use xlink:href=\"#DejaVuSans-33\"/>\n       <use xlink:href=\"#DejaVuSans-30\" x=\"63.623047\"/>\n      </g>\n     </g>\n    </g>\n    <g id=\"xtick_4\">\n     <g id=\"line2d_7\">\n      <path d=\"M 185.545982 145.8 \nL 185.545982 7.2 \n\" clip-path=\"url(#pfca421ce97)\" style=\"fill: none; stroke: #b0b0b0; stroke-width: 0.8; stroke-linecap: square\"/>\n     </g>\n     <g id=\"line2d_8\">\n      <g>\n       <use xlink:href=\"#mee80515580\" x=\"185.545982\" y=\"145.8\" style=\"stroke: #000000; stroke-width: 0.8\"/>\n      </g>\n     </g>\n     <g id=\"text_4\">\n      <!-- 40 -->\n      <g transform=\"translate(179.183482 160.398438) scale(0.1 -0.1)\">\n       <defs>\n        <path id=\"DejaVuSans-34\" d=\"M 2419 4116 \nL 825 1625 \nL 2419 1625 \nL 2419 4116 \nz\nM 2253 4666 \nL 3047 4666 \nL 3047 1625 \nL 3713 1625 \nL 3713 1100 \nL 3047 1100 \nL 3047 0 \nL 2419 0 \nL 2419 1100 \nL 313 1100 \nL 313 1709 \nL 2253 4666 \nz\n\" transform=\"scale(0.015625)\"/>\n       </defs>\n       <use xlink:href=\"#DejaVuSans-34\"/>\n       <use xlink:href=\"#DejaVuSans-30\" x=\"63.623047\"/>\n      </g>\n     </g>\n    </g>\n    <g id=\"xtick_5\">\n     <g id=\"line2d_9\">\n      <path d=\"M 225.403125 145.8 \nL 225.403125 7.2 \n\" clip-path=\"url(#pfca421ce97)\" style=\"fill: none; stroke: #b0b0b0; stroke-width: 0.8; stroke-linecap: square\"/>\n     </g>\n     <g id=\"line2d_10\">\n      <g>\n       <use xlink:href=\"#mee80515580\" x=\"225.403125\" y=\"145.8\" style=\"stroke: #000000; stroke-width: 0.8\"/>\n      </g>\n     </g>\n     <g id=\"text_5\">\n      <!-- 50 -->\n      <g transform=\"translate(219.040625 160.398438) scale(0.1 -0.1)\">\n       <defs>\n        <path id=\"DejaVuSans-35\" d=\"M 691 4666 \nL 3169 4666 \nL 3169 4134 \nL 1269 4134 \nL 1269 2991 \nQ 1406 3038 1543 3061 \nQ 1681 3084 1819 3084 \nQ 2600 3084 3056 2656 \nQ 3513 2228 3513 1497 \nQ 3513 744 3044 326 \nQ 2575 -91 1722 -91 \nQ 1428 -91 1123 -41 \nQ 819 9 494 109 \nL 494 744 \nQ 775 591 1075 516 \nQ 1375 441 1709 441 \nQ 2250 441 2565 725 \nQ 2881 1009 2881 1497 \nQ 2881 1984 2565 2268 \nQ 2250 2553 1709 2553 \nQ 1456 2553 1204 2497 \nQ 953 2441 691 2322 \nL 691 4666 \nz\n\" transform=\"scale(0.015625)\"/>\n       </defs>\n       <use xlink:href=\"#DejaVuSans-35\"/>\n       <use xlink:href=\"#DejaVuSans-30\" x=\"63.623047\"/>\n      </g>\n     </g>\n    </g>\n    <g id=\"text_6\">\n     <!-- epoch -->\n     <g transform=\"translate(112.525 174.076563) scale(0.1 -0.1)\">\n      <defs>\n       <path id=\"DejaVuSans-65\" d=\"M 3597 1894 \nL 3597 1613 \nL 953 1613 \nQ 991 1019 1311 708 \nQ 1631 397 2203 397 \nQ 2534 397 2845 478 \nQ 3156 559 3463 722 \nL 3463 178 \nQ 3153 47 2828 -22 \nQ 2503 -91 2169 -91 \nQ 1331 -91 842 396 \nQ 353 884 353 1716 \nQ 353 2575 817 3079 \nQ 1281 3584 2069 3584 \nQ 2775 3584 3186 3129 \nQ 3597 2675 3597 1894 \nz\nM 3022 2063 \nQ 3016 2534 2758 2815 \nQ 2500 3097 2075 3097 \nQ 1594 3097 1305 2825 \nQ 1016 2553 972 2059 \nL 3022 2063 \nz\n\" transform=\"scale(0.015625)\"/>\n       <path id=\"DejaVuSans-70\" d=\"M 1159 525 \nL 1159 -1331 \nL 581 -1331 \nL 581 3500 \nL 1159 3500 \nL 1159 2969 \nQ 1341 3281 1617 3432 \nQ 1894 3584 2278 3584 \nQ 2916 3584 3314 3078 \nQ 3713 2572 3713 1747 \nQ 3713 922 3314 415 \nQ 2916 -91 2278 -91 \nQ 1894 -91 1617 61 \nQ 1341 213 1159 525 \nz\nM 3116 1747 \nQ 3116 2381 2855 2742 \nQ 2594 3103 2138 3103 \nQ 1681 3103 1420 2742 \nQ 1159 2381 1159 1747 \nQ 1159 1113 1420 752 \nQ 1681 391 2138 391 \nQ 2594 391 2855 752 \nQ 3116 1113 3116 1747 \nz\n\" transform=\"scale(0.015625)\"/>\n       <path id=\"DejaVuSans-6f\" d=\"M 1959 3097 \nQ 1497 3097 1228 2736 \nQ 959 2375 959 1747 \nQ 959 1119 1226 758 \nQ 1494 397 1959 397 \nQ 2419 397 2687 759 \nQ 2956 1122 2956 1747 \nQ 2956 2369 2687 2733 \nQ 2419 3097 1959 3097 \nz\nM 1959 3584 \nQ 2709 3584 3137 3096 \nQ 3566 2609 3566 1747 \nQ 3566 888 3137 398 \nQ 2709 -91 1959 -91 \nQ 1206 -91 779 398 \nQ 353 888 353 1747 \nQ 353 2609 779 3096 \nQ 1206 3584 1959 3584 \nz\n\" transform=\"scale(0.015625)\"/>\n       <path id=\"DejaVuSans-63\" d=\"M 3122 3366 \nL 3122 2828 \nQ 2878 2963 2633 3030 \nQ 2388 3097 2138 3097 \nQ 1578 3097 1268 2742 \nQ 959 2388 959 1747 \nQ 959 1106 1268 751 \nQ 1578 397 2138 397 \nQ 2388 397 2633 464 \nQ 2878 531 3122 666 \nL 3122 134 \nQ 2881 22 2623 -34 \nQ 2366 -91 2075 -91 \nQ 1284 -91 818 406 \nQ 353 903 353 1747 \nQ 353 2603 823 3093 \nQ 1294 3584 2113 3584 \nQ 2378 3584 2631 3529 \nQ 2884 3475 3122 3366 \nz\n\" transform=\"scale(0.015625)\"/>\n       <path id=\"DejaVuSans-68\" d=\"M 3513 2113 \nL 3513 0 \nL 2938 0 \nL 2938 2094 \nQ 2938 2591 2744 2837 \nQ 2550 3084 2163 3084 \nQ 1697 3084 1428 2787 \nQ 1159 2491 1159 1978 \nL 1159 0 \nL 581 0 \nL 581 4863 \nL 1159 4863 \nL 1159 2956 \nQ 1366 3272 1645 3428 \nQ 1925 3584 2291 3584 \nQ 2894 3584 3203 3211 \nQ 3513 2838 3513 2113 \nz\n\" transform=\"scale(0.015625)\"/>\n      </defs>\n      <use xlink:href=\"#DejaVuSans-65\"/>\n      <use xlink:href=\"#DejaVuSans-70\" x=\"61.523438\"/>\n      <use xlink:href=\"#DejaVuSans-6f\" x=\"125\"/>\n      <use xlink:href=\"#DejaVuSans-63\" x=\"186.181641\"/>\n      <use xlink:href=\"#DejaVuSans-68\" x=\"241.162109\"/>\n     </g>\n    </g>\n   </g>\n   <g id=\"matplotlib.axis_2\">\n    <g id=\"ytick_1\">\n     <g id=\"line2d_11\">\n      <path d=\"M 30.103125 142.617593 \nL 225.403125 142.617593 \n\" clip-path=\"url(#pfca421ce97)\" style=\"fill: none; stroke: #b0b0b0; stroke-width: 0.8; stroke-linecap: square\"/>\n     </g>\n     <g id=\"line2d_12\">\n      <defs>\n       <path id=\"mc6aabd66c0\" d=\"M 0 0 \nL -3.5 0 \n\" style=\"stroke: #000000; stroke-width: 0.8\"/>\n      </defs>\n      <g>\n       <use xlink:href=\"#mc6aabd66c0\" x=\"30.103125\" y=\"142.617593\" style=\"stroke: #000000; stroke-width: 0.8\"/>\n      </g>\n     </g>\n     <g id=\"text_7\">\n      <!-- 0.0 -->\n      <g transform=\"translate(7.2 146.416811) scale(0.1 -0.1)\">\n       <defs>\n        <path id=\"DejaVuSans-2e\" d=\"M 684 794 \nL 1344 794 \nL 1344 0 \nL 684 0 \nL 684 794 \nz\n\" transform=\"scale(0.015625)\"/>\n       </defs>\n       <use xlink:href=\"#DejaVuSans-30\"/>\n       <use xlink:href=\"#DejaVuSans-2e\" x=\"63.623047\"/>\n       <use xlink:href=\"#DejaVuSans-30\" x=\"95.410156\"/>\n      </g>\n     </g>\n    </g>\n    <g id=\"ytick_2\">\n     <g id=\"line2d_13\">\n      <path d=\"M 30.103125 114.248158 \nL 225.403125 114.248158 \n\" clip-path=\"url(#pfca421ce97)\" style=\"fill: none; stroke: #b0b0b0; stroke-width: 0.8; stroke-linecap: square\"/>\n     </g>\n     <g id=\"line2d_14\">\n      <g>\n       <use xlink:href=\"#mc6aabd66c0\" x=\"30.103125\" y=\"114.248158\" style=\"stroke: #000000; stroke-width: 0.8\"/>\n      </g>\n     </g>\n     <g id=\"text_8\">\n      <!-- 0.5 -->\n      <g transform=\"translate(7.2 118.047377) scale(0.1 -0.1)\">\n       <use xlink:href=\"#DejaVuSans-30\"/>\n       <use xlink:href=\"#DejaVuSans-2e\" x=\"63.623047\"/>\n       <use xlink:href=\"#DejaVuSans-35\" x=\"95.410156\"/>\n      </g>\n     </g>\n    </g>\n    <g id=\"ytick_3\">\n     <g id=\"line2d_15\">\n      <path d=\"M 30.103125 85.878724 \nL 225.403125 85.878724 \n\" clip-path=\"url(#pfca421ce97)\" style=\"fill: none; stroke: #b0b0b0; stroke-width: 0.8; stroke-linecap: square\"/>\n     </g>\n     <g id=\"line2d_16\">\n      <g>\n       <use xlink:href=\"#mc6aabd66c0\" x=\"30.103125\" y=\"85.878724\" style=\"stroke: #000000; stroke-width: 0.8\"/>\n      </g>\n     </g>\n     <g id=\"text_9\">\n      <!-- 1.0 -->\n      <g transform=\"translate(7.2 89.677943) scale(0.1 -0.1)\">\n       <use xlink:href=\"#DejaVuSans-31\"/>\n       <use xlink:href=\"#DejaVuSans-2e\" x=\"63.623047\"/>\n       <use xlink:href=\"#DejaVuSans-30\" x=\"95.410156\"/>\n      </g>\n     </g>\n    </g>\n    <g id=\"ytick_4\">\n     <g id=\"line2d_17\">\n      <path d=\"M 30.103125 57.50929 \nL 225.403125 57.50929 \n\" clip-path=\"url(#pfca421ce97)\" style=\"fill: none; stroke: #b0b0b0; stroke-width: 0.8; stroke-linecap: square\"/>\n     </g>\n     <g id=\"line2d_18\">\n      <g>\n       <use xlink:href=\"#mc6aabd66c0\" x=\"30.103125\" y=\"57.50929\" style=\"stroke: #000000; stroke-width: 0.8\"/>\n      </g>\n     </g>\n     <g id=\"text_10\">\n      <!-- 1.5 -->\n      <g transform=\"translate(7.2 61.308509) scale(0.1 -0.1)\">\n       <use xlink:href=\"#DejaVuSans-31\"/>\n       <use xlink:href=\"#DejaVuSans-2e\" x=\"63.623047\"/>\n       <use xlink:href=\"#DejaVuSans-35\" x=\"95.410156\"/>\n      </g>\n     </g>\n    </g>\n    <g id=\"ytick_5\">\n     <g id=\"line2d_19\">\n      <path d=\"M 30.103125 29.139856 \nL 225.403125 29.139856 \n\" clip-path=\"url(#pfca421ce97)\" style=\"fill: none; stroke: #b0b0b0; stroke-width: 0.8; stroke-linecap: square\"/>\n     </g>\n     <g id=\"line2d_20\">\n      <g>\n       <use xlink:href=\"#mc6aabd66c0\" x=\"30.103125\" y=\"29.139856\" style=\"stroke: #000000; stroke-width: 0.8\"/>\n      </g>\n     </g>\n     <g id=\"text_11\">\n      <!-- 2.0 -->\n      <g transform=\"translate(7.2 32.939075) scale(0.1 -0.1)\">\n       <use xlink:href=\"#DejaVuSans-32\"/>\n       <use xlink:href=\"#DejaVuSans-2e\" x=\"63.623047\"/>\n       <use xlink:href=\"#DejaVuSans-30\" x=\"95.410156\"/>\n      </g>\n     </g>\n    </g>\n   </g>\n   <g id=\"line2d_21\">\n    <path d=\"M 26.888839 13.5 \nL 27.660268 13.690873 \nL 28.431696 13.656446 \nL 30.103125 17.484369 \nL 30.874554 24.22547 \nL 31.645982 26.107179 \nL 32.417411 28.65117 \nL 33.188839 29.342061 \nL 34.088839 30.562349 \nL 34.860268 34.711144 \nL 35.631696 36.765656 \nL 36.403125 39.876109 \nL 37.174554 42.243247 \nL 37.945982 41.679676 \nL 38.074554 42.813574 \nL 38.845982 47.854516 \nL 39.617411 47.084539 \nL 40.388839 45.296362 \nL 41.160268 44.441801 \nL 41.931696 45.431908 \nL 42.060268 44.740295 \nL 42.831696 47.543071 \nL 43.603125 47.646994 \nL 45.145982 52.047681 \nL 45.917411 49.996254 \nL 46.045982 50.050281 \nL 46.817411 62.698442 \nL 47.588839 59.524257 \nL 48.360268 59.732103 \nL 49.131696 58.970681 \nL 50.031696 58.822715 \nL 50.803125 55.406877 \nL 51.574554 61.052629 \nL 52.345982 58.528578 \nL 53.117411 59.407764 \nL 53.888839 58.69953 \nL 54.017411 59.107879 \nL 54.788839 64.958 \nL 55.560268 63.281934 \nL 56.331696 64.909861 \nL 57.103125 64.39152 \nL 57.874554 63.446599 \nL 58.003125 63.586322 \nL 58.774554 66.197799 \nL 59.545982 65.935812 \nL 60.317411 68.104584 \nL 61.088839 68.57377 \nL 61.860268 67.535629 \nL 61.988839 67.757059 \nL 62.760268 78.046895 \nL 63.531696 80.428583 \nL 64.303125 77.224212 \nL 65.074554 77.582386 \nL 65.845982 75.256673 \nL 65.974554 74.121848 \nL 66.745982 81.961911 \nL 67.517411 80.855885 \nL 68.288839 79.163161 \nL 69.060268 75.996548 \nL 69.831696 75.394207 \nL 69.960268 75.69282 \nL 70.731696 85.89716 \nL 71.503125 82.486608 \nL 72.274554 82.60921 \nL 73.045982 82.301365 \nL 73.817411 82.421706 \nL 73.945982 82.157656 \nL 74.717411 83.542581 \nL 75.488839 82.85558 \nL 76.260268 82.377513 \nL 77.031696 82.71769 \nL 77.803125 81.666629 \nL 77.931696 81.015787 \nL 78.703125 92.205739 \nL 79.474554 84.333186 \nL 80.245982 84.758794 \nL 81.017411 86.089649 \nL 81.788839 86.239614 \nL 81.917411 85.929394 \nL 82.688839 97.917963 \nL 83.460268 97.120576 \nL 84.231696 93.747544 \nL 85.003125 92.506548 \nL 85.774554 91.497451 \nL 85.903125 91.67289 \nL 86.674554 95.563418 \nL 87.445982 95.438674 \nL 88.217411 96.982066 \nL 88.988839 96.73936 \nL 89.760268 96.049819 \nL 89.888839 95.62797 \nL 90.660268 100.564574 \nL 91.431696 100.99723 \nL 92.203125 100.407463 \nL 92.974554 99.315142 \nL 93.745982 98.54842 \nL 93.874554 98.634107 \nL 94.645982 108.560221 \nL 95.417411 103.966068 \nL 96.188839 103.279289 \nL 96.960268 100.950351 \nL 97.731696 102.498281 \nL 97.860268 102.252267 \nL 98.631696 110.341699 \nL 99.403125 108.153838 \nL 100.174554 108.114412 \nL 101.717411 107.182875 \nL 101.845982 106.839015 \nL 102.617411 110.562469 \nL 103.388839 106.570521 \nL 104.160268 105.770487 \nL 104.931696 105.411054 \nL 105.703125 106.861172 \nL 105.831696 106.817302 \nL 106.603125 112.308223 \nL 107.374554 112.274143 \nL 108.145982 109.948018 \nL 108.917411 109.364418 \nL 109.688839 110.0973 \nL 109.817411 110.020387 \nL 110.588839 122.767096 \nL 111.360268 117.527515 \nL 112.131696 115.050286 \nL 112.903125 115.917614 \nL 113.803125 116.166374 \nL 114.574554 123.943582 \nL 115.345982 125.14466 \nL 116.117411 121.718253 \nL 116.888839 119.572318 \nL 117.660268 119.263137 \nL 117.788839 119.395883 \nL 118.560268 118.904444 \nL 119.331696 119.635406 \nL 120.103125 120.176394 \nL 120.874554 119.072654 \nL 121.774554 117.48905 \nL 122.545982 123.474037 \nL 123.317411 122.457404 \nL 124.088839 122.812619 \nL 124.860268 122.395145 \nL 125.631696 122.566992 \nL 125.760268 123.004462 \nL 126.531696 121.403911 \nL 127.303125 121.8805 \nL 128.074554 121.053536 \nL 128.845982 122.075401 \nL 129.617411 121.814389 \nL 129.745982 121.554608 \nL 130.517411 124.954831 \nL 131.288839 125.620419 \nL 132.060268 125.841689 \nL 132.831696 126.856305 \nL 133.603125 127.188739 \nL 133.731696 126.992121 \nL 134.503125 122.538909 \nL 135.274554 124.699804 \nL 136.817411 124.840099 \nL 137.717411 125.437794 \nL 138.488839 129.391654 \nL 139.260268 129.090004 \nL 141.574554 129.643786 \nL 141.703125 129.324512 \nL 142.474554 129.304848 \nL 143.245982 129.625664 \nL 144.017411 127.58323 \nL 145.688839 128.227414 \nL 146.460268 128.719676 \nL 147.231696 129.714244 \nL 148.003125 130.217443 \nL 148.774554 130.373583 \nL 149.545982 130.252033 \nL 150.445982 131.507801 \nL 151.217411 132.50686 \nL 151.988839 130.668226 \nL 153.531696 131.078058 \nL 153.660268 130.94314 \nL 154.431696 131.051846 \nL 155.203125 130.242054 \nL 155.974554 131.472367 \nL 156.745982 131.660523 \nL 157.517411 131.287163 \nL 157.645982 130.978686 \nL 158.417411 132.853455 \nL 159.188839 132.453289 \nL 159.960268 131.645508 \nL 160.731696 131.836999 \nL 161.503125 132.40824 \nL 161.631696 132.32632 \nL 162.403125 135.490324 \nL 163.174554 136.772964 \nL 163.945982 136.115077 \nL 164.717411 135.963668 \nL 165.488839 135.011271 \nL 165.617411 135.133294 \nL 166.388839 134.677839 \nL 167.160268 136.048054 \nL 167.931696 135.404734 \nL 168.703125 134.463012 \nL 169.474554 134.774811 \nL 169.603125 134.61051 \nL 170.374554 134.599698 \nL 171.145982 133.417607 \nL 171.917411 133.966814 \nL 172.688839 134.714335 \nL 173.460268 134.23545 \nL 173.588839 134.3259 \nL 174.360268 135.80696 \nL 175.131696 135.898732 \nL 175.903125 134.128244 \nL 176.674554 134.956588 \nL 177.445982 135.271481 \nL 177.574554 134.826437 \nL 178.345982 134.051285 \nL 179.117411 133.883714 \nL 179.888839 134.884758 \nL 181.560268 135.676037 \nL 182.331696 137.437401 \nL 183.103125 138.122587 \nL 183.874554 137.325059 \nL 185.417411 136.573182 \nL 186.317411 137.380038 \nL 187.860268 137.520793 \nL 188.631696 137.868394 \nL 189.531696 137.823193 \nL 190.303125 138.969293 \nL 191.074554 138.948989 \nL 191.845982 138.426193 \nL 193.517411 138.607372 \nL 194.288839 136.247357 \nL 195.060268 136.59292 \nL 195.831696 136.685042 \nL 197.503125 136.477364 \nL 198.274554 138.628586 \nL 199.045982 137.451263 \nL 199.817411 137.601697 \nL 200.588839 137.188818 \nL 201.360268 137.024742 \nL 201.488839 137.120074 \nL 202.260268 136.390321 \nL 203.031696 137.140215 \nL 203.803125 137.088454 \nL 204.574554 137.232902 \nL 205.345982 137.097843 \nL 205.474554 136.933431 \nL 206.245982 138.15804 \nL 207.017411 136.682788 \nL 207.788839 137.399905 \nL 208.560268 137.083668 \nL 209.460268 137.336862 \nL 210.231696 136.82545 \nL 211.003125 136.956178 \nL 211.774554 136.579846 \nL 212.545982 135.328243 \nL 213.317411 135.425054 \nL 213.445982 135.554562 \nL 214.217411 138.385153 \nL 214.988839 137.363431 \nL 215.760268 137.197711 \nL 216.531696 137.245268 \nL 217.431696 136.892944 \nL 218.203125 139.5 \nL 218.974554 138.464643 \nL 219.745982 138.413801 \nL 220.517411 138.125934 \nL 222.188839 138.390888 \nL 222.960268 139.170119 \nL 223.731696 138.998819 \nL 224.503125 138.975108 \nL 225.274554 138.474392 \nL 225.403125 138.571726 \nL 225.403125 138.571726 \n\" clip-path=\"url(#pfca421ce97)\" style=\"fill: none; stroke: #1f77b4; stroke-width: 1.5; stroke-linecap: square\"/>\n   </g>\n   <g id=\"line2d_22\">\n    <path d=\"M 26.888839 133.752144 \nL 27.660268 131.831297 \nL 28.431696 131.388025 \nL 29.203125 130.796995 \nL 29.974554 130.974304 \nL 30.103125 130.835126 \nL 30.874554 131.68354 \nL 31.645982 130.205965 \nL 32.417411 129.023905 \nL 33.960268 127.72364 \nL 34.088839 127.803715 \nL 34.860268 126.364271 \nL 35.631696 125.625484 \nL 36.403125 123.507627 \nL 37.174554 123.039728 \nL 37.945982 123.290916 \nL 38.074554 122.827624 \nL 38.845982 120.749487 \nL 39.617411 120.453972 \nL 41.160268 121.340517 \nL 41.931696 121.045002 \nL 42.060268 121.340517 \nL 42.831696 124.000151 \nL 45.145982 120.453972 \nL 46.045982 120.997338 \nL 46.817411 116.612278 \nL 47.588839 117.498823 \nL 48.360268 117.892843 \nL 49.131696 118.533125 \nL 50.031696 117.794338 \nL 50.803125 118.385368 \nL 51.574554 115.430218 \nL 52.345982 116.612278 \nL 53.117411 116.833914 \nL 53.888839 116.84869 \nL 54.017411 116.707605 \nL 54.788839 114.543673 \nL 55.560268 115.873491 \nL 56.331696 115.134703 \nL 57.103125 114.913067 \nL 57.874554 115.607527 \nL 58.003125 115.449284 \nL 58.774554 113.657129 \nL 59.545982 114.100401 \nL 60.317411 113.066099 \nL 61.088839 112.696705 \nL 61.860268 112.947893 \nL 61.988839 112.818247 \nL 63.531696 110.258707 \nL 64.303125 111.194504 \nL 65.074554 110.775858 \nL 65.845982 111.233906 \nL 65.974554 111.674319 \nL 66.745982 108.633375 \nL 67.517411 109.519919 \nL 68.288839 109.421414 \nL 69.060268 110.775858 \nL 69.831696 110.938391 \nL 69.960268 110.816372 \nL 70.731696 106.56477 \nL 71.503125 106.417013 \nL 72.274554 106.663275 \nL 73.045982 107.525194 \nL 73.945982 107.041407 \nL 74.717411 106.860285 \nL 75.488839 107.894587 \nL 76.260268 107.648325 \nL 77.803125 107.333109 \nL 77.931696 107.556175 \nL 78.703125 104.200651 \nL 79.474554 106.712528 \nL 80.245982 106.76178 \nL 81.017411 105.899861 \nL 81.788839 105.855534 \nL 81.917411 106.011871 \nL 82.688839 101.541016 \nL 83.460268 102.279803 \nL 84.231696 102.821581 \nL 85.003125 102.649197 \nL 85.903125 103.094853 \nL 86.674554 101.836531 \nL 87.445982 102.132046 \nL 88.217411 102.033541 \nL 88.988839 102.058167 \nL 89.760268 102.663973 \nL 89.888839 102.923263 \nL 91.431696 100.802229 \nL 92.203125 101.048491 \nL 92.974554 101.688774 \nL 93.874554 101.664942 \nL 94.645982 98.290352 \nL 95.417411 99.324654 \nL 96.188839 99.964936 \nL 96.960268 99.989563 \nL 97.731696 99.413309 \nL 97.860268 99.491477 \nL 98.631696 96.517262 \nL 99.403125 97.699322 \nL 100.174554 97.699322 \nL 100.945982 97.920958 \nL 101.717411 98.290352 \nL 101.845982 98.519138 \nL 102.617411 96.812777 \nL 103.388839 97.699322 \nL 104.931696 98.585867 \nL 105.831696 97.661191 \nL 106.603125 94.744173 \nL 107.374554 94.596415 \nL 108.145982 96.123242 \nL 108.917411 96.812777 \nL 109.688839 96.753674 \nL 109.817411 96.860441 \nL 110.588839 92.971083 \nL 111.360268 94.596415 \nL 112.131696 95.039687 \nL 112.903125 94.965809 \nL 113.803125 95.030155 \nL 115.345982 91.936781 \nL 116.117411 93.266598 \nL 116.888839 94.005385 \nL 117.788839 93.82903 \nL 118.560268 93.562113 \nL 119.331696 93.70987 \nL 120.103125 93.660618 \nL 120.874554 94.079264 \nL 121.645982 94.330452 \nL 121.774554 94.515387 \nL 122.545982 92.971083 \nL 123.317411 92.823325 \nL 124.088839 92.281548 \nL 125.631696 92.143641 \nL 125.760268 91.998743 \nL 126.531696 92.084538 \nL 127.303125 92.52781 \nL 128.074554 92.774073 \nL 128.845982 92.232296 \nL 129.745982 92.742297 \nL 130.517411 93.266598 \nL 131.288839 91.936781 \nL 132.060268 91.296498 \nL 132.831696 91.050236 \nL 133.731696 91.0836 \nL 134.503125 93.562113 \nL 135.274554 92.084538 \nL 136.045982 91.493508 \nL 136.817411 91.271872 \nL 137.717411 91.0836 \nL 138.488839 89.720419 \nL 139.260268 89.868176 \nL 140.031696 89.720419 \nL 140.803125 90.015934 \nL 142.474554 90.015934 \nL 143.245982 90.311448 \nL 144.017411 90.803973 \nL 145.560268 89.897728 \nL 145.688839 89.882475 \nL 146.460268 90.606963 \nL 147.231696 89.868176 \nL 148.003125 89.917429 \nL 149.674554 89.653689 \nL 150.445982 89.720419 \nL 151.217411 88.981631 \nL 151.988839 89.720419 \nL 153.660268 89.424904 \nL 154.431696 89.720419 \nL 155.203125 89.720419 \nL 155.974554 89.227894 \nL 156.745982 89.203267 \nL 157.645982 89.424904 \nL 159.188839 88.833874 \nL 159.960268 89.227894 \nL 160.731696 88.907753 \nL 161.631696 89.081725 \nL 162.403125 87.651814 \nL 163.174554 87.208542 \nL 163.945982 87.454804 \nL 164.717411 87.504057 \nL 165.488839 88.065535 \nL 165.617411 87.994993 \nL 166.388839 88.833874 \nL 167.160268 87.947329 \nL 167.931696 88.045834 \nL 168.703125 88.46448 \nL 169.603125 88.452564 \nL 170.374554 87.947329 \nL 171.917411 88.144339 \nL 172.688839 88.168965 \nL 173.588839 88.338171 \nL 174.360268 87.651814 \nL 175.131696 87.504057 \nL 175.903125 88.045834 \nL 176.674554 88.021208 \nL 177.445982 87.829123 \nL 177.574554 88.109386 \nL 178.345982 89.129389 \nL 179.888839 88.242844 \nL 180.660268 88.316723 \nL 181.560268 88.166582 \nL 182.331696 87.060784 \nL 183.103125 86.913027 \nL 183.874554 87.257794 \nL 184.645982 87.28242 \nL 185.545982 87.423028 \nL 186.317411 86.765269 \nL 187.088839 87.356299 \nL 187.860268 87.454804 \nL 189.403125 87.356299 \nL 189.531696 87.365832 \nL 190.303125 86.765269 \nL 191.845982 87.257794 \nL 193.517411 87.137046 \nL 194.288839 87.651814 \nL 195.060268 87.947329 \nL 196.603125 87.577935 \nL 197.503125 87.70901 \nL 198.274554 87.060784 \nL 199.045982 87.504057 \nL 199.817411 87.454804 \nL 200.588839 87.799571 \nL 202.260268 87.651814 \nL 203.803125 87.454804 \nL 204.574554 87.504057 \nL 205.474554 87.766207 \nL 206.245982 87.356299 \nL 207.017411 87.651814 \nL 207.788839 87.257794 \nL 209.331696 87.356299 \nL 209.460268 87.308635 \nL 210.231696 87.651814 \nL 211.003125 87.356299 \nL 211.774554 87.553309 \nL 212.545982 88.095086 \nL 213.445982 87.8806 \nL 214.217411 86.765269 \nL 215.760268 87.356299 \nL 216.531696 87.356299 \nL 217.431696 87.537421 \nL 218.203125 86.469754 \nL 218.974554 87.356299 \nL 219.745982 87.159289 \nL 220.517411 87.356299 \nL 222.188839 87.060784 \nL 222.960268 86.765269 \nL 223.731696 86.666764 \nL 225.403125 86.965457 \nL 225.403125 86.965457 \n\" clip-path=\"url(#pfca421ce97)\" style=\"fill: none; stroke-dasharray: 5.55,2.4; stroke-dashoffset: 0; stroke: #bf00bf; stroke-width: 1.5\"/>\n   </g>\n   <g id=\"line2d_23\"/>\n   <g id=\"patch_3\">\n    <path d=\"M 30.103125 145.8 \nL 30.103125 7.2 \n\" style=\"fill: none; stroke: #000000; stroke-width: 0.8; stroke-linejoin: miter; stroke-linecap: square\"/>\n   </g>\n   <g id=\"patch_4\">\n    <path d=\"M 225.403125 145.8 \nL 225.403125 7.2 \n\" style=\"fill: none; stroke: #000000; stroke-width: 0.8; stroke-linejoin: miter; stroke-linecap: square\"/>\n   </g>\n   <g id=\"patch_5\">\n    <path d=\"M 30.103125 145.8 \nL 225.403125 145.8 \n\" style=\"fill: none; stroke: #000000; stroke-width: 0.8; stroke-linejoin: miter; stroke-linecap: square\"/>\n   </g>\n   <g id=\"patch_6\">\n    <path d=\"M 30.103125 7.2 \nL 225.403125 7.2 \n\" style=\"fill: none; stroke: #000000; stroke-width: 0.8; stroke-linejoin: miter; stroke-linecap: square\"/>\n   </g>\n   <g id=\"legend_1\">\n    <g id=\"patch_7\">\n     <path d=\"M 140.634375 44.55625 \nL 218.403125 44.55625 \nQ 220.403125 44.55625 220.403125 42.55625 \nL 220.403125 14.2 \nQ 220.403125 12.2 218.403125 12.2 \nL 140.634375 12.2 \nQ 138.634375 12.2 138.634375 14.2 \nL 138.634375 42.55625 \nQ 138.634375 44.55625 140.634375 44.55625 \nz\n\" style=\"fill: #ffffff; opacity: 0.8; stroke: #cccccc; stroke-linejoin: miter\"/>\n    </g>\n    <g id=\"line2d_24\">\n     <path d=\"M 142.634375 20.298438 \nL 152.634375 20.298438 \nL 162.634375 20.298438 \n\" style=\"fill: none; stroke: #1f77b4; stroke-width: 1.5; stroke-linecap: square\"/>\n    </g>\n    <g id=\"text_12\">\n     <!-- train loss -->\n     <g transform=\"translate(170.634375 23.798438) scale(0.1 -0.1)\">\n      <defs>\n       <path id=\"DejaVuSans-74\" d=\"M 1172 4494 \nL 1172 3500 \nL 2356 3500 \nL 2356 3053 \nL 1172 3053 \nL 1172 1153 \nQ 1172 725 1289 603 \nQ 1406 481 1766 481 \nL 2356 481 \nL 2356 0 \nL 1766 0 \nQ 1100 0 847 248 \nQ 594 497 594 1153 \nL 594 3053 \nL 172 3053 \nL 172 3500 \nL 594 3500 \nL 594 4494 \nL 1172 4494 \nz\n\" transform=\"scale(0.015625)\"/>\n       <path id=\"DejaVuSans-72\" d=\"M 2631 2963 \nQ 2534 3019 2420 3045 \nQ 2306 3072 2169 3072 \nQ 1681 3072 1420 2755 \nQ 1159 2438 1159 1844 \nL 1159 0 \nL 581 0 \nL 581 3500 \nL 1159 3500 \nL 1159 2956 \nQ 1341 3275 1631 3429 \nQ 1922 3584 2338 3584 \nQ 2397 3584 2469 3576 \nQ 2541 3569 2628 3553 \nL 2631 2963 \nz\n\" transform=\"scale(0.015625)\"/>\n       <path id=\"DejaVuSans-61\" d=\"M 2194 1759 \nQ 1497 1759 1228 1600 \nQ 959 1441 959 1056 \nQ 959 750 1161 570 \nQ 1363 391 1709 391 \nQ 2188 391 2477 730 \nQ 2766 1069 2766 1631 \nL 2766 1759 \nL 2194 1759 \nz\nM 3341 1997 \nL 3341 0 \nL 2766 0 \nL 2766 531 \nQ 2569 213 2275 61 \nQ 1981 -91 1556 -91 \nQ 1019 -91 701 211 \nQ 384 513 384 1019 \nQ 384 1609 779 1909 \nQ 1175 2209 1959 2209 \nL 2766 2209 \nL 2766 2266 \nQ 2766 2663 2505 2880 \nQ 2244 3097 1772 3097 \nQ 1472 3097 1187 3025 \nQ 903 2953 641 2809 \nL 641 3341 \nQ 956 3463 1253 3523 \nQ 1550 3584 1831 3584 \nQ 2591 3584 2966 3190 \nQ 3341 2797 3341 1997 \nz\n\" transform=\"scale(0.015625)\"/>\n       <path id=\"DejaVuSans-69\" d=\"M 603 3500 \nL 1178 3500 \nL 1178 0 \nL 603 0 \nL 603 3500 \nz\nM 603 4863 \nL 1178 4863 \nL 1178 4134 \nL 603 4134 \nL 603 4863 \nz\n\" transform=\"scale(0.015625)\"/>\n       <path id=\"DejaVuSans-6e\" d=\"M 3513 2113 \nL 3513 0 \nL 2938 0 \nL 2938 2094 \nQ 2938 2591 2744 2837 \nQ 2550 3084 2163 3084 \nQ 1697 3084 1428 2787 \nQ 1159 2491 1159 1978 \nL 1159 0 \nL 581 0 \nL 581 3500 \nL 1159 3500 \nL 1159 2956 \nQ 1366 3272 1645 3428 \nQ 1925 3584 2291 3584 \nQ 2894 3584 3203 3211 \nQ 3513 2838 3513 2113 \nz\n\" transform=\"scale(0.015625)\"/>\n       <path id=\"DejaVuSans-20\" transform=\"scale(0.015625)\"/>\n       <path id=\"DejaVuSans-6c\" d=\"M 603 4863 \nL 1178 4863 \nL 1178 0 \nL 603 0 \nL 603 4863 \nz\n\" transform=\"scale(0.015625)\"/>\n       <path id=\"DejaVuSans-73\" d=\"M 2834 3397 \nL 2834 2853 \nQ 2591 2978 2328 3040 \nQ 2066 3103 1784 3103 \nQ 1356 3103 1142 2972 \nQ 928 2841 928 2578 \nQ 928 2378 1081 2264 \nQ 1234 2150 1697 2047 \nL 1894 2003 \nQ 2506 1872 2764 1633 \nQ 3022 1394 3022 966 \nQ 3022 478 2636 193 \nQ 2250 -91 1575 -91 \nQ 1294 -91 989 -36 \nQ 684 19 347 128 \nL 347 722 \nQ 666 556 975 473 \nQ 1284 391 1588 391 \nQ 1994 391 2212 530 \nQ 2431 669 2431 922 \nQ 2431 1156 2273 1281 \nQ 2116 1406 1581 1522 \nL 1381 1569 \nQ 847 1681 609 1914 \nQ 372 2147 372 2553 \nQ 372 3047 722 3315 \nQ 1072 3584 1716 3584 \nQ 2034 3584 2315 3537 \nQ 2597 3491 2834 3397 \nz\n\" transform=\"scale(0.015625)\"/>\n      </defs>\n      <use xlink:href=\"#DejaVuSans-74\"/>\n      <use xlink:href=\"#DejaVuSans-72\" x=\"39.208984\"/>\n      <use xlink:href=\"#DejaVuSans-61\" x=\"80.322266\"/>\n      <use xlink:href=\"#DejaVuSans-69\" x=\"141.601562\"/>\n      <use xlink:href=\"#DejaVuSans-6e\" x=\"169.384766\"/>\n      <use xlink:href=\"#DejaVuSans-20\" x=\"232.763672\"/>\n      <use xlink:href=\"#DejaVuSans-6c\" x=\"264.550781\"/>\n      <use xlink:href=\"#DejaVuSans-6f\" x=\"292.333984\"/>\n      <use xlink:href=\"#DejaVuSans-73\" x=\"353.515625\"/>\n      <use xlink:href=\"#DejaVuSans-73\" x=\"405.615234\"/>\n     </g>\n    </g>\n    <g id=\"line2d_25\">\n     <path d=\"M 142.634375 34.976562 \nL 152.634375 34.976562 \nL 162.634375 34.976562 \n\" style=\"fill: none; stroke-dasharray: 5.55,2.4; stroke-dashoffset: 0; stroke: #bf00bf; stroke-width: 1.5\"/>\n    </g>\n    <g id=\"text_13\">\n     <!-- train acc -->\n     <g transform=\"translate(170.634375 38.476562) scale(0.1 -0.1)\">\n      <use xlink:href=\"#DejaVuSans-74\"/>\n      <use xlink:href=\"#DejaVuSans-72\" x=\"39.208984\"/>\n      <use xlink:href=\"#DejaVuSans-61\" x=\"80.322266\"/>\n      <use xlink:href=\"#DejaVuSans-69\" x=\"141.601562\"/>\n      <use xlink:href=\"#DejaVuSans-6e\" x=\"169.384766\"/>\n      <use xlink:href=\"#DejaVuSans-20\" x=\"232.763672\"/>\n      <use xlink:href=\"#DejaVuSans-61\" x=\"264.550781\"/>\n      <use xlink:href=\"#DejaVuSans-63\" x=\"325.830078\"/>\n      <use xlink:href=\"#DejaVuSans-63\" x=\"380.810547\"/>\n     </g>\n    </g>\n   </g>\n  </g>\n </g>\n <defs>\n  <clipPath id=\"pfca421ce97\">\n   <rect x=\"30.103125\" y=\"7.2\" width=\"195.3\" height=\"138.6\"/>\n  </clipPath>\n </defs>\n</svg>\n"
     },
     "metadata": {},
     "output_type": "display_data"
    }
   ],
   "source": [
    "net, preds = get_net(), []\n",
    "net(next(iter(train_valid_iter))[0])\n",
    "train(net, train_valid_iter, None, num_epochs, lr, wd, devices, lr_period,\n",
    "      lr_decay)\n",
    "\n",
    "for X, _ in test_iter:\n",
    "    y_hat = net(X.to(devices[0]))\n",
    "    preds.extend(y_hat.argmax(dim=1).type(torch.int32).cpu().numpy())\n",
    "sorted_ids = list(range(1, len(test_ds) + 1))\n",
    "sorted_ids.sort(key=lambda x: str(x))\n",
    "df = pd.DataFrame({'id': sorted_ids, 'label': preds})\n",
    "df['label'] = df['label'].apply(lambda x: train_valid_ds.classes[x])\n",
    "df.to_csv('submission.csv', index=False)"
   ],
   "metadata": {
    "collapsed": false
   },
   "id": "c1bab31f190c7aad"
  },
  {
   "cell_type": "code",
   "execution_count": 34,
   "outputs": [],
   "source": [],
   "metadata": {
    "collapsed": false,
    "ExecuteTime": {
     "end_time": "2023-10-18T01:06:03.529357600Z",
     "start_time": "2023-10-18T01:06:03.514367700Z"
    }
   },
   "id": "ac0990a8f2fcfb33"
  },
  {
   "cell_type": "code",
   "execution_count": 34,
   "outputs": [],
   "source": [],
   "metadata": {
    "collapsed": false,
    "ExecuteTime": {
     "end_time": "2023-10-18T01:06:03.573865600Z",
     "start_time": "2023-10-18T01:06:03.529357600Z"
    }
   },
   "id": "9e926eb2a5739bae"
  },
  {
   "cell_type": "code",
   "execution_count": 34,
   "outputs": [],
   "source": [],
   "metadata": {
    "collapsed": false,
    "ExecuteTime": {
     "end_time": "2023-10-18T01:06:03.582867800Z",
     "start_time": "2023-10-18T01:06:03.545359600Z"
    }
   },
   "id": "fc5206637730d2da"
  }
 ],
 "metadata": {
  "kernelspec": {
   "display_name": "Python 3",
   "language": "python",
   "name": "python3"
  },
  "language_info": {
   "codemirror_mode": {
    "name": "ipython",
    "version": 2
   },
   "file_extension": ".py",
   "mimetype": "text/x-python",
   "name": "python",
   "nbconvert_exporter": "python",
   "pygments_lexer": "ipython2",
   "version": "2.7.6"
  }
 },
 "nbformat": 4,
 "nbformat_minor": 5
}
