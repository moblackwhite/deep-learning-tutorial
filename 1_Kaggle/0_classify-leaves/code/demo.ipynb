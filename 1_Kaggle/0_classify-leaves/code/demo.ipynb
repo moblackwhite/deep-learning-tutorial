{
 "cells": [
  {
   "cell_type": "code",
   "execution_count": 15,
   "id": "initial_id",
   "metadata": {
    "collapsed": true,
    "ExecuteTime": {
     "end_time": "2023-10-17T09:19:21.380114500Z",
     "start_time": "2023-10-17T09:19:21.362113700Z"
    }
   },
   "outputs": [],
   "source": [
    "import os\n",
    "import pathlib\n",
    "import torch\n",
    "\n",
    "from PIL import Image\n",
    "\n",
    "import torchinfo\n",
    "from torch import nn\n",
    "from torch.nn import functional as F\n",
    "from torch.utils import data\n",
    "from torch.utils.data import Dataset\n",
    "import torchvision.datasets\n",
    "from torchvision import transforms\n",
    "\n",
    "from d2l import torch as d2l\n",
    "\n",
    "from typing import Tuple, Dict, List\n",
    "from sklearn.model_selection import train_test_split\n",
    "import cv2\n",
    "\n",
    "import pandas as pd\n",
    "\n",
    "import albumentations\n",
    "from albumentations.pytorch.transforms import ToTensorV2"
   ]
  },
  {
   "cell_type": "code",
   "execution_count": 16,
   "outputs": [],
   "source": [
    "train = pd.read_csv(\"../data/train.csv\")\n",
    "labels = list(pd.read_csv(\"../data/train.csv\")['label'])\n",
    "\n",
    "labels_unique = list(set(list(labels)))  #list index--labels\n",
    "\n",
    "label_nums = []\n",
    "\n",
    "for i in range(len(labels)):\n",
    "    label_nums.append(labels_unique.index(labels[i]))\n",
    "\n",
    "train['number'] = label_nums"
   ],
   "metadata": {
    "collapsed": false,
    "ExecuteTime": {
     "end_time": "2023-10-17T09:19:21.435743600Z",
     "start_time": "2023-10-17T09:19:21.370116700Z"
    }
   },
   "id": "99d64766cc53c03f"
  },
  {
   "cell_type": "code",
   "execution_count": 17,
   "outputs": [
    {
     "data": {
      "text/plain": "                  image                    label  number\n0          images/0.jpg         maclura_pomifera      44\n1          images/1.jpg         maclura_pomifera      44\n2          images/2.jpg         maclura_pomifera      44\n3          images/3.jpg         maclura_pomifera      44\n4          images/4.jpg         maclura_pomifera      44\n...                 ...                      ...     ...\n18348  images/18348.jpg          aesculus_glabra       0\n18349  images/18349.jpg  liquidambar_styraciflua      69\n18350  images/18350.jpg            cedrus_libani      61\n18351  images/18351.jpg      prunus_pensylvanica     111\n18352  images/18352.jpg          quercus_montana     156\n\n[18353 rows x 3 columns]",
      "text/html": "<div>\n<style scoped>\n    .dataframe tbody tr th:only-of-type {\n        vertical-align: middle;\n    }\n\n    .dataframe tbody tr th {\n        vertical-align: top;\n    }\n\n    .dataframe thead th {\n        text-align: right;\n    }\n</style>\n<table border=\"1\" class=\"dataframe\">\n  <thead>\n    <tr style=\"text-align: right;\">\n      <th></th>\n      <th>image</th>\n      <th>label</th>\n      <th>number</th>\n    </tr>\n  </thead>\n  <tbody>\n    <tr>\n      <th>0</th>\n      <td>images/0.jpg</td>\n      <td>maclura_pomifera</td>\n      <td>44</td>\n    </tr>\n    <tr>\n      <th>1</th>\n      <td>images/1.jpg</td>\n      <td>maclura_pomifera</td>\n      <td>44</td>\n    </tr>\n    <tr>\n      <th>2</th>\n      <td>images/2.jpg</td>\n      <td>maclura_pomifera</td>\n      <td>44</td>\n    </tr>\n    <tr>\n      <th>3</th>\n      <td>images/3.jpg</td>\n      <td>maclura_pomifera</td>\n      <td>44</td>\n    </tr>\n    <tr>\n      <th>4</th>\n      <td>images/4.jpg</td>\n      <td>maclura_pomifera</td>\n      <td>44</td>\n    </tr>\n    <tr>\n      <th>...</th>\n      <td>...</td>\n      <td>...</td>\n      <td>...</td>\n    </tr>\n    <tr>\n      <th>18348</th>\n      <td>images/18348.jpg</td>\n      <td>aesculus_glabra</td>\n      <td>0</td>\n    </tr>\n    <tr>\n      <th>18349</th>\n      <td>images/18349.jpg</td>\n      <td>liquidambar_styraciflua</td>\n      <td>69</td>\n    </tr>\n    <tr>\n      <th>18350</th>\n      <td>images/18350.jpg</td>\n      <td>cedrus_libani</td>\n      <td>61</td>\n    </tr>\n    <tr>\n      <th>18351</th>\n      <td>images/18351.jpg</td>\n      <td>prunus_pensylvanica</td>\n      <td>111</td>\n    </tr>\n    <tr>\n      <th>18352</th>\n      <td>images/18352.jpg</td>\n      <td>quercus_montana</td>\n      <td>156</td>\n    </tr>\n  </tbody>\n</table>\n<p>18353 rows × 3 columns</p>\n</div>"
     },
     "execution_count": 17,
     "metadata": {},
     "output_type": "execute_result"
    }
   ],
   "source": [
    "train"
   ],
   "metadata": {
    "collapsed": false,
    "ExecuteTime": {
     "end_time": "2023-10-17T09:19:21.449744100Z",
     "start_time": "2023-10-17T09:19:21.428743500Z"
    }
   },
   "id": "1bd0bd4e14bb72c2"
  },
  {
   "cell_type": "code",
   "execution_count": 18,
   "outputs": [],
   "source": [
    "test = pd.read_csv(\"../data/test.csv\")"
   ],
   "metadata": {
    "collapsed": false,
    "ExecuteTime": {
     "end_time": "2023-10-17T09:19:21.504063300Z",
     "start_time": "2023-10-17T09:19:21.446745200Z"
    }
   },
   "id": "57a4b7a4295dcdb7"
  },
  {
   "cell_type": "code",
   "execution_count": 19,
   "outputs": [],
   "source": [
    "train_data, eval_data = train_test_split(train, test_size=0.2, stratify=train['number'])"
   ],
   "metadata": {
    "collapsed": false,
    "ExecuteTime": {
     "end_time": "2023-10-17T09:19:21.550836400Z",
     "start_time": "2023-10-17T09:19:21.464221800Z"
    }
   },
   "id": "b75f9786b440f15e"
  },
  {
   "cell_type": "code",
   "execution_count": 20,
   "outputs": [],
   "source": [
    "class LeafDataset(Dataset):\n",
    "    \"\"\"\n",
    "    树叶数据集的训练集 自定义Dataset\n",
    "    \"\"\"\n",
    "\n",
    "    def __init__(self, train_csv, transform=None, test=False):\n",
    "        \"\"\"\n",
    "        train_path : 传入记录图像路径及其标号的csv文件\n",
    "        transform : 对图像进行的变换\n",
    "        \"\"\"\n",
    "        super().__init__()\n",
    "        self.train_csv = train_csv\n",
    "        self.image_path = list(self.train_csv['image'])  #图像所在地址记录\n",
    "        self.test = test\n",
    "        if not self.test:\n",
    "            self.label_nums = list(self.train_csv['number'])  #图像的标号记录\n",
    "        self.transform = transform\n",
    "\n",
    "    def __getitem__(self, idx):\n",
    "        \"\"\"\n",
    "        idx : 所需要获取的图像的索引\n",
    "        return : image， label\n",
    "        \"\"\"\n",
    "        image = cv2.imread(os.path.join(\"../data\", self.image_path[idx]))\n",
    "        image = cv2.cvtColor(image, cv2.COLOR_BGR2RGB)\n",
    "\n",
    "        if self.transform is not None:\n",
    "            image = self.transform(image=image)['image']\n",
    "        if not self.test:\n",
    "            label = self.label_nums[idx]\n",
    "            return image, label\n",
    "        else:\n",
    "            return image\n",
    "\n",
    "    def __len__(self):\n",
    "        return len(self.image_path)"
   ],
   "metadata": {
    "collapsed": false,
    "ExecuteTime": {
     "end_time": "2023-10-17T09:19:21.551837Z",
     "start_time": "2023-10-17T09:19:21.495063800Z"
    }
   },
   "id": "b06f646476832efe"
  },
  {
   "cell_type": "code",
   "execution_count": 21,
   "outputs": [],
   "source": [
    "lr, num_epochs, batch_size = 0.1, 20, 32"
   ],
   "metadata": {
    "collapsed": false,
    "ExecuteTime": {
     "end_time": "2023-10-17T09:19:21.551837Z",
     "start_time": "2023-10-17T09:19:21.508698500Z"
    }
   },
   "id": "2b04a60b075701a7"
  },
  {
   "cell_type": "code",
   "execution_count": 22,
   "outputs": [],
   "source": [
    "transforms_train = albumentations.Compose(\n",
    "    [\n",
    "        albumentations.Resize(320, 320),\n",
    "        albumentations.Normalize([0.485, 0.456, 0.406], [0.229, 0.224, 0.225]),\n",
    "        ToTensorV2(p=1.0)\n",
    "    ]\n",
    ")\n",
    "\n",
    "transforms_test = albumentations.Compose(\n",
    "    [\n",
    "        albumentations.Resize(320, 320),\n",
    "        albumentations.Normalize([0.485, 0.456, 0.406], [0.229, 0.224, 0.225]),\n",
    "        ToTensorV2(p=1.0)\n",
    "    ]\n",
    ")"
   ],
   "metadata": {
    "collapsed": false,
    "ExecuteTime": {
     "end_time": "2023-10-17T09:19:21.624975800Z",
     "start_time": "2023-10-17T09:19:21.522630700Z"
    }
   },
   "id": "91148819739fd531"
  },
  {
   "cell_type": "code",
   "execution_count": 23,
   "outputs": [],
   "source": [
    "train_iter = data.DataLoader(\n",
    "    LeafDataset(train_data, transform=transforms_train),\n",
    "    batch_size, shuffle=True)\n",
    "eval_iter = data.DataLoader(\n",
    "    LeafDataset(eval_data, transform=transforms_test),\n",
    "    batch_size, shuffle=True)"
   ],
   "metadata": {
    "collapsed": false,
    "ExecuteTime": {
     "end_time": "2023-10-17T09:19:21.654111700Z",
     "start_time": "2023-10-17T09:19:21.537785300Z"
    }
   },
   "id": "b65ac3ae91d4bc68"
  },
  {
   "cell_type": "code",
   "execution_count": 24,
   "outputs": [
    {
     "name": "stderr",
     "output_type": "stream",
     "text": [
      "C:\\ProgramData\\Anaconda3\\envs\\d2l\\lib\\site-packages\\torch\\nn\\modules\\lazy.py:180: UserWarning: Lazy modules are a new feature under heavy development so changes to the API or functionality can happen at any moment.\n",
      "  warnings.warn('Lazy modules are a new feature under heavy development '\n"
     ]
    }
   ],
   "source": [
    "net = torchvision.models.resnet50(weights=torchvision.models.ResNet50_Weights.IMAGENET1K_V2)\n",
    "net.fc = nn.LazyLinear(176)"
   ],
   "metadata": {
    "collapsed": false,
    "ExecuteTime": {
     "end_time": "2023-10-17T09:19:21.899613900Z",
     "start_time": "2023-10-17T09:19:21.555707500Z"
    }
   },
   "id": "536cf2bfb120f937"
  },
  {
   "cell_type": "code",
   "execution_count": 25,
   "outputs": [
    {
     "data": {
      "text/plain": "==========================================================================================\nLayer (type:depth-idx)                   Output Shape              Param #\n==========================================================================================\nResNet                                   [32, 176]                 --\n├─Conv2d: 1-1                            [32, 64, 112, 112]        9,408\n├─BatchNorm2d: 1-2                       [32, 64, 112, 112]        128\n├─ReLU: 1-3                              [32, 64, 112, 112]        --\n├─MaxPool2d: 1-4                         [32, 64, 56, 56]          --\n├─Sequential: 1-5                        [32, 256, 56, 56]         --\n│    └─Bottleneck: 2-1                   [32, 256, 56, 56]         --\n│    │    └─Conv2d: 3-1                  [32, 64, 56, 56]          4,096\n│    │    └─BatchNorm2d: 3-2             [32, 64, 56, 56]          128\n│    │    └─ReLU: 3-3                    [32, 64, 56, 56]          --\n│    │    └─Conv2d: 3-4                  [32, 64, 56, 56]          36,864\n│    │    └─BatchNorm2d: 3-5             [32, 64, 56, 56]          128\n│    │    └─ReLU: 3-6                    [32, 64, 56, 56]          --\n│    │    └─Conv2d: 3-7                  [32, 256, 56, 56]         16,384\n│    │    └─BatchNorm2d: 3-8             [32, 256, 56, 56]         512\n│    │    └─Sequential: 3-9              [32, 256, 56, 56]         16,896\n│    │    └─ReLU: 3-10                   [32, 256, 56, 56]         --\n│    └─Bottleneck: 2-2                   [32, 256, 56, 56]         --\n│    │    └─Conv2d: 3-11                 [32, 64, 56, 56]          16,384\n│    │    └─BatchNorm2d: 3-12            [32, 64, 56, 56]          128\n│    │    └─ReLU: 3-13                   [32, 64, 56, 56]          --\n│    │    └─Conv2d: 3-14                 [32, 64, 56, 56]          36,864\n│    │    └─BatchNorm2d: 3-15            [32, 64, 56, 56]          128\n│    │    └─ReLU: 3-16                   [32, 64, 56, 56]          --\n│    │    └─Conv2d: 3-17                 [32, 256, 56, 56]         16,384\n│    │    └─BatchNorm2d: 3-18            [32, 256, 56, 56]         512\n│    │    └─ReLU: 3-19                   [32, 256, 56, 56]         --\n│    └─Bottleneck: 2-3                   [32, 256, 56, 56]         --\n│    │    └─Conv2d: 3-20                 [32, 64, 56, 56]          16,384\n│    │    └─BatchNorm2d: 3-21            [32, 64, 56, 56]          128\n│    │    └─ReLU: 3-22                   [32, 64, 56, 56]          --\n│    │    └─Conv2d: 3-23                 [32, 64, 56, 56]          36,864\n│    │    └─BatchNorm2d: 3-24            [32, 64, 56, 56]          128\n│    │    └─ReLU: 3-25                   [32, 64, 56, 56]          --\n│    │    └─Conv2d: 3-26                 [32, 256, 56, 56]         16,384\n│    │    └─BatchNorm2d: 3-27            [32, 256, 56, 56]         512\n│    │    └─ReLU: 3-28                   [32, 256, 56, 56]         --\n├─Sequential: 1-6                        [32, 512, 28, 28]         --\n│    └─Bottleneck: 2-4                   [32, 512, 28, 28]         --\n│    │    └─Conv2d: 3-29                 [32, 128, 56, 56]         32,768\n│    │    └─BatchNorm2d: 3-30            [32, 128, 56, 56]         256\n│    │    └─ReLU: 3-31                   [32, 128, 56, 56]         --\n│    │    └─Conv2d: 3-32                 [32, 128, 28, 28]         147,456\n│    │    └─BatchNorm2d: 3-33            [32, 128, 28, 28]         256\n│    │    └─ReLU: 3-34                   [32, 128, 28, 28]         --\n│    │    └─Conv2d: 3-35                 [32, 512, 28, 28]         65,536\n│    │    └─BatchNorm2d: 3-36            [32, 512, 28, 28]         1,024\n│    │    └─Sequential: 3-37             [32, 512, 28, 28]         132,096\n│    │    └─ReLU: 3-38                   [32, 512, 28, 28]         --\n│    └─Bottleneck: 2-5                   [32, 512, 28, 28]         --\n│    │    └─Conv2d: 3-39                 [32, 128, 28, 28]         65,536\n│    │    └─BatchNorm2d: 3-40            [32, 128, 28, 28]         256\n│    │    └─ReLU: 3-41                   [32, 128, 28, 28]         --\n│    │    └─Conv2d: 3-42                 [32, 128, 28, 28]         147,456\n│    │    └─BatchNorm2d: 3-43            [32, 128, 28, 28]         256\n│    │    └─ReLU: 3-44                   [32, 128, 28, 28]         --\n│    │    └─Conv2d: 3-45                 [32, 512, 28, 28]         65,536\n│    │    └─BatchNorm2d: 3-46            [32, 512, 28, 28]         1,024\n│    │    └─ReLU: 3-47                   [32, 512, 28, 28]         --\n│    └─Bottleneck: 2-6                   [32, 512, 28, 28]         --\n│    │    └─Conv2d: 3-48                 [32, 128, 28, 28]         65,536\n│    │    └─BatchNorm2d: 3-49            [32, 128, 28, 28]         256\n│    │    └─ReLU: 3-50                   [32, 128, 28, 28]         --\n│    │    └─Conv2d: 3-51                 [32, 128, 28, 28]         147,456\n│    │    └─BatchNorm2d: 3-52            [32, 128, 28, 28]         256\n│    │    └─ReLU: 3-53                   [32, 128, 28, 28]         --\n│    │    └─Conv2d: 3-54                 [32, 512, 28, 28]         65,536\n│    │    └─BatchNorm2d: 3-55            [32, 512, 28, 28]         1,024\n│    │    └─ReLU: 3-56                   [32, 512, 28, 28]         --\n│    └─Bottleneck: 2-7                   [32, 512, 28, 28]         --\n│    │    └─Conv2d: 3-57                 [32, 128, 28, 28]         65,536\n│    │    └─BatchNorm2d: 3-58            [32, 128, 28, 28]         256\n│    │    └─ReLU: 3-59                   [32, 128, 28, 28]         --\n│    │    └─Conv2d: 3-60                 [32, 128, 28, 28]         147,456\n│    │    └─BatchNorm2d: 3-61            [32, 128, 28, 28]         256\n│    │    └─ReLU: 3-62                   [32, 128, 28, 28]         --\n│    │    └─Conv2d: 3-63                 [32, 512, 28, 28]         65,536\n│    │    └─BatchNorm2d: 3-64            [32, 512, 28, 28]         1,024\n│    │    └─ReLU: 3-65                   [32, 512, 28, 28]         --\n├─Sequential: 1-7                        [32, 1024, 14, 14]        --\n│    └─Bottleneck: 2-8                   [32, 1024, 14, 14]        --\n│    │    └─Conv2d: 3-66                 [32, 256, 28, 28]         131,072\n│    │    └─BatchNorm2d: 3-67            [32, 256, 28, 28]         512\n│    │    └─ReLU: 3-68                   [32, 256, 28, 28]         --\n│    │    └─Conv2d: 3-69                 [32, 256, 14, 14]         589,824\n│    │    └─BatchNorm2d: 3-70            [32, 256, 14, 14]         512\n│    │    └─ReLU: 3-71                   [32, 256, 14, 14]         --\n│    │    └─Conv2d: 3-72                 [32, 1024, 14, 14]        262,144\n│    │    └─BatchNorm2d: 3-73            [32, 1024, 14, 14]        2,048\n│    │    └─Sequential: 3-74             [32, 1024, 14, 14]        526,336\n│    │    └─ReLU: 3-75                   [32, 1024, 14, 14]        --\n│    └─Bottleneck: 2-9                   [32, 1024, 14, 14]        --\n│    │    └─Conv2d: 3-76                 [32, 256, 14, 14]         262,144\n│    │    └─BatchNorm2d: 3-77            [32, 256, 14, 14]         512\n│    │    └─ReLU: 3-78                   [32, 256, 14, 14]         --\n│    │    └─Conv2d: 3-79                 [32, 256, 14, 14]         589,824\n│    │    └─BatchNorm2d: 3-80            [32, 256, 14, 14]         512\n│    │    └─ReLU: 3-81                   [32, 256, 14, 14]         --\n│    │    └─Conv2d: 3-82                 [32, 1024, 14, 14]        262,144\n│    │    └─BatchNorm2d: 3-83            [32, 1024, 14, 14]        2,048\n│    │    └─ReLU: 3-84                   [32, 1024, 14, 14]        --\n│    └─Bottleneck: 2-10                  [32, 1024, 14, 14]        --\n│    │    └─Conv2d: 3-85                 [32, 256, 14, 14]         262,144\n│    │    └─BatchNorm2d: 3-86            [32, 256, 14, 14]         512\n│    │    └─ReLU: 3-87                   [32, 256, 14, 14]         --\n│    │    └─Conv2d: 3-88                 [32, 256, 14, 14]         589,824\n│    │    └─BatchNorm2d: 3-89            [32, 256, 14, 14]         512\n│    │    └─ReLU: 3-90                   [32, 256, 14, 14]         --\n│    │    └─Conv2d: 3-91                 [32, 1024, 14, 14]        262,144\n│    │    └─BatchNorm2d: 3-92            [32, 1024, 14, 14]        2,048\n│    │    └─ReLU: 3-93                   [32, 1024, 14, 14]        --\n│    └─Bottleneck: 2-11                  [32, 1024, 14, 14]        --\n│    │    └─Conv2d: 3-94                 [32, 256, 14, 14]         262,144\n│    │    └─BatchNorm2d: 3-95            [32, 256, 14, 14]         512\n│    │    └─ReLU: 3-96                   [32, 256, 14, 14]         --\n│    │    └─Conv2d: 3-97                 [32, 256, 14, 14]         589,824\n│    │    └─BatchNorm2d: 3-98            [32, 256, 14, 14]         512\n│    │    └─ReLU: 3-99                   [32, 256, 14, 14]         --\n│    │    └─Conv2d: 3-100                [32, 1024, 14, 14]        262,144\n│    │    └─BatchNorm2d: 3-101           [32, 1024, 14, 14]        2,048\n│    │    └─ReLU: 3-102                  [32, 1024, 14, 14]        --\n│    └─Bottleneck: 2-12                  [32, 1024, 14, 14]        --\n│    │    └─Conv2d: 3-103                [32, 256, 14, 14]         262,144\n│    │    └─BatchNorm2d: 3-104           [32, 256, 14, 14]         512\n│    │    └─ReLU: 3-105                  [32, 256, 14, 14]         --\n│    │    └─Conv2d: 3-106                [32, 256, 14, 14]         589,824\n│    │    └─BatchNorm2d: 3-107           [32, 256, 14, 14]         512\n│    │    └─ReLU: 3-108                  [32, 256, 14, 14]         --\n│    │    └─Conv2d: 3-109                [32, 1024, 14, 14]        262,144\n│    │    └─BatchNorm2d: 3-110           [32, 1024, 14, 14]        2,048\n│    │    └─ReLU: 3-111                  [32, 1024, 14, 14]        --\n│    └─Bottleneck: 2-13                  [32, 1024, 14, 14]        --\n│    │    └─Conv2d: 3-112                [32, 256, 14, 14]         262,144\n│    │    └─BatchNorm2d: 3-113           [32, 256, 14, 14]         512\n│    │    └─ReLU: 3-114                  [32, 256, 14, 14]         --\n│    │    └─Conv2d: 3-115                [32, 256, 14, 14]         589,824\n│    │    └─BatchNorm2d: 3-116           [32, 256, 14, 14]         512\n│    │    └─ReLU: 3-117                  [32, 256, 14, 14]         --\n│    │    └─Conv2d: 3-118                [32, 1024, 14, 14]        262,144\n│    │    └─BatchNorm2d: 3-119           [32, 1024, 14, 14]        2,048\n│    │    └─ReLU: 3-120                  [32, 1024, 14, 14]        --\n├─Sequential: 1-8                        [32, 2048, 7, 7]          --\n│    └─Bottleneck: 2-14                  [32, 2048, 7, 7]          --\n│    │    └─Conv2d: 3-121                [32, 512, 14, 14]         524,288\n│    │    └─BatchNorm2d: 3-122           [32, 512, 14, 14]         1,024\n│    │    └─ReLU: 3-123                  [32, 512, 14, 14]         --\n│    │    └─Conv2d: 3-124                [32, 512, 7, 7]           2,359,296\n│    │    └─BatchNorm2d: 3-125           [32, 512, 7, 7]           1,024\n│    │    └─ReLU: 3-126                  [32, 512, 7, 7]           --\n│    │    └─Conv2d: 3-127                [32, 2048, 7, 7]          1,048,576\n│    │    └─BatchNorm2d: 3-128           [32, 2048, 7, 7]          4,096\n│    │    └─Sequential: 3-129            [32, 2048, 7, 7]          2,101,248\n│    │    └─ReLU: 3-130                  [32, 2048, 7, 7]          --\n│    └─Bottleneck: 2-15                  [32, 2048, 7, 7]          --\n│    │    └─Conv2d: 3-131                [32, 512, 7, 7]           1,048,576\n│    │    └─BatchNorm2d: 3-132           [32, 512, 7, 7]           1,024\n│    │    └─ReLU: 3-133                  [32, 512, 7, 7]           --\n│    │    └─Conv2d: 3-134                [32, 512, 7, 7]           2,359,296\n│    │    └─BatchNorm2d: 3-135           [32, 512, 7, 7]           1,024\n│    │    └─ReLU: 3-136                  [32, 512, 7, 7]           --\n│    │    └─Conv2d: 3-137                [32, 2048, 7, 7]          1,048,576\n│    │    └─BatchNorm2d: 3-138           [32, 2048, 7, 7]          4,096\n│    │    └─ReLU: 3-139                  [32, 2048, 7, 7]          --\n│    └─Bottleneck: 2-16                  [32, 2048, 7, 7]          --\n│    │    └─Conv2d: 3-140                [32, 512, 7, 7]           1,048,576\n│    │    └─BatchNorm2d: 3-141           [32, 512, 7, 7]           1,024\n│    │    └─ReLU: 3-142                  [32, 512, 7, 7]           --\n│    │    └─Conv2d: 3-143                [32, 512, 7, 7]           2,359,296\n│    │    └─BatchNorm2d: 3-144           [32, 512, 7, 7]           1,024\n│    │    └─ReLU: 3-145                  [32, 512, 7, 7]           --\n│    │    └─Conv2d: 3-146                [32, 2048, 7, 7]          1,048,576\n│    │    └─BatchNorm2d: 3-147           [32, 2048, 7, 7]          4,096\n│    │    └─ReLU: 3-148                  [32, 2048, 7, 7]          --\n├─AdaptiveAvgPool2d: 1-9                 [32, 2048, 1, 1]          --\n├─Linear: 1-10                           [32, 176]                 360,624\n==========================================================================================\nTotal params: 23,868,656\nTrainable params: 23,868,656\nNon-trainable params: 0\nTotal mult-adds (G): 130.80\n==========================================================================================\nInput size (MB): 19.27\nForward/backward pass size (MB): 5690.40\nParams size (MB): 95.47\nEstimated Total Size (MB): 5805.15\n=========================================================================================="
     },
     "execution_count": 25,
     "metadata": {},
     "output_type": "execute_result"
    }
   ],
   "source": [
    "torchinfo.summary(net, input_size=[32, 3, 224, 224])"
   ],
   "metadata": {
    "collapsed": false,
    "ExecuteTime": {
     "end_time": "2023-10-17T09:19:22.039380Z",
     "start_time": "2023-10-17T09:19:21.898614400Z"
    }
   },
   "id": "6e8d7b245ca8bd80"
  },
  {
   "cell_type": "code",
   "execution_count": 26,
   "outputs": [],
   "source": [
    "device = 'cuda:0'"
   ],
   "metadata": {
    "collapsed": false,
    "ExecuteTime": {
     "end_time": "2023-10-17T09:19:22.095578200Z",
     "start_time": "2023-10-17T09:19:22.039380Z"
    }
   },
   "id": "84955bc519d0bf5e"
  },
  {
   "cell_type": "code",
   "execution_count": 27,
   "outputs": [],
   "source": [
    "def evaluate_accuracy_gpu(net, data_iter, device=None):\n",
    "    \"\"\"Compute the accuracy for a model on a dataset using a GPU.\n",
    "\n",
    "    Defined in :numref:`sec_utils`\"\"\"\n",
    "    if isinstance(net, nn.Module):\n",
    "        net.eval()  # Set the model to evaluation mode\n",
    "        if not device:\n",
    "            device = next(iter(net.parameters())).device\n",
    "    # No. of correct predictions, no. of predictions\n",
    "    metric = d2l.Accumulator(2)\n",
    "\n",
    "    with torch.no_grad():\n",
    "        for X, y in data_iter:\n",
    "            if isinstance(X, list):\n",
    "                # Required for BERT Fine-tuning (to be covered later)\n",
    "                X = [x.to(device) for x in X]\n",
    "            else:\n",
    "                X = X.to(device)\n",
    "            y = y.to(device)\n",
    "            metric.add(d2l.accuracy(net(X), y), d2l.size(y))\n",
    "    return metric[0] / metric[1]"
   ],
   "metadata": {
    "collapsed": false,
    "ExecuteTime": {
     "end_time": "2023-10-17T09:19:22.117580800Z",
     "start_time": "2023-10-17T09:19:22.057476300Z"
    }
   },
   "id": "b1dd970ec33595a"
  },
  {
   "cell_type": "code",
   "execution_count": 28,
   "outputs": [
    {
     "name": "stdout",
     "output_type": "stream",
     "text": [
      "training on cuda:0\n",
      "0.19825708061002179 (4.801209722246442, 0.059752747252747256, None)\n",
      "0.39651416122004357 (3.7803937943427117, 0.18956043956043955, None)\n",
      "0.5947712418300654 (3.058370834741837, 0.30597527472527475, None)\n",
      "0.7930283224400871 (2.5927004491562373, 0.3916552197802198, None)\n",
      "0.9912854030501089 (2.2573249193338247, 0.4596840659340659, None)\n",
      "1.0 (2.244907999473897, 0.4619942787086228, None)\n",
      "1 (None, None, 0.6943612094797058)\n",
      "1.1982570806100217 (0.6161067266385634, 0.8135302197802198, None)\n",
      "1.3965141612200436 (0.5955358280257864, 0.8197115384615384, None)\n",
      "1.5947712418300655 (0.5602886621659492, 0.8310439560439561, None)\n",
      "1.7930283224400871 (0.5352589124506646, 0.8395432692307693, None)\n",
      "1.9912854030501088 (0.5175280952519112, 0.8441620879120879, None)\n",
      "2.0 (0.5159507674362854, 0.8445715842528266, None)\n",
      "2 (None, None, 0.8163988014165078)\n",
      "2.1982570806100217 (0.2891595181036781, 0.9189560439560439, None)\n",
      "2.3965141612200433 (0.26693198486016345, 0.9191277472527473, None)\n",
      "2.5947712418300655 (0.2594773356935808, 0.9204441391941391, None)\n",
      "2.793028322440087 (0.2595435346190173, 0.918698489010989, None)\n",
      "2.991285403050109 (0.25288909815743077, 0.921565934065934, None)\n",
      "3.0 (0.25232782101715606, 0.9218771284566135, None)\n",
      "3 (None, None, 0.8643421411059656)\n",
      "3.1982570806100217 (0.1441528911569289, 0.9563873626373627, None)\n",
      "3.3965141612200433 (0.14098117691925266, 0.9567307692307693, None)\n",
      "3.5947712418300655 (0.1386292033347782, 0.9573031135531136, None)\n",
      "3.793028322440087 (0.1406279883685184, 0.9565590659340659, None)\n",
      "3.991285403050109 (0.14073566416749259, 0.9567994505494506, None)\n",
      "4.0 (0.1406809516923984, 0.9568859828361259, None)\n",
      "4 (None, None, 0.9177335875783166)\n",
      "4.198257080610022 (0.09105045066962203, 0.9711538461538461, None)\n",
      "4.396514161220043 (0.0881562810826146, 0.973385989010989, None)\n",
      "4.594771241830065 (0.08813940000041445, 0.972985347985348, None)\n",
      "4.793028322440087 (0.09015637329539058, 0.971926510989011, None)\n",
      "4.991285403050109 (0.08922374043716015, 0.9722527472527472, None)\n",
      "5.0 (0.08907901679599924, 0.97227898106525, None)\n",
      "5 (None, None, 0.9381639880141651)\n",
      "5.198257080610022 (0.05858897784172178, 0.9817994505494505, None)\n",
      "5.396514161220043 (0.05685220028089544, 0.9831730769230769, None)\n",
      "5.594771241830065 (0.053988156106746024, 0.9835164835164835, None)\n",
      "5.793028322440087 (0.05565730933928965, 0.9830013736263736, None)\n",
      "5.991285403050109 (0.05472473028924439, 0.9834478021978021, None)\n",
      "6.0 (0.05457229237760417, 0.9835172319847432, None)\n",
      "6 (None, None, 0.9441569054753474)\n",
      "6.198257080610022 (0.03770095213306147, 0.9866071428571429, None)\n",
      "6.396514161220043 (0.03323454358922011, 0.9888392857142857, None)\n",
      "6.594771241830065 (0.03383749711579701, 0.9891254578754579, None)\n",
      "6.793028322440087 (0.039408692684546526, 0.9874656593406593, None)\n",
      "6.991285403050109 (0.038800489740794177, 0.987912087912088, None)\n",
      "7.0 (0.038803850170572515, 0.987876311129274, None)\n",
      "7 (None, None, 0.9542359030236993)\n",
      "7.198257080610022 (0.02685862623288163, 0.9917582417582418, None)\n",
      "7.396514161220043 (0.02599608533821263, 0.9912431318681318, None)\n",
      "7.594771241830065 (0.0270258593091557, 0.9908424908424909, None)\n",
      "7.793028322440087 (0.02689360957183353, 0.9908138736263736, None)\n",
      "7.991285403050109 (0.027231910095580823, 0.9902472527472528, None)\n",
      "8.0 (0.02712266346214659, 0.9903282931480725, None)\n",
      "8 (None, None, 0.9561427403977117)\n",
      "8.198257080610022 (0.028546966755619414, 0.990728021978022, None)\n",
      "8.396514161220043 (0.04165003095257127, 0.9866071428571429, None)\n",
      "8.594771241830065 (0.04251294031708532, 0.985691391941392, None)\n",
      "8.793028322440087 (0.04088811969428047, 0.9859203296703297, None)\n",
      "8.991285403050108 (0.036263187033134504, 0.9877747252747253, None)\n",
      "9.0 (0.03615273720628071, 0.9878082005176406, None)\n",
      "9 (None, None, 0.9596840098065922)\n",
      "9.198257080610022 (0.022593987217827977, 0.9917582417582418, None)\n",
      "9.396514161220043 (0.020259852850538485, 0.992445054945055, None)\n",
      "9.594771241830065 (0.01994271796890074, 0.9918727106227107, None)\n",
      "9.793028322440087 (0.020237597846522015, 0.9915006868131868, None)\n",
      "9.991285403050108 (0.02003518532779948, 0.9914148351648352, None)\n",
      "10.0 (0.020034495628598867, 0.9914861735458385, None)\n",
      "10 (None, None, 0.962135657858894)\n",
      "10.198257080610022 (0.020237586063148637, 0.990728021978022, None)\n",
      "10.396514161220043 (0.01992984029341612, 0.992445054945055, None)\n",
      "10.594771241830065 (0.01953116110005781, 0.992445054945055, None)\n",
      "10.793028322440087 (0.01963663507650471, 0.9917582417582418, None)\n",
      "10.991285403050108 (0.01944007732704599, 0.9916895604395605, None)\n",
      "11.0 (0.0193433165704374, 0.9917586159923716, None)\n",
      "11 (None, None, 0.9613184418414601)\n",
      "11.198257080610022 (0.01967379275343514, 0.9917582417582418, None)\n",
      "11.396514161220043 (0.018687212185686003, 0.992445054945055, None)\n",
      "11.594771241830065 (0.017525919016293717, 0.9926739926739927, None)\n",
      "11.793028322440087 (0.018220115265429052, 0.9920157967032966, None)\n",
      "11.991285403050108 (0.017902104149234817, 0.9921703296703297, None)\n",
      "12.0 (0.018031992744910685, 0.9920310584389048, None)\n",
      "12 (None, None, 0.9645873059111959)\n",
      "12.198257080610022 (0.015084438478180136, 0.9931318681318682, None)\n",
      "12.396514161220043 (0.013803722742423006, 0.9938186813186813, None)\n",
      "12.594771241830065 (0.015613748008409182, 0.992445054945055, None)\n",
      "12.793028322440087 (0.014756320397002408, 0.9931318681318682, None)\n",
      "12.991285403050108 (0.01566478635074448, 0.9926510989010989, None)\n",
      "13.0 (0.015636685218836082, 0.9927121645552377, None)\n",
      "13 (None, None, 0.9645873059111959)\n",
      "13.198257080610022 (0.014973977531413905, 0.9917582417582418, None)\n",
      "13.396514161220043 (0.013947967393355762, 0.9926167582417582, None)\n",
      "13.594771241830065 (0.012259395293304663, 0.9939331501831502, None)\n",
      "13.793028322440087 (0.014204470251890278, 0.9932177197802198, None)\n",
      "13.991285403050108 (0.014734380269054692, 0.9927884615384616, None)\n",
      "14.0 (0.014690915381434648, 0.992780275166871, None)\n",
      "14 (None, None, 0.9624080631980387)\n",
      "14.198257080610022 (0.01262654061493167, 0.9927884615384616, None)\n",
      "14.396514161220043 (0.015437285875732714, 0.990728021978022, None)\n",
      "14.594771241830065 (0.014061524233168449, 0.9921016483516484, None)\n",
      "14.793028322440087 (0.014492812575254293, 0.991929945054945, None)\n",
      "14.991285403050108 (0.014017199812607921, 0.9921703296703297, None)\n",
      "15.0 (0.01410733425759866, 0.9920991690505381, None)\n",
      "15 (None, None, 0.9645873059111959)\n",
      "15.198257080610022 (0.010439517626354654, 0.9948489010989011, None)\n",
      "15.396514161220043 (0.014278937345287497, 0.9921016483516484, None)\n",
      "15.594771241830065 (0.013093727712021396, 0.9927884615384616, None)\n",
      "15.793028322440087 (0.012506354319547037, 0.9932177197802198, None)\n",
      "15.991285403050108 (0.012877610980297674, 0.9927197802197802, None)\n",
      "16.0 (0.013029035170784707, 0.9925759433319711, None)\n",
      "16 (None, None, 0.9645873059111959)\n",
      "16.198257080610023 (0.010333197366300418, 0.9951923076923077, None)\n",
      "16.396514161220043 (0.012494920162710484, 0.9939903846153846, None)\n",
      "16.594771241830067 (0.012499858632056049, 0.9939331501831502, None)\n",
      "16.793028322440087 (0.013929333570119055, 0.992445054945055, None)\n",
      "16.99128540305011 (0.014077240544893257, 0.9923763736263737, None)\n",
      "17.0 (0.013999485968325544, 0.9924397221087046, None)\n",
      "17 (None, None, 0.9632252792154726)\n",
      "17.198257080610023 (0.011851888919469214, 0.9945054945054945, None)\n",
      "17.396514161220043 (0.012224666270872599, 0.9927884615384616, None)\n",
      "17.594771241830067 (0.01213594269522998, 0.9930173992673993, None)\n",
      "17.793028322440087 (0.01288030726053486, 0.9923592032967034, None)\n",
      "17.99128540305011 (0.01368751851521985, 0.9918956043956044, None)\n",
      "18.0 (0.013713608592309178, 0.9918948372156382, None)\n",
      "18 (None, None, 0.9643149005720512)\n",
      "18.198257080610023 (0.012157660476597292, 0.9934752747252747, None)\n",
      "18.396514161220043 (0.011066305420711985, 0.9941620879120879, None)\n",
      "18.594771241830067 (0.01149653765339244, 0.9937042124542125, None)\n",
      "18.793028322440087 (0.012322643114692675, 0.9932177197802198, None)\n",
      "18.99128540305011 (0.012359379471412727, 0.9933379120879121, None)\n",
      "19.0 (0.012532569999970112, 0.9931889388366707, None)\n",
      "19 (None, None, 0.9632252792154726)\n",
      "19.198257080610023 (0.011671050853712566, 0.9927884615384616, None)\n",
      "19.396514161220043 (0.011778606299520726, 0.9934752747252747, None)\n",
      "19.594771241830067 (0.011448075948848096, 0.9939331501831502, None)\n",
      "19.793028322440087 (0.011772910276444495, 0.9938186813186813, None)\n",
      "19.99128540305011 (0.011964817563133253, 0.9933379120879121, None)\n",
      "20.0 (0.011875646422034696, 0.9933932706715707, None)\n",
      "20 (None, None, 0.9634976845546173)\n",
      "loss 0.012, train acc 0.993, test acc 0.963\n",
      "47.3 examples/sec on cuda:0\n"
     ]
    }
   ],
   "source": [
    "print('training on', device)\n",
    "\n",
    "net.to(device)\n",
    "optimizer = torch.optim.SGD(net.parameters(), lr=lr)\n",
    "loss = nn.CrossEntropyLoss(reduction='mean')\n",
    "# animator = d2l.Animator(xlabel='epoch', xlim=[1, num_epochs],\n",
    "#                         legend=['train loss', 'train acc', 'test acc'])\n",
    "\n",
    "timer, num_batches = d2l.Timer(), len(train_iter)\n",
    "for epoch in range(num_epochs):\n",
    "    # Sum of training loss, sum of training accuracy, no. of examples\n",
    "    metric = d2l.Accumulator(3)\n",
    "    net.train()\n",
    "    for i, (X, y) in enumerate(train_iter):\n",
    "        timer.start()\n",
    "        optimizer.zero_grad()\n",
    "        X, y = X.to(device), y.to(device)\n",
    "        y_hat = net(X)\n",
    "        l = loss(y_hat, y)\n",
    "        l.backward()\n",
    "        optimizer.step()\n",
    "        with torch.no_grad():\n",
    "            metric.add(l * X.shape[0], d2l.accuracy(y_hat, y), X.shape[0])\n",
    "        timer.stop()\n",
    "        train_l = metric[0] / metric[2]\n",
    "        train_acc = metric[1] / metric[2]\n",
    "        if ((i + 1)\n",
    "                % (num_batches // 5) == 0 or i == num_batches - 1):\n",
    "            print(epoch + (i + 1) / num_batches, (train_l, train_acc, None))\n",
    "    test_acc = evaluate_accuracy_gpu(net, eval_iter)\n",
    "    print(epoch + 1, (None, None, test_acc))\n",
    "print(f'loss {train_l:.3f}, train acc {train_acc:.3f}, '\n",
    "      f'test acc {test_acc:.3f}')\n",
    "print(f'{metric[2] * num_epochs / timer.sum():.1f} examples/sec '\n",
    "      f'on {str(device)}')"
   ],
   "metadata": {
    "collapsed": false,
    "ExecuteTime": {
     "end_time": "2023-10-17T11:17:36.482371500Z",
     "start_time": "2023-10-17T09:19:22.076577200Z"
    }
   },
   "id": "be73efb85f55c9c9"
  },
  {
   "cell_type": "code",
   "execution_count": 29,
   "outputs": [],
   "source": [
    "## Origin -- test acc: 0.958\n",
    "## Resize -- test acc: 0.965 0.966\n",
    "## Resize and HorizontalFlip and VerticalFlip -- test acc: 0.953 \n",
    "## Resize and HorizontalFlip and VerticalFlip and Rotate and RandomBrightnessContrast and ShiftScaleRotate -- test acc 0.952"
   ],
   "metadata": {
    "collapsed": false,
    "ExecuteTime": {
     "end_time": "2023-10-17T11:17:36.501371700Z",
     "start_time": "2023-10-17T11:17:36.484371600Z"
    }
   },
   "id": "db3953591e56bfd"
  }
 ],
 "metadata": {
  "kernelspec": {
   "display_name": "Python 3",
   "language": "python",
   "name": "python3"
  },
  "language_info": {
   "codemirror_mode": {
    "name": "ipython",
    "version": 2
   },
   "file_extension": ".py",
   "mimetype": "text/x-python",
   "name": "python",
   "nbconvert_exporter": "python",
   "pygments_lexer": "ipython2",
   "version": "2.7.6"
  }
 },
 "nbformat": 4,
 "nbformat_minor": 5
}
