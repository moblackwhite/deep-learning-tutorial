{
 "cells": [
  {
   "cell_type": "code",
   "execution_count": 1,
   "id": "initial_id",
   "metadata": {
    "collapsed": true,
    "ExecuteTime": {
     "end_time": "2023-10-12T16:13:41.301784600Z",
     "start_time": "2023-10-12T16:13:37.279151200Z"
    }
   },
   "outputs": [],
   "source": [
    "import os\n",
    "import pathlib\n",
    "import torch\n",
    "\n",
    "from PIL import Image\n",
    "\n",
    "import torchinfo\n",
    "from torch import nn\n",
    "from torch.nn import functional as F\n",
    "from torch.utils import data\n",
    "from torch.utils.data import Dataset\n",
    "import torchvision.datasets\n",
    "from torchvision import transforms\n",
    "\n",
    "from d2l import torch as d2l\n",
    "\n",
    "from typing import Tuple, Dict, List\n",
    "from sklearn.model_selection import train_test_split\n",
    "import cv2\n",
    "\n",
    "import pandas as pd\n",
    "\n",
    "import albumentations\n",
    "from albumentations.pytorch.transforms import ToTensorV2"
   ]
  },
  {
   "cell_type": "code",
   "execution_count": 2,
   "outputs": [],
   "source": [
    "train = pd.read_csv(\"../data/train.csv\")\n",
    "labels = list(pd.read_csv(\"../data/train.csv\")['label'])\n",
    "\n",
    "labels_unique = list(set(list(labels)))  #list index--labels\n",
    "\n",
    "label_nums = []\n",
    "\n",
    "for i in range(len(labels)):\n",
    "    label_nums.append(labels_unique.index(labels[i]))\n",
    "\n",
    "train['number'] = label_nums"
   ],
   "metadata": {
    "collapsed": false,
    "ExecuteTime": {
     "end_time": "2023-10-12T16:13:41.365786Z",
     "start_time": "2023-10-12T16:13:41.304784800Z"
    }
   },
   "id": "99d64766cc53c03f"
  },
  {
   "cell_type": "code",
   "execution_count": 3,
   "outputs": [
    {
     "data": {
      "text/plain": "                  image                    label  number\n0          images/0.jpg         maclura_pomifera      18\n1          images/1.jpg         maclura_pomifera      18\n2          images/2.jpg         maclura_pomifera      18\n3          images/3.jpg         maclura_pomifera      18\n4          images/4.jpg         maclura_pomifera      18\n...                 ...                      ...     ...\n18348  images/18348.jpg          aesculus_glabra      76\n18349  images/18349.jpg  liquidambar_styraciflua      60\n18350  images/18350.jpg            cedrus_libani     171\n18351  images/18351.jpg      prunus_pensylvanica       7\n18352  images/18352.jpg          quercus_montana      15\n\n[18353 rows x 3 columns]",
      "text/html": "<div>\n<style scoped>\n    .dataframe tbody tr th:only-of-type {\n        vertical-align: middle;\n    }\n\n    .dataframe tbody tr th {\n        vertical-align: top;\n    }\n\n    .dataframe thead th {\n        text-align: right;\n    }\n</style>\n<table border=\"1\" class=\"dataframe\">\n  <thead>\n    <tr style=\"text-align: right;\">\n      <th></th>\n      <th>image</th>\n      <th>label</th>\n      <th>number</th>\n    </tr>\n  </thead>\n  <tbody>\n    <tr>\n      <th>0</th>\n      <td>images/0.jpg</td>\n      <td>maclura_pomifera</td>\n      <td>18</td>\n    </tr>\n    <tr>\n      <th>1</th>\n      <td>images/1.jpg</td>\n      <td>maclura_pomifera</td>\n      <td>18</td>\n    </tr>\n    <tr>\n      <th>2</th>\n      <td>images/2.jpg</td>\n      <td>maclura_pomifera</td>\n      <td>18</td>\n    </tr>\n    <tr>\n      <th>3</th>\n      <td>images/3.jpg</td>\n      <td>maclura_pomifera</td>\n      <td>18</td>\n    </tr>\n    <tr>\n      <th>4</th>\n      <td>images/4.jpg</td>\n      <td>maclura_pomifera</td>\n      <td>18</td>\n    </tr>\n    <tr>\n      <th>...</th>\n      <td>...</td>\n      <td>...</td>\n      <td>...</td>\n    </tr>\n    <tr>\n      <th>18348</th>\n      <td>images/18348.jpg</td>\n      <td>aesculus_glabra</td>\n      <td>76</td>\n    </tr>\n    <tr>\n      <th>18349</th>\n      <td>images/18349.jpg</td>\n      <td>liquidambar_styraciflua</td>\n      <td>60</td>\n    </tr>\n    <tr>\n      <th>18350</th>\n      <td>images/18350.jpg</td>\n      <td>cedrus_libani</td>\n      <td>171</td>\n    </tr>\n    <tr>\n      <th>18351</th>\n      <td>images/18351.jpg</td>\n      <td>prunus_pensylvanica</td>\n      <td>7</td>\n    </tr>\n    <tr>\n      <th>18352</th>\n      <td>images/18352.jpg</td>\n      <td>quercus_montana</td>\n      <td>15</td>\n    </tr>\n  </tbody>\n</table>\n<p>18353 rows × 3 columns</p>\n</div>"
     },
     "execution_count": 3,
     "metadata": {},
     "output_type": "execute_result"
    }
   ],
   "source": [
    "train"
   ],
   "metadata": {
    "collapsed": false,
    "ExecuteTime": {
     "end_time": "2023-10-12T16:13:41.384790300Z",
     "start_time": "2023-10-12T16:13:41.366787600Z"
    }
   },
   "id": "1bd0bd4e14bb72c2"
  },
  {
   "cell_type": "code",
   "execution_count": 4,
   "outputs": [],
   "source": [
    "test = pd.read_csv(\"../data/test.csv\")"
   ],
   "metadata": {
    "collapsed": false,
    "ExecuteTime": {
     "end_time": "2023-10-12T16:13:41.415785400Z",
     "start_time": "2023-10-12T16:13:41.382785300Z"
    }
   },
   "id": "57a4b7a4295dcdb7"
  },
  {
   "cell_type": "code",
   "execution_count": 5,
   "outputs": [],
   "source": [
    "train_data, eval_data = train_test_split(train, test_size=0.2, stratify=train['number'])"
   ],
   "metadata": {
    "collapsed": false,
    "ExecuteTime": {
     "end_time": "2023-10-12T16:13:41.441783600Z",
     "start_time": "2023-10-12T16:13:41.400788800Z"
    }
   },
   "id": "b75f9786b440f15e"
  },
  {
   "cell_type": "code",
   "execution_count": 6,
   "outputs": [],
   "source": [
    "class LeafDataset(Dataset):\n",
    "    \"\"\"\n",
    "    树叶数据集的训练集 自定义Dataset\n",
    "    \"\"\"\n",
    "\n",
    "    def __init__(self, train_csv, transform=None, test=False):\n",
    "        \"\"\"\n",
    "        train_path : 传入记录图像路径及其标号的csv文件\n",
    "        transform : 对图像进行的变换\n",
    "        \"\"\"\n",
    "        super().__init__()\n",
    "        self.train_csv = train_csv\n",
    "        self.image_path = list(self.train_csv['image'])  #图像所在地址记录\n",
    "        self.test = test\n",
    "        if not self.test:\n",
    "            self.label_nums = list(self.train_csv['number'])  #图像的标号记录\n",
    "        self.transform = transform\n",
    "\n",
    "    def __getitem__(self, idx):\n",
    "        \"\"\"\n",
    "        idx : 所需要获取的图像的索引\n",
    "        return : image， label\n",
    "        \"\"\"\n",
    "        image = cv2.imread(os.path.join(\"../data\", self.image_path[idx]))\n",
    "        image = cv2.cvtColor(image, cv2.COLOR_BGR2RGB)\n",
    "\n",
    "        if self.transform is not None:\n",
    "            image = self.transform(image=image)['image']\n",
    "        if not self.test:\n",
    "            label = self.label_nums[idx]\n",
    "            return image, label\n",
    "        else:\n",
    "            return image\n",
    "\n",
    "    def __len__(self):\n",
    "        return len(self.image_path)"
   ],
   "metadata": {
    "collapsed": false,
    "ExecuteTime": {
     "end_time": "2023-10-12T16:13:41.471222900Z",
     "start_time": "2023-10-12T16:13:41.419785900Z"
    }
   },
   "id": "b06f646476832efe"
  },
  {
   "cell_type": "code",
   "execution_count": 7,
   "outputs": [],
   "source": [
    "lr, num_epochs, batch_size = 0.1, 20, 32"
   ],
   "metadata": {
    "collapsed": false,
    "ExecuteTime": {
     "end_time": "2023-10-12T16:13:41.488221200Z",
     "start_time": "2023-10-12T16:13:41.430784900Z"
    }
   },
   "id": "2b04a60b075701a7"
  },
  {
   "cell_type": "code",
   "execution_count": 8,
   "outputs": [],
   "source": [
    "transforms_train = albumentations.Compose(\n",
    "    [\n",
    "        # albumentations.Resize(320, 320),\n",
    "        albumentations.Normalize([0.485, 0.456, 0.406], [0.229, 0.224, 0.225]),\n",
    "        ToTensorV2(p=1.0)\n",
    "    ]\n",
    ")\n",
    "\n",
    "transforms_test = albumentations.Compose(\n",
    "    [\n",
    "        # albumentations.Resize(320, 320),\n",
    "        albumentations.Normalize([0.485, 0.456, 0.406], [0.229, 0.224, 0.225]),\n",
    "        ToTensorV2(p=1.0)\n",
    "    ]\n",
    ")"
   ],
   "metadata": {
    "collapsed": false,
    "ExecuteTime": {
     "end_time": "2023-10-12T16:13:41.489222200Z",
     "start_time": "2023-10-12T16:13:41.447253400Z"
    }
   },
   "id": "91148819739fd531"
  },
  {
   "cell_type": "code",
   "execution_count": 9,
   "outputs": [],
   "source": [
    "train_iter = data.DataLoader(\n",
    "    LeafDataset(train_data, transform=transforms_train),\n",
    "    batch_size, shuffle=True)\n",
    "eval_iter = data.DataLoader(\n",
    "    LeafDataset(eval_data, transform=transforms_test),\n",
    "    batch_size, shuffle=True)"
   ],
   "metadata": {
    "collapsed": false,
    "ExecuteTime": {
     "end_time": "2023-10-12T16:13:41.489222200Z",
     "start_time": "2023-10-12T16:13:41.465221900Z"
    }
   },
   "id": "b65ac3ae91d4bc68"
  },
  {
   "cell_type": "code",
   "execution_count": 10,
   "outputs": [
    {
     "name": "stderr",
     "output_type": "stream",
     "text": [
      "C:\\ProgramData\\Anaconda3\\envs\\d2l\\lib\\site-packages\\torch\\nn\\modules\\lazy.py:180: UserWarning: Lazy modules are a new feature under heavy development so changes to the API or functionality can happen at any moment.\n",
      "  warnings.warn('Lazy modules are a new feature under heavy development '\n"
     ]
    }
   ],
   "source": [
    "net = torchvision.models.resnet50(weights=torchvision.models.ResNet50_Weights.IMAGENET1K_V1)\n",
    "net.fc = nn.LazyLinear(176)"
   ],
   "metadata": {
    "collapsed": false,
    "ExecuteTime": {
     "end_time": "2023-10-12T16:13:41.823749300Z",
     "start_time": "2023-10-12T16:13:41.477224700Z"
    }
   },
   "id": "536cf2bfb120f937"
  },
  {
   "cell_type": "code",
   "execution_count": 11,
   "outputs": [
    {
     "data": {
      "text/plain": "==========================================================================================\nLayer (type:depth-idx)                   Output Shape              Param #\n==========================================================================================\nResNet                                   [32, 176]                 --\n├─Conv2d: 1-1                            [32, 64, 112, 112]        9,408\n├─BatchNorm2d: 1-2                       [32, 64, 112, 112]        128\n├─ReLU: 1-3                              [32, 64, 112, 112]        --\n├─MaxPool2d: 1-4                         [32, 64, 56, 56]          --\n├─Sequential: 1-5                        [32, 256, 56, 56]         --\n│    └─Bottleneck: 2-1                   [32, 256, 56, 56]         --\n│    │    └─Conv2d: 3-1                  [32, 64, 56, 56]          4,096\n│    │    └─BatchNorm2d: 3-2             [32, 64, 56, 56]          128\n│    │    └─ReLU: 3-3                    [32, 64, 56, 56]          --\n│    │    └─Conv2d: 3-4                  [32, 64, 56, 56]          36,864\n│    │    └─BatchNorm2d: 3-5             [32, 64, 56, 56]          128\n│    │    └─ReLU: 3-6                    [32, 64, 56, 56]          --\n│    │    └─Conv2d: 3-7                  [32, 256, 56, 56]         16,384\n│    │    └─BatchNorm2d: 3-8             [32, 256, 56, 56]         512\n│    │    └─Sequential: 3-9              [32, 256, 56, 56]         16,896\n│    │    └─ReLU: 3-10                   [32, 256, 56, 56]         --\n│    └─Bottleneck: 2-2                   [32, 256, 56, 56]         --\n│    │    └─Conv2d: 3-11                 [32, 64, 56, 56]          16,384\n│    │    └─BatchNorm2d: 3-12            [32, 64, 56, 56]          128\n│    │    └─ReLU: 3-13                   [32, 64, 56, 56]          --\n│    │    └─Conv2d: 3-14                 [32, 64, 56, 56]          36,864\n│    │    └─BatchNorm2d: 3-15            [32, 64, 56, 56]          128\n│    │    └─ReLU: 3-16                   [32, 64, 56, 56]          --\n│    │    └─Conv2d: 3-17                 [32, 256, 56, 56]         16,384\n│    │    └─BatchNorm2d: 3-18            [32, 256, 56, 56]         512\n│    │    └─ReLU: 3-19                   [32, 256, 56, 56]         --\n│    └─Bottleneck: 2-3                   [32, 256, 56, 56]         --\n│    │    └─Conv2d: 3-20                 [32, 64, 56, 56]          16,384\n│    │    └─BatchNorm2d: 3-21            [32, 64, 56, 56]          128\n│    │    └─ReLU: 3-22                   [32, 64, 56, 56]          --\n│    │    └─Conv2d: 3-23                 [32, 64, 56, 56]          36,864\n│    │    └─BatchNorm2d: 3-24            [32, 64, 56, 56]          128\n│    │    └─ReLU: 3-25                   [32, 64, 56, 56]          --\n│    │    └─Conv2d: 3-26                 [32, 256, 56, 56]         16,384\n│    │    └─BatchNorm2d: 3-27            [32, 256, 56, 56]         512\n│    │    └─ReLU: 3-28                   [32, 256, 56, 56]         --\n├─Sequential: 1-6                        [32, 512, 28, 28]         --\n│    └─Bottleneck: 2-4                   [32, 512, 28, 28]         --\n│    │    └─Conv2d: 3-29                 [32, 128, 56, 56]         32,768\n│    │    └─BatchNorm2d: 3-30            [32, 128, 56, 56]         256\n│    │    └─ReLU: 3-31                   [32, 128, 56, 56]         --\n│    │    └─Conv2d: 3-32                 [32, 128, 28, 28]         147,456\n│    │    └─BatchNorm2d: 3-33            [32, 128, 28, 28]         256\n│    │    └─ReLU: 3-34                   [32, 128, 28, 28]         --\n│    │    └─Conv2d: 3-35                 [32, 512, 28, 28]         65,536\n│    │    └─BatchNorm2d: 3-36            [32, 512, 28, 28]         1,024\n│    │    └─Sequential: 3-37             [32, 512, 28, 28]         132,096\n│    │    └─ReLU: 3-38                   [32, 512, 28, 28]         --\n│    └─Bottleneck: 2-5                   [32, 512, 28, 28]         --\n│    │    └─Conv2d: 3-39                 [32, 128, 28, 28]         65,536\n│    │    └─BatchNorm2d: 3-40            [32, 128, 28, 28]         256\n│    │    └─ReLU: 3-41                   [32, 128, 28, 28]         --\n│    │    └─Conv2d: 3-42                 [32, 128, 28, 28]         147,456\n│    │    └─BatchNorm2d: 3-43            [32, 128, 28, 28]         256\n│    │    └─ReLU: 3-44                   [32, 128, 28, 28]         --\n│    │    └─Conv2d: 3-45                 [32, 512, 28, 28]         65,536\n│    │    └─BatchNorm2d: 3-46            [32, 512, 28, 28]         1,024\n│    │    └─ReLU: 3-47                   [32, 512, 28, 28]         --\n│    └─Bottleneck: 2-6                   [32, 512, 28, 28]         --\n│    │    └─Conv2d: 3-48                 [32, 128, 28, 28]         65,536\n│    │    └─BatchNorm2d: 3-49            [32, 128, 28, 28]         256\n│    │    └─ReLU: 3-50                   [32, 128, 28, 28]         --\n│    │    └─Conv2d: 3-51                 [32, 128, 28, 28]         147,456\n│    │    └─BatchNorm2d: 3-52            [32, 128, 28, 28]         256\n│    │    └─ReLU: 3-53                   [32, 128, 28, 28]         --\n│    │    └─Conv2d: 3-54                 [32, 512, 28, 28]         65,536\n│    │    └─BatchNorm2d: 3-55            [32, 512, 28, 28]         1,024\n│    │    └─ReLU: 3-56                   [32, 512, 28, 28]         --\n│    └─Bottleneck: 2-7                   [32, 512, 28, 28]         --\n│    │    └─Conv2d: 3-57                 [32, 128, 28, 28]         65,536\n│    │    └─BatchNorm2d: 3-58            [32, 128, 28, 28]         256\n│    │    └─ReLU: 3-59                   [32, 128, 28, 28]         --\n│    │    └─Conv2d: 3-60                 [32, 128, 28, 28]         147,456\n│    │    └─BatchNorm2d: 3-61            [32, 128, 28, 28]         256\n│    │    └─ReLU: 3-62                   [32, 128, 28, 28]         --\n│    │    └─Conv2d: 3-63                 [32, 512, 28, 28]         65,536\n│    │    └─BatchNorm2d: 3-64            [32, 512, 28, 28]         1,024\n│    │    └─ReLU: 3-65                   [32, 512, 28, 28]         --\n├─Sequential: 1-7                        [32, 1024, 14, 14]        --\n│    └─Bottleneck: 2-8                   [32, 1024, 14, 14]        --\n│    │    └─Conv2d: 3-66                 [32, 256, 28, 28]         131,072\n│    │    └─BatchNorm2d: 3-67            [32, 256, 28, 28]         512\n│    │    └─ReLU: 3-68                   [32, 256, 28, 28]         --\n│    │    └─Conv2d: 3-69                 [32, 256, 14, 14]         589,824\n│    │    └─BatchNorm2d: 3-70            [32, 256, 14, 14]         512\n│    │    └─ReLU: 3-71                   [32, 256, 14, 14]         --\n│    │    └─Conv2d: 3-72                 [32, 1024, 14, 14]        262,144\n│    │    └─BatchNorm2d: 3-73            [32, 1024, 14, 14]        2,048\n│    │    └─Sequential: 3-74             [32, 1024, 14, 14]        526,336\n│    │    └─ReLU: 3-75                   [32, 1024, 14, 14]        --\n│    └─Bottleneck: 2-9                   [32, 1024, 14, 14]        --\n│    │    └─Conv2d: 3-76                 [32, 256, 14, 14]         262,144\n│    │    └─BatchNorm2d: 3-77            [32, 256, 14, 14]         512\n│    │    └─ReLU: 3-78                   [32, 256, 14, 14]         --\n│    │    └─Conv2d: 3-79                 [32, 256, 14, 14]         589,824\n│    │    └─BatchNorm2d: 3-80            [32, 256, 14, 14]         512\n│    │    └─ReLU: 3-81                   [32, 256, 14, 14]         --\n│    │    └─Conv2d: 3-82                 [32, 1024, 14, 14]        262,144\n│    │    └─BatchNorm2d: 3-83            [32, 1024, 14, 14]        2,048\n│    │    └─ReLU: 3-84                   [32, 1024, 14, 14]        --\n│    └─Bottleneck: 2-10                  [32, 1024, 14, 14]        --\n│    │    └─Conv2d: 3-85                 [32, 256, 14, 14]         262,144\n│    │    └─BatchNorm2d: 3-86            [32, 256, 14, 14]         512\n│    │    └─ReLU: 3-87                   [32, 256, 14, 14]         --\n│    │    └─Conv2d: 3-88                 [32, 256, 14, 14]         589,824\n│    │    └─BatchNorm2d: 3-89            [32, 256, 14, 14]         512\n│    │    └─ReLU: 3-90                   [32, 256, 14, 14]         --\n│    │    └─Conv2d: 3-91                 [32, 1024, 14, 14]        262,144\n│    │    └─BatchNorm2d: 3-92            [32, 1024, 14, 14]        2,048\n│    │    └─ReLU: 3-93                   [32, 1024, 14, 14]        --\n│    └─Bottleneck: 2-11                  [32, 1024, 14, 14]        --\n│    │    └─Conv2d: 3-94                 [32, 256, 14, 14]         262,144\n│    │    └─BatchNorm2d: 3-95            [32, 256, 14, 14]         512\n│    │    └─ReLU: 3-96                   [32, 256, 14, 14]         --\n│    │    └─Conv2d: 3-97                 [32, 256, 14, 14]         589,824\n│    │    └─BatchNorm2d: 3-98            [32, 256, 14, 14]         512\n│    │    └─ReLU: 3-99                   [32, 256, 14, 14]         --\n│    │    └─Conv2d: 3-100                [32, 1024, 14, 14]        262,144\n│    │    └─BatchNorm2d: 3-101           [32, 1024, 14, 14]        2,048\n│    │    └─ReLU: 3-102                  [32, 1024, 14, 14]        --\n│    └─Bottleneck: 2-12                  [32, 1024, 14, 14]        --\n│    │    └─Conv2d: 3-103                [32, 256, 14, 14]         262,144\n│    │    └─BatchNorm2d: 3-104           [32, 256, 14, 14]         512\n│    │    └─ReLU: 3-105                  [32, 256, 14, 14]         --\n│    │    └─Conv2d: 3-106                [32, 256, 14, 14]         589,824\n│    │    └─BatchNorm2d: 3-107           [32, 256, 14, 14]         512\n│    │    └─ReLU: 3-108                  [32, 256, 14, 14]         --\n│    │    └─Conv2d: 3-109                [32, 1024, 14, 14]        262,144\n│    │    └─BatchNorm2d: 3-110           [32, 1024, 14, 14]        2,048\n│    │    └─ReLU: 3-111                  [32, 1024, 14, 14]        --\n│    └─Bottleneck: 2-13                  [32, 1024, 14, 14]        --\n│    │    └─Conv2d: 3-112                [32, 256, 14, 14]         262,144\n│    │    └─BatchNorm2d: 3-113           [32, 256, 14, 14]         512\n│    │    └─ReLU: 3-114                  [32, 256, 14, 14]         --\n│    │    └─Conv2d: 3-115                [32, 256, 14, 14]         589,824\n│    │    └─BatchNorm2d: 3-116           [32, 256, 14, 14]         512\n│    │    └─ReLU: 3-117                  [32, 256, 14, 14]         --\n│    │    └─Conv2d: 3-118                [32, 1024, 14, 14]        262,144\n│    │    └─BatchNorm2d: 3-119           [32, 1024, 14, 14]        2,048\n│    │    └─ReLU: 3-120                  [32, 1024, 14, 14]        --\n├─Sequential: 1-8                        [32, 2048, 7, 7]          --\n│    └─Bottleneck: 2-14                  [32, 2048, 7, 7]          --\n│    │    └─Conv2d: 3-121                [32, 512, 14, 14]         524,288\n│    │    └─BatchNorm2d: 3-122           [32, 512, 14, 14]         1,024\n│    │    └─ReLU: 3-123                  [32, 512, 14, 14]         --\n│    │    └─Conv2d: 3-124                [32, 512, 7, 7]           2,359,296\n│    │    └─BatchNorm2d: 3-125           [32, 512, 7, 7]           1,024\n│    │    └─ReLU: 3-126                  [32, 512, 7, 7]           --\n│    │    └─Conv2d: 3-127                [32, 2048, 7, 7]          1,048,576\n│    │    └─BatchNorm2d: 3-128           [32, 2048, 7, 7]          4,096\n│    │    └─Sequential: 3-129            [32, 2048, 7, 7]          2,101,248\n│    │    └─ReLU: 3-130                  [32, 2048, 7, 7]          --\n│    └─Bottleneck: 2-15                  [32, 2048, 7, 7]          --\n│    │    └─Conv2d: 3-131                [32, 512, 7, 7]           1,048,576\n│    │    └─BatchNorm2d: 3-132           [32, 512, 7, 7]           1,024\n│    │    └─ReLU: 3-133                  [32, 512, 7, 7]           --\n│    │    └─Conv2d: 3-134                [32, 512, 7, 7]           2,359,296\n│    │    └─BatchNorm2d: 3-135           [32, 512, 7, 7]           1,024\n│    │    └─ReLU: 3-136                  [32, 512, 7, 7]           --\n│    │    └─Conv2d: 3-137                [32, 2048, 7, 7]          1,048,576\n│    │    └─BatchNorm2d: 3-138           [32, 2048, 7, 7]          4,096\n│    │    └─ReLU: 3-139                  [32, 2048, 7, 7]          --\n│    └─Bottleneck: 2-16                  [32, 2048, 7, 7]          --\n│    │    └─Conv2d: 3-140                [32, 512, 7, 7]           1,048,576\n│    │    └─BatchNorm2d: 3-141           [32, 512, 7, 7]           1,024\n│    │    └─ReLU: 3-142                  [32, 512, 7, 7]           --\n│    │    └─Conv2d: 3-143                [32, 512, 7, 7]           2,359,296\n│    │    └─BatchNorm2d: 3-144           [32, 512, 7, 7]           1,024\n│    │    └─ReLU: 3-145                  [32, 512, 7, 7]           --\n│    │    └─Conv2d: 3-146                [32, 2048, 7, 7]          1,048,576\n│    │    └─BatchNorm2d: 3-147           [32, 2048, 7, 7]          4,096\n│    │    └─ReLU: 3-148                  [32, 2048, 7, 7]          --\n├─AdaptiveAvgPool2d: 1-9                 [32, 2048, 1, 1]          --\n├─Linear: 1-10                           [32, 176]                 360,624\n==========================================================================================\nTotal params: 23,868,656\nTrainable params: 23,868,656\nNon-trainable params: 0\nTotal mult-adds (G): 130.80\n==========================================================================================\nInput size (MB): 19.27\nForward/backward pass size (MB): 5690.40\nParams size (MB): 95.47\nEstimated Total Size (MB): 5805.15\n=========================================================================================="
     },
     "execution_count": 11,
     "metadata": {},
     "output_type": "execute_result"
    }
   ],
   "source": [
    "torchinfo.summary(net, input_size=[32, 3, 224, 224])"
   ],
   "metadata": {
    "collapsed": false,
    "ExecuteTime": {
     "end_time": "2023-10-12T16:13:46.388236300Z",
     "start_time": "2023-10-12T16:13:41.825748400Z"
    }
   },
   "id": "6e8d7b245ca8bd80"
  },
  {
   "cell_type": "code",
   "execution_count": 12,
   "outputs": [],
   "source": [
    "device = 'cuda:0'"
   ],
   "metadata": {
    "collapsed": false,
    "ExecuteTime": {
     "end_time": "2023-10-12T16:13:46.432236400Z",
     "start_time": "2023-10-12T16:13:46.389235800Z"
    }
   },
   "id": "84955bc519d0bf5e"
  },
  {
   "cell_type": "code",
   "execution_count": 13,
   "outputs": [],
   "source": [
    "def evaluate_accuracy_gpu(net, data_iter, device=None):\n",
    "    \"\"\"Compute the accuracy for a model on a dataset using a GPU.\n",
    "\n",
    "    Defined in :numref:`sec_utils`\"\"\"\n",
    "    if isinstance(net, nn.Module):\n",
    "        net.eval()  # Set the model to evaluation mode\n",
    "        if not device:\n",
    "            device = next(iter(net.parameters())).device\n",
    "    # No. of correct predictions, no. of predictions\n",
    "    metric = d2l.Accumulator(2)\n",
    "\n",
    "    with torch.no_grad():\n",
    "        for X, y in data_iter:\n",
    "            if isinstance(X, list):\n",
    "                # Required for BERT Fine-tuning (to be covered later)\n",
    "                X = [x.to(device) for x in X]\n",
    "            else:\n",
    "                X = X.to(device)\n",
    "            y = y.to(device)\n",
    "            metric.add(d2l.accuracy(net(X), y), d2l.size(y))\n",
    "    return metric[0] / metric[1]"
   ],
   "metadata": {
    "collapsed": false,
    "ExecuteTime": {
     "end_time": "2023-10-12T16:13:46.446250600Z",
     "start_time": "2023-10-12T16:13:46.407240400Z"
    }
   },
   "id": "b1dd970ec33595a"
  },
  {
   "cell_type": "code",
   "execution_count": 14,
   "outputs": [
    {
     "name": "stdout",
     "output_type": "stream",
     "text": [
      "training on cuda:0\n",
      "0.19825708061002179 (3.97758610693963, 0.14285714285714285, None)\n",
      "0.39651416122004357 (3.1751948653996647, 0.2548076923076923, None)\n",
      "0.5947712418300654 (2.7153962601672164, 0.3331043956043956, None)\n",
      "0.7930283224400871 (2.388761743248164, 0.39672046703296704, None)\n",
      "0.9912854030501089 (2.1591687619031132, 0.44375, None)\n",
      "1.0 (2.1511814804399325, 0.44530717885846616, None)\n",
      "1 (None, None, 0.42767638245709616)\n",
      "1.1982570806100217 (0.9502821014477656, 0.7098214285714286, None)\n",
      "1.3965141612200436 (0.9090389162302017, 0.7266483516483516, None)\n",
      "1.5947712418300655 (0.8500336466473101, 0.7447344322344323, None)\n",
      "1.7930283224400871 (0.8114983906130214, 0.7555803571428571, None)\n",
      "1.9912854030501088 (0.7851409120219094, 0.7633928571428571, None)\n",
      "2.0 (0.785588229974046, 0.7631112927394088, None)\n",
      "2 (None, None, 0.6853718332879325)\n",
      "2.1982570806100217 (0.48242957218662724, 0.8478708791208791, None)\n",
      "2.3965141612200433 (0.45234984953652374, 0.8571428571428571, None)\n",
      "2.5947712418300655 (0.44729395085202034, 0.8592032967032966, None)\n",
      "2.793028322440087 (0.43754355371980874, 0.8642685439560439, None)\n",
      "2.991285403050109 (0.43973895530779283, 0.8631181318681319, None)\n",
      "3.0 (0.4392201481520228, 0.8634382236752486, None)\n",
      "3 (None, None, 0.7493870879869245)\n",
      "3.1982570806100217 (0.27042830395665796, 0.9175824175824175, None)\n",
      "3.3965141612200433 (0.2523890553594946, 0.9217032967032966, None)\n",
      "3.5947712418300655 (0.23554138406674505, 0.928228021978022, None)\n",
      "3.793028322440087 (0.23571689104518065, 0.9271978021978022, None)\n",
      "3.991285403050109 (0.23932105564809109, 0.9258241758241759, None)\n",
      "4.0 (0.24017898530730142, 0.9254188802615447, None)\n",
      "4 (None, None, 0.7869790247888858)\n",
      "4.198257080610022 (0.16458209945850974, 0.9481456043956044, None)\n",
      "4.396514161220043 (0.14768616191960954, 0.954842032967033, None)\n",
      "4.594771241830065 (0.1399606994145137, 0.9585622710622711, None)\n",
      "4.793028322440087 (0.14758598238260454, 0.9558722527472527, None)\n",
      "4.991285403050109 (0.15321401767228005, 0.9538461538461539, None)\n",
      "5.0 (0.15388228500178425, 0.9535485628660946, None)\n",
      "5 (None, None, 0.8681558158539907)\n",
      "5.198257080610022 (0.08705966372124768, 0.9745879120879121, None)\n",
      "5.396514161220043 (0.09034797680758677, 0.9740728021978022, None)\n",
      "5.594771241830065 (0.09393495563144758, 0.9734432234432234, None)\n",
      "5.793028322440087 (0.09396350052678487, 0.9730425824175825, None)\n",
      "5.991285403050109 (0.09868477578019048, 0.9710164835164835, None)\n",
      "6.0 (0.09959638778040608, 0.9707124369976843, None)\n",
      "6 (None, None, 0.8294742576954508)\n",
      "6.198257080610022 (0.09835870555796467, 0.970467032967033, None)\n",
      "6.396514161220043 (0.09140914982021019, 0.9721840659340659, None)\n",
      "6.594771241830065 (0.08833380270026106, 0.9728708791208791, None)\n",
      "6.793028322440087 (0.09204060915386775, 0.9708962912087912, None)\n",
      "6.991285403050109 (0.09014269018156842, 0.9714285714285714, None)\n",
      "7.0 (0.08987529570750101, 0.9715297643372838, None)\n",
      "7 (None, None, 0.9103786434214111)\n",
      "7.198257080610022 (0.06696763690970428, 0.9783653846153846, None)\n",
      "7.396514161220043 (0.057987182651861355, 0.9812843406593407, None)\n",
      "7.594771241830065 (0.06436319611011407, 0.9785943223443223, None)\n",
      "7.793028322440087 (0.06709622343935605, 0.9779361263736264, None)\n",
      "7.991285403050109 (0.06528514961579017, 0.9786401098901099, None)\n",
      "8.0 (0.06521512261488964, 0.9786813785587795, None)\n",
      "8 (None, None, 0.9370743666575865)\n",
      "8.198257080610022 (0.03869931959639211, 0.9859203296703297, None)\n",
      "8.396514161220043 (0.044688190591961635, 0.9852335164835165, None)\n",
      "8.594771241830065 (0.04739140118506392, 0.9839743589743589, None)\n",
      "8.793028322440087 (0.047416129324759186, 0.9844608516483516, None)\n",
      "8.991285403050108 (0.04717283609558593, 0.984684065934066, None)\n",
      "9.0 (0.04732484781617057, 0.9846751123825092, None)\n",
      "9 (None, None, 0.9485153909016617)\n",
      "9.198257080610022 (0.025550385552028623, 0.9896978021978022, None)\n",
      "9.396514161220043 (0.026297896467840073, 0.9902129120879121, None)\n",
      "9.594771241830065 (0.026493282871825737, 0.9904990842490843, None)\n",
      "9.793028322440087 (0.02827551112488516, 0.9898695054945055, None)\n",
      "9.991285403050108 (0.027868564677383793, 0.9901785714285715, None)\n",
      "10.0 (0.027859169752077598, 0.9901920719248059, None)\n",
      "10 (None, None, 0.9496050122582402)\n",
      "10.198257080610022 (0.029626326814580422, 0.9879807692307693, None)\n",
      "10.396514161220043 (0.028018881976834734, 0.9888392857142857, None)\n",
      "10.594771241830065 (0.02486626357317735, 0.9904990842490843, None)\n",
      "10.793028322440087 (0.024251275641010858, 0.990470467032967, None)\n",
      "10.991285403050108 (0.023162087724815317, 0.990728021978022, None)\n",
      "11.0 (0.023246369932565934, 0.990668846206239, None)\n",
      "11 (None, None, 0.9547807137019886)\n",
      "11.198257080610022 (0.01874407536444858, 0.9893543956043956, None)\n",
      "11.396514161220043 (0.018461179028196096, 0.9898695054945055, None)\n",
      "11.594771241830065 (0.023269113354920493, 0.9894688644688645, None)\n",
      "11.793028322440087 (0.02387717531198907, 0.9897836538461539, None)\n",
      "11.991285403050108 (0.023555879059099276, 0.9896291208791209, None)\n",
      "12.0 (0.02350739095494011, 0.9897152976433728, None)\n",
      "12 (None, None, 0.9585943884500137)\n",
      "12.198257080610022 (0.01780368821250254, 0.9910714285714286, None)\n",
      "12.396514161220043 (0.017635842083229242, 0.992445054945055, None)\n",
      "12.594771241830065 (0.0169467024143526, 0.9919871794871795, None)\n",
      "12.793028322440087 (0.01787409141236292, 0.9913289835164835, None)\n",
      "12.991285403050108 (0.01855173395168814, 0.9912087912087912, None)\n",
      "13.0 (0.018570088269258777, 0.9912137310993052, None)\n",
      "13 (None, None, 0.9561427403977117)\n",
      "13.198257080610022 (0.01614884576174318, 0.9914148351648352, None)\n",
      "13.396514161220043 (0.01582881106526826, 0.9927884615384616, None)\n",
      "13.594771241830065 (0.016426804752878832, 0.9923305860805861, None)\n",
      "13.793028322440087 (0.016551555892015082, 0.9920157967032966, None)\n",
      "13.991285403050108 (0.017540317031959133, 0.9918269230769231, None)\n",
      "14.0 (0.017504076845766315, 0.9918948372156382, None)\n",
      "14 (None, None, 0.9585943884500137)\n",
      "14.198257080610022 (0.015148923690123791, 0.9917582417582418, None)\n",
      "14.396514161220043 (0.014260389506919206, 0.9927884615384616, None)\n",
      "14.594771241830065 (0.014611329024507503, 0.9927884615384616, None)\n",
      "14.793028322440087 (0.014152456960700974, 0.9931318681318682, None)\n",
      "14.991285403050108 (0.015037065196032687, 0.9926510989010989, None)\n",
      "15.0 (0.014933036244401404, 0.9927121645552377, None)\n",
      "15 (None, None, 0.9564151457368565)\n",
      "15.198257080610022 (0.013101571987275608, 0.9927884615384616, None)\n",
      "15.396514161220043 (0.01594673928191916, 0.9910714285714286, None)\n",
      "15.594771241830065 (0.015470242568917722, 0.9914148351648352, None)\n",
      "15.793028322440087 (0.01512501154358468, 0.9916723901098901, None)\n",
      "15.991285403050108 (0.015202251184030671, 0.9916208791208792, None)\n",
      "16.0 (0.015122098579902307, 0.9916905053807383, None)\n",
      "16 (None, None, 0.9591391991283029)\n",
      "16.198257080610023 (0.016134062748348627, 0.9900412087912088, None)\n",
      "16.396514161220043 (0.013479488042911136, 0.992445054945055, None)\n",
      "16.594771241830067 (0.015418849374494266, 0.9925595238095238, None)\n",
      "16.793028322440087 (0.015545716986317919, 0.992445054945055, None)\n",
      "16.99128540305011 (0.014889944561598515, 0.9928571428571429, None)\n",
      "17.0 (0.014851066548777664, 0.9929164963901376, None)\n",
      "17 (None, None, 0.9596840098065922)\n",
      "17.198257080610023 (0.00910440037745962, 0.9958791208791209, None)\n",
      "17.396514161220043 (0.010311628026781594, 0.9950206043956044, None)\n",
      "17.594771241830067 (0.011165760770621761, 0.9943910256410257, None)\n",
      "17.793028322440087 (0.012779449662407938, 0.9935611263736264, None)\n",
      "17.99128540305011 (0.013453012872180278, 0.9932005494505495, None)\n",
      "18.0 (0.013353697388390927, 0.9932570494483041, None)\n",
      "18 (None, None, 0.9580495777717243)\n",
      "18.198257080610023 (0.010195883529537082, 0.9958791208791209, None)\n",
      "18.396514161220043 (0.011946458965482364, 0.9938186813186813, None)\n",
      "18.594771241830067 (0.011535183387825986, 0.9938186813186813, None)\n",
      "18.793028322440087 (0.012960981008471028, 0.9932177197802198, None)\n",
      "18.99128540305011 (0.013062186637006772, 0.9929258241758242, None)\n",
      "19.0 (0.01307393794829459, 0.9929164963901376, None)\n",
      "19 (None, None, 0.9602288204848815)\n",
      "19.198257080610023 (0.01145193052886228, 0.9934752747252747, None)\n",
      "19.396514161220043 (0.010792481728508342, 0.9943337912087912, None)\n",
      "19.594771241830067 (0.012916728670068338, 0.9931318681318682, None)\n",
      "19.793028322440087 (0.013084196832106489, 0.9928743131868132, None)\n",
      "19.99128540305011 (0.01304567757677952, 0.9929258241758242, None)\n",
      "20.0 (0.012953178935347181, 0.9929846070017708, None)\n",
      "20 (None, None, 0.957504767093435)\n",
      "loss 0.013, train acc 0.993, test acc 0.958\n",
      "383.7 examples/sec on cuda:0\n"
     ]
    }
   ],
   "source": [
    "print('training on', device)\n",
    "\n",
    "net.to(device)\n",
    "optimizer = torch.optim.SGD(net.parameters(), lr=lr)\n",
    "loss = nn.CrossEntropyLoss(reduction='mean')\n",
    "# animator = d2l.Animator(xlabel='epoch', xlim=[1, num_epochs],\n",
    "#                         legend=['train loss', 'train acc', 'test acc'])\n",
    "\n",
    "timer, num_batches = d2l.Timer(), len(train_iter)\n",
    "for epoch in range(num_epochs):\n",
    "    # Sum of training loss, sum of training accuracy, no. of examples\n",
    "    metric = d2l.Accumulator(3)\n",
    "    net.train()\n",
    "    for i, (X, y) in enumerate(train_iter):\n",
    "        timer.start()\n",
    "        optimizer.zero_grad()\n",
    "        X, y = X.to(device), y.to(device)\n",
    "        y_hat = net(X)\n",
    "        l = loss(y_hat, y)\n",
    "        l.backward()\n",
    "        optimizer.step()\n",
    "        with torch.no_grad():\n",
    "            metric.add(l * X.shape[0], d2l.accuracy(y_hat, y), X.shape[0])\n",
    "        timer.stop()\n",
    "        train_l = metric[0] / metric[2]\n",
    "        train_acc = metric[1] / metric[2]\n",
    "        if ((i + 1)\n",
    "                % (num_batches // 5) == 0 or i == num_batches - 1):\n",
    "            print(epoch + (i + 1) / num_batches, (train_l, train_acc, None))\n",
    "    test_acc = evaluate_accuracy_gpu(net, eval_iter)\n",
    "    print(epoch + 1, (None, None, test_acc))\n",
    "print(f'loss {train_l:.3f}, train acc {train_acc:.3f}, '\n",
    "      f'test acc {test_acc:.3f}')\n",
    "print(f'{metric[2] * num_epochs / timer.sum():.1f} examples/sec '\n",
    "      f'on {str(device)}')"
   ],
   "metadata": {
    "collapsed": false,
    "ExecuteTime": {
     "end_time": "2023-10-12T16:34:47.802922900Z",
     "start_time": "2023-10-12T16:13:46.427236300Z"
    }
   },
   "id": "be73efb85f55c9c9"
  },
  {
   "cell_type": "code",
   "execution_count": 15,
   "outputs": [],
   "source": [
    "## Origin -- test acc: 0.958\n",
    "## Resize -- test acc: 0.965 0.966\n",
    "## Resize and HorizontalFlip and VerticalFlip -- test acc: 0.953 \n",
    "## Resize and HorizontalFlip and VerticalFlip and Rotate and RandomBrightnessContrast and ShiftScaleRotate -- test acc 0.952"
   ],
   "metadata": {
    "collapsed": false,
    "ExecuteTime": {
     "end_time": "2023-10-12T16:34:47.814920800Z",
     "start_time": "2023-10-12T16:34:47.798922600Z"
    }
   },
   "id": "db3953591e56bfd"
  }
 ],
 "metadata": {
  "kernelspec": {
   "display_name": "Python 3",
   "language": "python",
   "name": "python3"
  },
  "language_info": {
   "codemirror_mode": {
    "name": "ipython",
    "version": 2
   },
   "file_extension": ".py",
   "mimetype": "text/x-python",
   "name": "python",
   "nbconvert_exporter": "python",
   "pygments_lexer": "ipython2",
   "version": "2.7.6"
  }
 },
 "nbformat": 4,
 "nbformat_minor": 5
}
